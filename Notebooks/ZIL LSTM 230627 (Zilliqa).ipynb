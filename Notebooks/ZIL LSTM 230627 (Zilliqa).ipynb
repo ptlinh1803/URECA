{
 "cells": [
  {
   "cell_type": "code",
   "execution_count": 1,
   "id": "72311904",
   "metadata": {},
   "outputs": [],
   "source": [
    "import warnings\n",
    "warnings.filterwarnings('ignore')\n",
    "import os\n",
    "import pandas as pd\n",
    "import numpy as np\n",
    "import math\n",
    "import datetime as dt\n",
    "import matplotlib.pyplot as plt\n",
    "\n",
    "from sklearn.metrics import mean_squared_error, mean_absolute_error, explained_variance_score, r2_score \n",
    "from sklearn.metrics import mean_poisson_deviance, mean_gamma_deviance, accuracy_score\n",
    "from sklearn.preprocessing import MinMaxScaler\n",
    "\n",
    "from itertools import product\n",
    "import statsmodels.api as sm\n",
    "\n",
    "import tensorflow as tf\n",
    "\n",
    "from tensorflow.keras.models import Sequential\n",
    "from tensorflow.keras.layers import Dense, Dropout\n",
    "from tensorflow.keras.layers import LSTM\n",
    "\n",
    "from itertools import cycle\n",
    "import plotly.offline as py\n",
    "import plotly.graph_objects as go\n",
    "import plotly.express as px\n",
    "from plotly.subplots import make_subplots\n",
    "\n",
    "plt.style.use('seaborn-darkgrid')"
   ]
  },
  {
   "cell_type": "code",
   "execution_count": 2,
   "id": "59ffa9e4",
   "metadata": {},
   "outputs": [],
   "source": [
    "import torch.nn as nn"
   ]
  },
  {
   "cell_type": "markdown",
   "id": "143c80ba",
   "metadata": {},
   "source": [
    "# Data source"
   ]
  },
  {
   "cell_type": "code",
   "execution_count": 3,
   "id": "bf8c5488",
   "metadata": {},
   "outputs": [],
   "source": [
    "#Data Source\n",
    "import yfinance as yf\n",
    "\n",
    "#Data viz\n",
    "import plotly.graph_objs as go\n",
    "\n",
    "#import date time\n",
    "import datetime"
   ]
  },
  {
   "cell_type": "code",
   "execution_count": 4,
   "id": "e92bcda0",
   "metadata": {},
   "outputs": [],
   "source": [
    "# Set start date as 2014-01-01\n",
    "start_date = datetime.datetime(2014, 9, 16)\n",
    "\n",
    "# Set end date as today's date\n",
    "end_date = datetime.datetime.now().strftime('%Y-%m-%d')"
   ]
  },
  {
   "cell_type": "code",
   "execution_count": 5,
   "id": "4b6f6e15",
   "metadata": {},
   "outputs": [],
   "source": [
    "#coin -- change this to predict other coins\n",
    "ticker = 'ZIL-USD'"
   ]
  },
  {
   "cell_type": "code",
   "execution_count": 6,
   "id": "70512663",
   "metadata": {},
   "outputs": [
    {
     "name": "stdout",
     "output_type": "stream",
     "text": [
      "[*********************100%***********************]  1 of 1 completed\n"
     ]
    }
   ],
   "source": [
    "data = yf.download(tickers=ticker, start=start_date, end=end_date, interval = '1d')"
   ]
  },
  {
   "cell_type": "code",
   "execution_count": 7,
   "id": "4fb3d558",
   "metadata": {},
   "outputs": [],
   "source": [
    "data.drop(columns=['Adj Close'], inplace=True)"
   ]
  },
  {
   "cell_type": "code",
   "execution_count": 8,
   "id": "ddeb41a9",
   "metadata": {},
   "outputs": [
    {
     "data": {
      "text/html": [
       "<div>\n",
       "<style scoped>\n",
       "    .dataframe tbody tr th:only-of-type {\n",
       "        vertical-align: middle;\n",
       "    }\n",
       "\n",
       "    .dataframe tbody tr th {\n",
       "        vertical-align: top;\n",
       "    }\n",
       "\n",
       "    .dataframe thead th {\n",
       "        text-align: right;\n",
       "    }\n",
       "</style>\n",
       "<table border=\"1\" class=\"dataframe\">\n",
       "  <thead>\n",
       "    <tr style=\"text-align: right;\">\n",
       "      <th></th>\n",
       "      <th>Open</th>\n",
       "      <th>High</th>\n",
       "      <th>Low</th>\n",
       "      <th>Close</th>\n",
       "      <th>Volume</th>\n",
       "    </tr>\n",
       "    <tr>\n",
       "      <th>Date</th>\n",
       "      <th></th>\n",
       "      <th></th>\n",
       "      <th></th>\n",
       "      <th></th>\n",
       "      <th></th>\n",
       "    </tr>\n",
       "  </thead>\n",
       "  <tbody>\n",
       "    <tr>\n",
       "      <th>2018-01-25</th>\n",
       "      <td>0.136822</td>\n",
       "      <td>0.136822</td>\n",
       "      <td>0.135573</td>\n",
       "      <td>0.136039</td>\n",
       "      <td>4921770</td>\n",
       "    </tr>\n",
       "    <tr>\n",
       "      <th>2018-01-26</th>\n",
       "      <td>0.135555</td>\n",
       "      <td>0.159557</td>\n",
       "      <td>0.091337</td>\n",
       "      <td>0.119375</td>\n",
       "      <td>13714100</td>\n",
       "    </tr>\n",
       "    <tr>\n",
       "      <th>2018-01-27</th>\n",
       "      <td>0.118157</td>\n",
       "      <td>0.120932</td>\n",
       "      <td>0.091614</td>\n",
       "      <td>0.100976</td>\n",
       "      <td>7967360</td>\n",
       "    </tr>\n",
       "    <tr>\n",
       "      <th>2018-01-28</th>\n",
       "      <td>0.101224</td>\n",
       "      <td>0.112499</td>\n",
       "      <td>0.095968</td>\n",
       "      <td>0.097296</td>\n",
       "      <td>20910700</td>\n",
       "    </tr>\n",
       "    <tr>\n",
       "      <th>2018-01-29</th>\n",
       "      <td>0.097167</td>\n",
       "      <td>0.099824</td>\n",
       "      <td>0.077958</td>\n",
       "      <td>0.089272</td>\n",
       "      <td>12441600</td>\n",
       "    </tr>\n",
       "    <tr>\n",
       "      <th>2018-01-30</th>\n",
       "      <td>0.089484</td>\n",
       "      <td>0.090735</td>\n",
       "      <td>0.072537</td>\n",
       "      <td>0.075442</td>\n",
       "      <td>7572320</td>\n",
       "    </tr>\n",
       "    <tr>\n",
       "      <th>2018-01-31</th>\n",
       "      <td>0.075515</td>\n",
       "      <td>0.086975</td>\n",
       "      <td>0.073689</td>\n",
       "      <td>0.079578</td>\n",
       "      <td>17593500</td>\n",
       "    </tr>\n",
       "    <tr>\n",
       "      <th>2018-02-01</th>\n",
       "      <td>0.079713</td>\n",
       "      <td>0.085468</td>\n",
       "      <td>0.061182</td>\n",
       "      <td>0.070627</td>\n",
       "      <td>17695000</td>\n",
       "    </tr>\n",
       "    <tr>\n",
       "      <th>2018-02-02</th>\n",
       "      <td>0.070437</td>\n",
       "      <td>0.072434</td>\n",
       "      <td>0.055514</td>\n",
       "      <td>0.071312</td>\n",
       "      <td>10075100</td>\n",
       "    </tr>\n",
       "    <tr>\n",
       "      <th>2018-02-03</th>\n",
       "      <td>0.071983</td>\n",
       "      <td>0.078081</td>\n",
       "      <td>0.066921</td>\n",
       "      <td>0.077856</td>\n",
       "      <td>12201700</td>\n",
       "    </tr>\n",
       "  </tbody>\n",
       "</table>\n",
       "</div>"
      ],
      "text/plain": [
       "                Open      High       Low     Close    Volume\n",
       "Date                                                        \n",
       "2018-01-25  0.136822  0.136822  0.135573  0.136039   4921770\n",
       "2018-01-26  0.135555  0.159557  0.091337  0.119375  13714100\n",
       "2018-01-27  0.118157  0.120932  0.091614  0.100976   7967360\n",
       "2018-01-28  0.101224  0.112499  0.095968  0.097296  20910700\n",
       "2018-01-29  0.097167  0.099824  0.077958  0.089272  12441600\n",
       "2018-01-30  0.089484  0.090735  0.072537  0.075442   7572320\n",
       "2018-01-31  0.075515  0.086975  0.073689  0.079578  17593500\n",
       "2018-02-01  0.079713  0.085468  0.061182  0.070627  17695000\n",
       "2018-02-02  0.070437  0.072434  0.055514  0.071312  10075100\n",
       "2018-02-03  0.071983  0.078081  0.066921  0.077856  12201700"
      ]
     },
     "execution_count": 8,
     "metadata": {},
     "output_type": "execute_result"
    }
   ],
   "source": [
    "data.head(10)"
   ]
  },
  {
   "cell_type": "code",
   "execution_count": 9,
   "id": "e0c571bb",
   "metadata": {},
   "outputs": [
    {
     "data": {
      "text/plain": [
       "(1978, 5)"
      ]
     },
     "execution_count": 9,
     "metadata": {},
     "output_type": "execute_result"
    }
   ],
   "source": [
    "data.shape"
   ]
  },
  {
   "cell_type": "code",
   "execution_count": 10,
   "id": "7515ba93",
   "metadata": {},
   "outputs": [
    {
     "data": {
      "text/html": [
       "<div>\n",
       "<style scoped>\n",
       "    .dataframe tbody tr th:only-of-type {\n",
       "        vertical-align: middle;\n",
       "    }\n",
       "\n",
       "    .dataframe tbody tr th {\n",
       "        vertical-align: top;\n",
       "    }\n",
       "\n",
       "    .dataframe thead th {\n",
       "        text-align: right;\n",
       "    }\n",
       "</style>\n",
       "<table border=\"1\" class=\"dataframe\">\n",
       "  <thead>\n",
       "    <tr style=\"text-align: right;\">\n",
       "      <th></th>\n",
       "      <th>Open</th>\n",
       "      <th>High</th>\n",
       "      <th>Low</th>\n",
       "      <th>Close</th>\n",
       "      <th>Volume</th>\n",
       "    </tr>\n",
       "    <tr>\n",
       "      <th>Date</th>\n",
       "      <th></th>\n",
       "      <th></th>\n",
       "      <th></th>\n",
       "      <th></th>\n",
       "      <th></th>\n",
       "    </tr>\n",
       "  </thead>\n",
       "  <tbody>\n",
       "    <tr>\n",
       "      <th>2018-01-25</th>\n",
       "      <td>0.136822</td>\n",
       "      <td>0.136822</td>\n",
       "      <td>0.135573</td>\n",
       "      <td>0.136039</td>\n",
       "      <td>4921770</td>\n",
       "    </tr>\n",
       "    <tr>\n",
       "      <th>2018-01-26</th>\n",
       "      <td>0.135555</td>\n",
       "      <td>0.159557</td>\n",
       "      <td>0.091337</td>\n",
       "      <td>0.119375</td>\n",
       "      <td>13714100</td>\n",
       "    </tr>\n",
       "    <tr>\n",
       "      <th>2018-01-27</th>\n",
       "      <td>0.118157</td>\n",
       "      <td>0.120932</td>\n",
       "      <td>0.091614</td>\n",
       "      <td>0.100976</td>\n",
       "      <td>7967360</td>\n",
       "    </tr>\n",
       "    <tr>\n",
       "      <th>2018-01-28</th>\n",
       "      <td>0.101224</td>\n",
       "      <td>0.112499</td>\n",
       "      <td>0.095968</td>\n",
       "      <td>0.097296</td>\n",
       "      <td>20910700</td>\n",
       "    </tr>\n",
       "    <tr>\n",
       "      <th>2018-01-29</th>\n",
       "      <td>0.097167</td>\n",
       "      <td>0.099824</td>\n",
       "      <td>0.077958</td>\n",
       "      <td>0.089272</td>\n",
       "      <td>12441600</td>\n",
       "    </tr>\n",
       "    <tr>\n",
       "      <th>2018-01-30</th>\n",
       "      <td>0.089484</td>\n",
       "      <td>0.090735</td>\n",
       "      <td>0.072537</td>\n",
       "      <td>0.075442</td>\n",
       "      <td>7572320</td>\n",
       "    </tr>\n",
       "    <tr>\n",
       "      <th>2018-01-31</th>\n",
       "      <td>0.075515</td>\n",
       "      <td>0.086975</td>\n",
       "      <td>0.073689</td>\n",
       "      <td>0.079578</td>\n",
       "      <td>17593500</td>\n",
       "    </tr>\n",
       "    <tr>\n",
       "      <th>2018-02-01</th>\n",
       "      <td>0.079713</td>\n",
       "      <td>0.085468</td>\n",
       "      <td>0.061182</td>\n",
       "      <td>0.070627</td>\n",
       "      <td>17695000</td>\n",
       "    </tr>\n",
       "    <tr>\n",
       "      <th>2018-02-02</th>\n",
       "      <td>0.070437</td>\n",
       "      <td>0.072434</td>\n",
       "      <td>0.055514</td>\n",
       "      <td>0.071312</td>\n",
       "      <td>10075100</td>\n",
       "    </tr>\n",
       "    <tr>\n",
       "      <th>2018-02-03</th>\n",
       "      <td>0.071983</td>\n",
       "      <td>0.078081</td>\n",
       "      <td>0.066921</td>\n",
       "      <td>0.077856</td>\n",
       "      <td>12201700</td>\n",
       "    </tr>\n",
       "  </tbody>\n",
       "</table>\n",
       "</div>"
      ],
      "text/plain": [
       "                Open      High       Low     Close    Volume\n",
       "Date                                                        \n",
       "2018-01-25  0.136822  0.136822  0.135573  0.136039   4921770\n",
       "2018-01-26  0.135555  0.159557  0.091337  0.119375  13714100\n",
       "2018-01-27  0.118157  0.120932  0.091614  0.100976   7967360\n",
       "2018-01-28  0.101224  0.112499  0.095968  0.097296  20910700\n",
       "2018-01-29  0.097167  0.099824  0.077958  0.089272  12441600\n",
       "2018-01-30  0.089484  0.090735  0.072537  0.075442   7572320\n",
       "2018-01-31  0.075515  0.086975  0.073689  0.079578  17593500\n",
       "2018-02-01  0.079713  0.085468  0.061182  0.070627  17695000\n",
       "2018-02-02  0.070437  0.072434  0.055514  0.071312  10075100\n",
       "2018-02-03  0.071983  0.078081  0.066921  0.077856  12201700"
      ]
     },
     "execution_count": 10,
     "metadata": {},
     "output_type": "execute_result"
    }
   ],
   "source": [
    "data.head(10)"
   ]
  },
  {
   "cell_type": "code",
   "execution_count": 11,
   "id": "ed34ea1f",
   "metadata": {},
   "outputs": [
    {
     "name": "stdout",
     "output_type": "stream",
     "text": [
      "<class 'pandas.core.frame.DataFrame'>\n",
      "DatetimeIndex: 1978 entries, 2018-01-25 to 2023-06-25\n",
      "Data columns (total 5 columns):\n",
      " #   Column  Non-Null Count  Dtype  \n",
      "---  ------  --------------  -----  \n",
      " 0   Open    1978 non-null   float64\n",
      " 1   High    1978 non-null   float64\n",
      " 2   Low     1978 non-null   float64\n",
      " 3   Close   1978 non-null   float64\n",
      " 4   Volume  1978 non-null   int64  \n",
      "dtypes: float64(4), int64(1)\n",
      "memory usage: 92.7 KB\n"
     ]
    }
   ],
   "source": [
    "data.info()\n",
    "#data.dtypes"
   ]
  },
  {
   "cell_type": "code",
   "execution_count": 12,
   "id": "6be04616",
   "metadata": {},
   "outputs": [
    {
     "data": {
      "text/html": [
       "<div>\n",
       "<style scoped>\n",
       "    .dataframe tbody tr th:only-of-type {\n",
       "        vertical-align: middle;\n",
       "    }\n",
       "\n",
       "    .dataframe tbody tr th {\n",
       "        vertical-align: top;\n",
       "    }\n",
       "\n",
       "    .dataframe thead th {\n",
       "        text-align: right;\n",
       "    }\n",
       "</style>\n",
       "<table border=\"1\" class=\"dataframe\">\n",
       "  <thead>\n",
       "    <tr style=\"text-align: right;\">\n",
       "      <th></th>\n",
       "      <th>Open</th>\n",
       "      <th>High</th>\n",
       "      <th>Low</th>\n",
       "      <th>Close</th>\n",
       "      <th>Volume</th>\n",
       "    </tr>\n",
       "  </thead>\n",
       "  <tbody>\n",
       "    <tr>\n",
       "      <th>count</th>\n",
       "      <td>1978.000000</td>\n",
       "      <td>1978.000000</td>\n",
       "      <td>1978.000000</td>\n",
       "      <td>1978.000000</td>\n",
       "      <td>1.978000e+03</td>\n",
       "    </tr>\n",
       "    <tr>\n",
       "      <th>mean</th>\n",
       "      <td>0.047390</td>\n",
       "      <td>0.049955</td>\n",
       "      <td>0.044728</td>\n",
       "      <td>0.047318</td>\n",
       "      <td>4.076412e+08</td>\n",
       "    </tr>\n",
       "    <tr>\n",
       "      <th>std</th>\n",
       "      <td>0.044426</td>\n",
       "      <td>0.047494</td>\n",
       "      <td>0.041337</td>\n",
       "      <td>0.044361</td>\n",
       "      <td>1.378688e+10</td>\n",
       "    </tr>\n",
       "    <tr>\n",
       "      <th>min</th>\n",
       "      <td>0.003237</td>\n",
       "      <td>0.003533</td>\n",
       "      <td>0.002477</td>\n",
       "      <td>0.003264</td>\n",
       "      <td>2.820296e+06</td>\n",
       "    </tr>\n",
       "    <tr>\n",
       "      <th>25%</th>\n",
       "      <td>0.017925</td>\n",
       "      <td>0.018429</td>\n",
       "      <td>0.017222</td>\n",
       "      <td>0.017904</td>\n",
       "      <td>1.348492e+07</td>\n",
       "    </tr>\n",
       "    <tr>\n",
       "      <th>50%</th>\n",
       "      <td>0.031111</td>\n",
       "      <td>0.032262</td>\n",
       "      <td>0.030249</td>\n",
       "      <td>0.031100</td>\n",
       "      <td>3.539868e+07</td>\n",
       "    </tr>\n",
       "    <tr>\n",
       "      <th>75%</th>\n",
       "      <td>0.067342</td>\n",
       "      <td>0.071474</td>\n",
       "      <td>0.063509</td>\n",
       "      <td>0.067247</td>\n",
       "      <td>9.474976e+07</td>\n",
       "    </tr>\n",
       "    <tr>\n",
       "      <th>max</th>\n",
       "      <td>0.237039</td>\n",
       "      <td>0.256293</td>\n",
       "      <td>0.223141</td>\n",
       "      <td>0.237616</td>\n",
       "      <td>6.131225e+11</td>\n",
       "    </tr>\n",
       "  </tbody>\n",
       "</table>\n",
       "</div>"
      ],
      "text/plain": [
       "              Open         High          Low        Close        Volume\n",
       "count  1978.000000  1978.000000  1978.000000  1978.000000  1.978000e+03\n",
       "mean      0.047390     0.049955     0.044728     0.047318  4.076412e+08\n",
       "std       0.044426     0.047494     0.041337     0.044361  1.378688e+10\n",
       "min       0.003237     0.003533     0.002477     0.003264  2.820296e+06\n",
       "25%       0.017925     0.018429     0.017222     0.017904  1.348492e+07\n",
       "50%       0.031111     0.032262     0.030249     0.031100  3.539868e+07\n",
       "75%       0.067342     0.071474     0.063509     0.067247  9.474976e+07\n",
       "max       0.237039     0.256293     0.223141     0.237616  6.131225e+11"
      ]
     },
     "execution_count": 12,
     "metadata": {},
     "output_type": "execute_result"
    }
   ],
   "source": [
    "data.describe()"
   ]
  },
  {
   "cell_type": "code",
   "execution_count": 13,
   "id": "b2d5b8a7",
   "metadata": {},
   "outputs": [
    {
     "name": "stdout",
     "output_type": "stream",
     "text": [
      "Null Values: 0\n",
      "If any NA values: False\n"
     ]
    }
   ],
   "source": [
    "print('Null Values:', data.isnull().values.sum())\n",
    "print('If any NA values:', data.isnull().values.any())"
   ]
  },
  {
   "cell_type": "code",
   "execution_count": 14,
   "id": "a151c46c",
   "metadata": {},
   "outputs": [
    {
     "data": {
      "text/html": [
       "<div>\n",
       "<style scoped>\n",
       "    .dataframe tbody tr th:only-of-type {\n",
       "        vertical-align: middle;\n",
       "    }\n",
       "\n",
       "    .dataframe tbody tr th {\n",
       "        vertical-align: top;\n",
       "    }\n",
       "\n",
       "    .dataframe thead th {\n",
       "        text-align: right;\n",
       "    }\n",
       "</style>\n",
       "<table border=\"1\" class=\"dataframe\">\n",
       "  <thead>\n",
       "    <tr style=\"text-align: right;\">\n",
       "      <th></th>\n",
       "      <th>Open</th>\n",
       "      <th>High</th>\n",
       "      <th>Low</th>\n",
       "      <th>Close</th>\n",
       "      <th>Volume</th>\n",
       "    </tr>\n",
       "    <tr>\n",
       "      <th>Date</th>\n",
       "      <th></th>\n",
       "      <th></th>\n",
       "      <th></th>\n",
       "      <th></th>\n",
       "      <th></th>\n",
       "    </tr>\n",
       "  </thead>\n",
       "  <tbody>\n",
       "    <tr>\n",
       "      <th>2023-06-16</th>\n",
       "      <td>0.016983</td>\n",
       "      <td>0.017473</td>\n",
       "      <td>0.016733</td>\n",
       "      <td>0.017342</td>\n",
       "      <td>11348670</td>\n",
       "    </tr>\n",
       "    <tr>\n",
       "      <th>2023-06-17</th>\n",
       "      <td>0.017342</td>\n",
       "      <td>0.017904</td>\n",
       "      <td>0.017266</td>\n",
       "      <td>0.017653</td>\n",
       "      <td>10842738</td>\n",
       "    </tr>\n",
       "    <tr>\n",
       "      <th>2023-06-18</th>\n",
       "      <td>0.017652</td>\n",
       "      <td>0.017799</td>\n",
       "      <td>0.017246</td>\n",
       "      <td>0.017277</td>\n",
       "      <td>11041311</td>\n",
       "    </tr>\n",
       "    <tr>\n",
       "      <th>2023-06-19</th>\n",
       "      <td>0.017277</td>\n",
       "      <td>0.017569</td>\n",
       "      <td>0.017193</td>\n",
       "      <td>0.017377</td>\n",
       "      <td>10571677</td>\n",
       "    </tr>\n",
       "    <tr>\n",
       "      <th>2023-06-20</th>\n",
       "      <td>0.017378</td>\n",
       "      <td>0.018200</td>\n",
       "      <td>0.017071</td>\n",
       "      <td>0.018198</td>\n",
       "      <td>15055286</td>\n",
       "    </tr>\n",
       "    <tr>\n",
       "      <th>2023-06-21</th>\n",
       "      <td>0.018196</td>\n",
       "      <td>0.019138</td>\n",
       "      <td>0.018142</td>\n",
       "      <td>0.019005</td>\n",
       "      <td>19561768</td>\n",
       "    </tr>\n",
       "    <tr>\n",
       "      <th>2023-06-22</th>\n",
       "      <td>0.019002</td>\n",
       "      <td>0.019682</td>\n",
       "      <td>0.018852</td>\n",
       "      <td>0.018935</td>\n",
       "      <td>17772343</td>\n",
       "    </tr>\n",
       "    <tr>\n",
       "      <th>2023-06-23</th>\n",
       "      <td>0.018935</td>\n",
       "      <td>0.021683</td>\n",
       "      <td>0.018883</td>\n",
       "      <td>0.020531</td>\n",
       "      <td>85115105</td>\n",
       "    </tr>\n",
       "    <tr>\n",
       "      <th>2023-06-24</th>\n",
       "      <td>0.020533</td>\n",
       "      <td>0.021267</td>\n",
       "      <td>0.020302</td>\n",
       "      <td>0.021230</td>\n",
       "      <td>42639464</td>\n",
       "    </tr>\n",
       "    <tr>\n",
       "      <th>2023-06-25</th>\n",
       "      <td>0.021227</td>\n",
       "      <td>0.022442</td>\n",
       "      <td>0.020516</td>\n",
       "      <td>0.020665</td>\n",
       "      <td>37553258</td>\n",
       "    </tr>\n",
       "  </tbody>\n",
       "</table>\n",
       "</div>"
      ],
      "text/plain": [
       "                Open      High       Low     Close    Volume\n",
       "Date                                                        \n",
       "2023-06-16  0.016983  0.017473  0.016733  0.017342  11348670\n",
       "2023-06-17  0.017342  0.017904  0.017266  0.017653  10842738\n",
       "2023-06-18  0.017652  0.017799  0.017246  0.017277  11041311\n",
       "2023-06-19  0.017277  0.017569  0.017193  0.017377  10571677\n",
       "2023-06-20  0.017378  0.018200  0.017071  0.018198  15055286\n",
       "2023-06-21  0.018196  0.019138  0.018142  0.019005  19561768\n",
       "2023-06-22  0.019002  0.019682  0.018852  0.018935  17772343\n",
       "2023-06-23  0.018935  0.021683  0.018883  0.020531  85115105\n",
       "2023-06-24  0.020533  0.021267  0.020302  0.021230  42639464\n",
       "2023-06-25  0.021227  0.022442  0.020516  0.020665  37553258"
      ]
     },
     "execution_count": 14,
     "metadata": {},
     "output_type": "execute_result"
    }
   ],
   "source": [
    "data.tail(10)"
   ]
  },
  {
   "cell_type": "code",
   "execution_count": 15,
   "id": "bde8f605",
   "metadata": {},
   "outputs": [
    {
     "data": {
      "text/plain": [
       "<AxesSubplot:title={'center':'Bitcoin Weighted Price'}, xlabel='Date'>"
      ]
     },
     "execution_count": 15,
     "metadata": {},
     "output_type": "execute_result"
    },
    {
     "data": {
      "image/png": "[encoded data removed]",
      "text/plain": [
       "<Figure size 1728x504 with 1 Axes>"
      ]
     },
     "metadata": {},
     "output_type": "display_data"
    }
   ],
   "source": [
    "data.Close.plot(figsize=(24,7), title=\"Bitcoin Weighted Price\")"
   ]
  },
  {
   "cell_type": "markdown",
   "id": "2d9c371e",
   "metadata": {},
   "source": [
    "# Lag plot\n",
    "Lag plot are used to observe the autocorrelation. These are crucial when we try to correct the trend and stationarity and we have to use smoothing functions. Lag plot helps us to understand the data better."
   ]
  },
  {
   "cell_type": "code",
   "execution_count": 16,
   "id": "f1de296b",
   "metadata": {},
   "outputs": [
    {
     "data": {
      "image/png": "[encoded data removed]",
      "text/plain": [
       "<Figure size 1080x864 with 1 Axes>"
      ]
     },
     "metadata": {},
     "output_type": "display_data"
    }
   ],
   "source": [
    "plt.figure(figsize=(15,12))\n",
    "\n",
    "# Create a lag plot with a lag of 1 day\n",
    "pd.plotting.lag_plot(data['Close'], lag=1)\n",
    "\n",
    "# Set plot title and labels\n",
    "plt.title('Bitcoin Close Price Lag Plot (1 day)')\n",
    "plt.xlabel('Close Price (lagged)')\n",
    "plt.ylabel('Close Price (current)')\n",
    "\n",
    "# Display the plot\n",
    "plt.show()"
   ]
  },
  {
   "cell_type": "markdown",
   "id": "48e90ee0",
   "metadata": {},
   "source": [
    "In the lag plot of 1 day for Bitcoin's close price, a strong positive slope straight line is observed. This indicates the presence of a significant positive autocorrelation in the data. The positive autocorrelation suggests that the current day's close price is positively related to the previous day's close price. In other words, when the close price increases on a particular day, there is a higher likelihood of it increasing on the following day as well. This pattern implies the existence of short-term momentum or serial dependence in Bitcoin's close price. However, it is important to further validate this inference using statistical tests and consider additional analysis techniques before making any investment decisions."
   ]
  },
  {
   "cell_type": "markdown",
   "id": "6e5f55c1",
   "metadata": {},
   "source": [
    "# Define input and output"
   ]
  },
  {
   "cell_type": "code",
   "execution_count": 17,
   "id": "3d870765",
   "metadata": {},
   "outputs": [
    {
     "data": {
      "text/plain": [
       "((1978, 4), (1978,))"
      ]
     },
     "execution_count": 17,
     "metadata": {},
     "output_type": "execute_result"
    }
   ],
   "source": [
    "# Our input vector will consists of everything except our target, \"Closing Price\"\n",
    "X, y = data.drop(columns=['Close']), data.Close.values\n",
    "X.shape, y.shape"
   ]
  },
  {
   "cell_type": "code",
   "execution_count": 18,
   "id": "88fda819",
   "metadata": {},
   "outputs": [
    {
     "data": {
      "text/html": [
       "<div>\n",
       "<style scoped>\n",
       "    .dataframe tbody tr th:only-of-type {\n",
       "        vertical-align: middle;\n",
       "    }\n",
       "\n",
       "    .dataframe tbody tr th {\n",
       "        vertical-align: top;\n",
       "    }\n",
       "\n",
       "    .dataframe thead th {\n",
       "        text-align: right;\n",
       "    }\n",
       "</style>\n",
       "<table border=\"1\" class=\"dataframe\">\n",
       "  <thead>\n",
       "    <tr style=\"text-align: right;\">\n",
       "      <th></th>\n",
       "      <th>Open</th>\n",
       "      <th>High</th>\n",
       "      <th>Low</th>\n",
       "      <th>Volume</th>\n",
       "    </tr>\n",
       "    <tr>\n",
       "      <th>Date</th>\n",
       "      <th></th>\n",
       "      <th></th>\n",
       "      <th></th>\n",
       "      <th></th>\n",
       "    </tr>\n",
       "  </thead>\n",
       "  <tbody>\n",
       "    <tr>\n",
       "      <th>2018-01-25</th>\n",
       "      <td>0.136822</td>\n",
       "      <td>0.136822</td>\n",
       "      <td>0.135573</td>\n",
       "      <td>4921770</td>\n",
       "    </tr>\n",
       "    <tr>\n",
       "      <th>2018-01-26</th>\n",
       "      <td>0.135555</td>\n",
       "      <td>0.159557</td>\n",
       "      <td>0.091337</td>\n",
       "      <td>13714100</td>\n",
       "    </tr>\n",
       "    <tr>\n",
       "      <th>2018-01-27</th>\n",
       "      <td>0.118157</td>\n",
       "      <td>0.120932</td>\n",
       "      <td>0.091614</td>\n",
       "      <td>7967360</td>\n",
       "    </tr>\n",
       "    <tr>\n",
       "      <th>2018-01-28</th>\n",
       "      <td>0.101224</td>\n",
       "      <td>0.112499</td>\n",
       "      <td>0.095968</td>\n",
       "      <td>20910700</td>\n",
       "    </tr>\n",
       "    <tr>\n",
       "      <th>2018-01-29</th>\n",
       "      <td>0.097167</td>\n",
       "      <td>0.099824</td>\n",
       "      <td>0.077958</td>\n",
       "      <td>12441600</td>\n",
       "    </tr>\n",
       "    <tr>\n",
       "      <th>...</th>\n",
       "      <td>...</td>\n",
       "      <td>...</td>\n",
       "      <td>...</td>\n",
       "      <td>...</td>\n",
       "    </tr>\n",
       "    <tr>\n",
       "      <th>2023-06-21</th>\n",
       "      <td>0.018196</td>\n",
       "      <td>0.019138</td>\n",
       "      <td>0.018142</td>\n",
       "      <td>19561768</td>\n",
       "    </tr>\n",
       "    <tr>\n",
       "      <th>2023-06-22</th>\n",
       "      <td>0.019002</td>\n",
       "      <td>0.019682</td>\n",
       "      <td>0.018852</td>\n",
       "      <td>17772343</td>\n",
       "    </tr>\n",
       "    <tr>\n",
       "      <th>2023-06-23</th>\n",
       "      <td>0.018935</td>\n",
       "      <td>0.021683</td>\n",
       "      <td>0.018883</td>\n",
       "      <td>85115105</td>\n",
       "    </tr>\n",
       "    <tr>\n",
       "      <th>2023-06-24</th>\n",
       "      <td>0.020533</td>\n",
       "      <td>0.021267</td>\n",
       "      <td>0.020302</td>\n",
       "      <td>42639464</td>\n",
       "    </tr>\n",
       "    <tr>\n",
       "      <th>2023-06-25</th>\n",
       "      <td>0.021227</td>\n",
       "      <td>0.022442</td>\n",
       "      <td>0.020516</td>\n",
       "      <td>37553258</td>\n",
       "    </tr>\n",
       "  </tbody>\n",
       "</table>\n",
       "<p>1978 rows × 4 columns</p>\n",
       "</div>"
      ],
      "text/plain": [
       "                Open      High       Low    Volume\n",
       "Date                                              \n",
       "2018-01-25  0.136822  0.136822  0.135573   4921770\n",
       "2018-01-26  0.135555  0.159557  0.091337  13714100\n",
       "2018-01-27  0.118157  0.120932  0.091614   7967360\n",
       "2018-01-28  0.101224  0.112499  0.095968  20910700\n",
       "2018-01-29  0.097167  0.099824  0.077958  12441600\n",
       "...              ...       ...       ...       ...\n",
       "2023-06-21  0.018196  0.019138  0.018142  19561768\n",
       "2023-06-22  0.019002  0.019682  0.018852  17772343\n",
       "2023-06-23  0.018935  0.021683  0.018883  85115105\n",
       "2023-06-24  0.020533  0.021267  0.020302  42639464\n",
       "2023-06-25  0.021227  0.022442  0.020516  37553258\n",
       "\n",
       "[1978 rows x 4 columns]"
      ]
     },
     "execution_count": 18,
     "metadata": {},
     "output_type": "execute_result"
    }
   ],
   "source": [
    "X"
   ]
  },
  {
   "cell_type": "code",
   "execution_count": 19,
   "id": "86a1247d",
   "metadata": {},
   "outputs": [
    {
     "data": {
      "text/plain": [
       "array([0.136039, 0.119375, 0.100976, ..., 0.020531, 0.02123 , 0.020665])"
      ]
     },
     "execution_count": 19,
     "metadata": {},
     "output_type": "execute_result"
    }
   ],
   "source": [
    "y"
   ]
  },
  {
   "cell_type": "markdown",
   "id": "bcd3ae60",
   "metadata": {},
   "source": [
    "# Preprocessing data"
   ]
  },
  {
   "cell_type": "code",
   "execution_count": 20,
   "id": "d8583b10",
   "metadata": {},
   "outputs": [
    {
     "data": {
      "text/plain": [
       "array([[ 2.01358828,  1.82947659,  2.19823716, -0.02921773],\n",
       "       [ 1.98506148,  2.3082925 ,  1.12782443, -0.02857984],\n",
       "       [ 1.59334176,  1.49482138,  1.13452716, -0.02899677],\n",
       "       ...,\n",
       "       [-0.64066295, -0.59543593, -0.62540129, -0.02339962],\n",
       "       [-0.60468366, -0.60419719, -0.59106464, -0.02648127],\n",
       "       [-0.58905808, -0.57945083, -0.58588629, -0.02685028]])"
      ]
     },
     "execution_count": 20,
     "metadata": {},
     "output_type": "execute_result"
    }
   ],
   "source": [
    "from sklearn.preprocessing import StandardScaler, MinMaxScaler\n",
    "mm = MinMaxScaler()\n",
    "ss = StandardScaler()\n",
    "\n",
    "X_trans = ss.fit_transform(X)\n",
    "y_trans = mm.fit_transform(y.reshape(-1, 1))\n",
    "X_trans"
   ]
  },
  {
   "cell_type": "markdown",
   "id": "3a892fa5",
   "metadata": {},
   "source": [
    "Now comes the slightly fiddly part. We want to feed in 100 samples, up to the current day, and predict the next 50 time step values. To do this, we need a special function to ensure that the corresponding indices of X and y represent this structure. Examine this function carefully, but essentially it just boils down to getting 100 samples from X, then looking at the 50 next indices in y, and patching these together. Note that because of this we'll throw out the first 50 values of y."
   ]
  },
  {
   "cell_type": "code",
   "execution_count": 21,
   "id": "905d4869",
   "metadata": {},
   "outputs": [
    {
     "name": "stdout",
     "output_type": "stream",
     "text": [
      "(1830, 100, 4) (1830, 50)\n"
     ]
    }
   ],
   "source": [
    "# split a multivariate sequence past, future samples (X and y)\n",
    "def split_sequences(input_sequences, output_sequence, n_steps_in, n_steps_out):\n",
    "    X, y = list(), list() # instantiate X and y\n",
    "    for i in range(len(input_sequences)):\n",
    "        # find the end of the input, output sequence\n",
    "        end_ix = i + n_steps_in\n",
    "        out_end_ix = end_ix + n_steps_out - 1\n",
    "        # check if we are beyond the dataset\n",
    "        if out_end_ix > len(input_sequences): break\n",
    "        # gather input and output of the pattern\n",
    "        seq_x, seq_y = input_sequences[i:end_ix], output_sequence[end_ix-1:out_end_ix, -1]\n",
    "        X.append(seq_x), y.append(seq_y)\n",
    "    return np.array(X), np.array(y)\n",
    "\n",
    "X_ss, y_mm = split_sequences(X_trans, y_trans, 100, 50)\n",
    "print(X_ss.shape, y_mm.shape)"
   ]
  },
  {
   "cell_type": "code",
   "execution_count": 22,
   "id": "a84ea89c",
   "metadata": {},
   "outputs": [],
   "source": [
    "assert y_mm[0].all() == y_trans[99:149].squeeze(1).all()"
   ]
  },
  {
   "cell_type": "code",
   "execution_count": 23,
   "id": "d2ee53ff",
   "metadata": {},
   "outputs": [
    {
     "data": {
      "text/plain": [
       "array([0.55065457, 0.62354062, 0.57261298, 0.55696133, 0.6337902 ,\n",
       "       0.84089746, 0.77526113, 0.70182036, 0.74148719, 0.72223405,\n",
       "       0.6914812 , 0.63366646, 0.58921197, 0.5667543 , 0.57747745,\n",
       "       0.59877451, 0.62266163, 0.59678178, 0.5709147 , 0.49689357,\n",
       "       0.52177918, 0.50739058, 0.49764456, 0.48555591, 0.41496125,\n",
       "       0.46652471, 0.46155354, 0.46903801, 0.46554754, 0.49651378,\n",
       "       0.53418364, 0.50701934, 0.53028775, 0.54832903, 0.5472238 ,\n",
       "       0.52930632, 0.50364408, 0.43142792, 0.43589982, 0.38221563,\n",
       "       0.35010157, 0.39020363, 0.3593782 , 0.35191932, 0.34923961,\n",
       "       0.35865705, 0.36857376, 0.36151601, 0.34672202, 0.29059278])"
      ]
     },
     "execution_count": 23,
     "metadata": {},
     "output_type": "execute_result"
    }
   ],
   "source": [
    "y_mm[0]"
   ]
  },
  {
   "cell_type": "code",
   "execution_count": 24,
   "id": "2dd86f45",
   "metadata": {},
   "outputs": [
    {
     "name": "stdout",
     "output_type": "stream",
     "text": [
      "Training Shape: (1680, 100, 4) (1680, 50)\n",
      "Testing Shape: (150, 100, 4) (150, 50)\n"
     ]
    }
   ],
   "source": [
    "total_samples = len(X)\n",
    "train_test_cutoff = round(0.90 * total_samples)\n",
    "\n",
    "X_train = X_ss[:-150]\n",
    "X_test = X_ss[-150:]\n",
    "\n",
    "y_train = y_mm[:-150]\n",
    "y_test = y_mm[-150:] \n",
    "\n",
    "print(\"Training Shape:\", X_train.shape, y_train.shape)\n",
    "print(\"Testing Shape:\", X_test.shape, y_test.shape) "
   ]
  },
  {
   "cell_type": "code",
   "execution_count": 25,
   "id": "3b1f2512",
   "metadata": {},
   "outputs": [
    {
     "name": "stdout",
     "output_type": "stream",
     "text": [
      "150\n"
     ]
    }
   ],
   "source": [
    "import torch\n",
    "from torch.autograd import Variable\n",
    "# convert to pytorch tensors\n",
    "X_train_tensors = Variable(torch.Tensor(X_train))\n",
    "print(len(X_test))\n",
    "X_test_tensors = Variable(torch.Tensor(X_test))\n",
    "\n",
    "y_train_tensors = Variable(torch.Tensor(y_train))\n",
    "y_test_tensors = Variable(torch.Tensor(y_test))"
   ]
  },
  {
   "cell_type": "code",
   "execution_count": 26,
   "id": "1d1a0c96",
   "metadata": {},
   "outputs": [
    {
     "name": "stdout",
     "output_type": "stream",
     "text": [
      "Training Shape: torch.Size([1680, 100, 4]) torch.Size([1680, 50])\n",
      "Testing Shape: torch.Size([150, 100, 4]) torch.Size([150, 50])\n"
     ]
    }
   ],
   "source": [
    "# reshaping to rows, timestamps, features\n",
    "X_train_tensors_final = torch.reshape(X_train_tensors,   \n",
    "                                      (X_train_tensors.shape[0], 100, \n",
    "                                       X_train_tensors.shape[2]))\n",
    "X_test_tensors_final = torch.reshape(X_test_tensors,  \n",
    "                                     (X_test_tensors.shape[0], 100, \n",
    "                                      X_test_tensors.shape[2])) \n",
    "\n",
    "print(\"Training Shape:\", X_train_tensors_final.shape, y_train_tensors.shape)\n",
    "print(\"Testing Shape:\", X_test_tensors_final.shape, y_test_tensors.shape) "
   ]
  },
  {
   "cell_type": "code",
   "execution_count": 27,
   "id": "653d6b40",
   "metadata": {},
   "outputs": [
    {
     "data": {
      "text/plain": [
       "array([[2.91910004e-02, 3.08970008e-02, 2.89009996e-02, 1.21804863e+08],\n",
       "       [2.91089993e-02, 2.96480004e-02, 2.88159996e-02, 4.45742650e+07],\n",
       "       [2.95410007e-02, 2.96219997e-02, 2.63459999e-02, 5.81207040e+07],\n",
       "       [2.66510006e-02, 2.72659995e-02, 2.63369996e-02, 3.41252160e+07]])"
      ]
     },
     "execution_count": 27,
     "metadata": {},
     "output_type": "execute_result"
    }
   ],
   "source": [
    "X_check, y_check = split_sequences(X, y.reshape(-1, 1), 100, 50)\n",
    "X_check[-1][0:4]"
   ]
  },
  {
   "cell_type": "code",
   "execution_count": 28,
   "id": "8585d74d",
   "metadata": {},
   "outputs": [
    {
     "data": {
      "text/plain": [
       "array([0.026176, 0.023797, 0.023994, 0.024506, 0.023391, 0.023698,\n",
       "       0.023595, 0.023827, 0.024146, 0.024235, 0.024953, 0.023993,\n",
       "       0.024367, 0.024247, 0.023528, 0.023438, 0.02361 , 0.022814,\n",
       "       0.022635, 0.022805, 0.02334 , 0.023697, 0.023652, 0.023665,\n",
       "       0.022846, 0.022665, 0.023384, 0.023588, 0.024002, 0.021416,\n",
       "       0.021935, 0.020945, 0.021287, 0.02089 , 0.017629, 0.017444,\n",
       "       0.017411, 0.017503, 0.0168  , 0.016983, 0.017342, 0.017653,\n",
       "       0.017277, 0.017377, 0.018198, 0.019005, 0.018935, 0.020531,\n",
       "       0.02123 , 0.020665])"
      ]
     },
     "execution_count": 28,
     "metadata": {},
     "output_type": "execute_result"
    }
   ],
   "source": [
    "y_check[-1]"
   ]
  },
  {
   "cell_type": "code",
   "execution_count": 29,
   "id": "dd1135e6",
   "metadata": {},
   "outputs": [
    {
     "data": {
      "text/plain": [
       "array([0.026176, 0.023797, 0.023994, 0.024506, 0.023391, 0.023698,\n",
       "       0.023595, 0.023827, 0.024146, 0.024235, 0.024953, 0.023993,\n",
       "       0.024367, 0.024247, 0.023528, 0.023438, 0.02361 , 0.022814,\n",
       "       0.022635, 0.022805, 0.02334 , 0.023697, 0.023652, 0.023665,\n",
       "       0.022846, 0.022665, 0.023384, 0.023588, 0.024002, 0.021416,\n",
       "       0.021935, 0.020945, 0.021287, 0.02089 , 0.017629, 0.017444,\n",
       "       0.017411, 0.017503, 0.0168  , 0.016983, 0.017342, 0.017653,\n",
       "       0.017277, 0.017377, 0.018198, 0.019005, 0.018935, 0.020531,\n",
       "       0.02123 , 0.020665])"
      ]
     },
     "execution_count": 29,
     "metadata": {},
     "output_type": "execute_result"
    }
   ],
   "source": [
    "data.Close.values[-50:]"
   ]
  },
  {
   "cell_type": "markdown",
   "id": "8bf7ef73",
   "metadata": {},
   "source": [
    "# Build the model"
   ]
  },
  {
   "cell_type": "code",
   "execution_count": 30,
   "id": "2e410b3a",
   "metadata": {},
   "outputs": [],
   "source": [
    "class LSTM(nn.Module):\n",
    "    \n",
    "    def __init__(self, num_classes, input_size, hidden_size, num_layers):\n",
    "        super().__init__()\n",
    "        self.num_classes = num_classes # output size\n",
    "        self.num_layers = num_layers # number of recurrent layers in the lstm\n",
    "        self.input_size = input_size # input size\n",
    "        self.hidden_size = hidden_size # neurons in each lstm layer\n",
    "        # LSTM model\n",
    "        self.lstm = nn.LSTM(input_size=input_size, hidden_size=hidden_size,\n",
    "                            num_layers=num_layers, batch_first=True, dropout=0.2) # lstm\n",
    "        self.fc_1 =  nn.Linear(hidden_size, 128) # fully connected \n",
    "        self.fc_2 = nn.Linear(128, num_classes) # fully connected last layer\n",
    "        self.relu = nn.ReLU()\n",
    "        \n",
    "    def forward(self,x):\n",
    "        # hidden state\n",
    "        h_0 = Variable(torch.zeros(self.num_layers, x.size(0), self.hidden_size))\n",
    "        # cell state\n",
    "        c_0 = Variable(torch.zeros(self.num_layers, x.size(0), self.hidden_size))\n",
    "        # propagate input through LSTM\n",
    "        output, (hn, cn) = self.lstm(x, (h_0, c_0)) # (input, hidden, and internal state)\n",
    "        hn = hn.view(-1, self.hidden_size) # reshaping the data for Dense layer next\n",
    "        out = self.relu(hn)\n",
    "        out = self.fc_1(out) # first dense\n",
    "        out = self.relu(out) # relu\n",
    "        out = self.fc_2(out) # final output\n",
    "        return out"
   ]
  },
  {
   "cell_type": "code",
   "execution_count": 31,
   "id": "03cdb576",
   "metadata": {},
   "outputs": [],
   "source": [
    "def training_loop(n_epochs, lstm, optimiser, loss_fn, X_train, y_train,\n",
    "                  X_test, y_test):\n",
    "    for epoch in range(n_epochs):\n",
    "        lstm.train()\n",
    "        outputs = lstm.forward(X_train) # forward pass\n",
    "        optimiser.zero_grad() # calculate the gradient, manually setting to 0\n",
    "        # obtain the loss function\n",
    "        loss = loss_fn(outputs, y_train)\n",
    "        loss.backward() # calculates the loss of the loss function\n",
    "        optimiser.step() # improve from loss, i.e backprop\n",
    "        # test loss\n",
    "        lstm.eval()\n",
    "        test_preds = lstm(X_test)\n",
    "        test_loss = loss_fn(test_preds, y_test)\n",
    "        if epoch % 100 == 0:\n",
    "            print(\"Epoch: %d, train loss: %1.5f, test loss: %1.5f\" % (epoch, \n",
    "                                                                      loss.item(), \n",
    "                                                                      test_loss.item())) \n",
    "            "
   ]
  },
  {
   "cell_type": "code",
   "execution_count": 32,
   "id": "28ae3dbb",
   "metadata": {},
   "outputs": [],
   "source": [
    "n_epochs = 1000 # 1000 epochs\n",
    "learning_rate = 0.001 # 0.001 lr\n",
    "\n",
    "input_size = 4 # number of features\n",
    "hidden_size = 2 # number of features in hidden state\n",
    "num_layers = 1 # number of stacked lstm layers\n",
    "\n",
    "num_classes = 50 # number of output classes \n",
    "\n",
    "lstm = LSTM(num_classes, \n",
    "              input_size, \n",
    "              hidden_size, \n",
    "              num_layers)"
   ]
  },
  {
   "cell_type": "code",
   "execution_count": 33,
   "id": "a008aa36",
   "metadata": {},
   "outputs": [],
   "source": [
    "loss_fn = torch.nn.MSELoss()    # mean-squared error for regression\n",
    "optimiser = torch.optim.Adam(lstm.parameters(), lr=learning_rate)"
   ]
  },
  {
   "cell_type": "code",
   "execution_count": 34,
   "id": "f92ab0e9",
   "metadata": {},
   "outputs": [
    {
     "name": "stdout",
     "output_type": "stream",
     "text": [
      "Epoch: 0, train loss: 0.10635, test loss: 0.03863\n",
      "Epoch: 100, train loss: 0.01078, test loss: 0.00073\n",
      "Epoch: 200, train loss: 0.00955, test loss: 0.00067\n",
      "Epoch: 300, train loss: 0.00938, test loss: 0.00074\n",
      "Epoch: 400, train loss: 0.00931, test loss: 0.00075\n",
      "Epoch: 500, train loss: 0.00926, test loss: 0.00076\n",
      "Epoch: 600, train loss: 0.00921, test loss: 0.00076\n",
      "Epoch: 700, train loss: 0.00916, test loss: 0.00073\n",
      "Epoch: 800, train loss: 0.00912, test loss: 0.00073\n",
      "Epoch: 900, train loss: 0.00907, test loss: 0.00072\n"
     ]
    }
   ],
   "source": [
    "training_loop(n_epochs=n_epochs,\n",
    "              lstm=lstm,\n",
    "              optimiser=optimiser,\n",
    "              loss_fn=loss_fn,\n",
    "              X_train=X_train_tensors_final,\n",
    "              y_train=y_train_tensors,\n",
    "              X_test=X_test_tensors_final,\n",
    "              y_test=y_test_tensors)"
   ]
  },
  {
   "cell_type": "markdown",
   "id": "4a6475c0",
   "metadata": {},
   "source": [
    "# Prediction on train set"
   ]
  },
  {
   "cell_type": "code",
   "execution_count": 35,
   "id": "628be592",
   "metadata": {},
   "outputs": [
    {
     "name": "stdout",
     "output_type": "stream",
     "text": [
      "1978\n",
      "1978\n",
      "1830\n",
      "1830\n"
     ]
    },
    {
     "data": {
      "image/png": "[encoded data removed]",
      "text/plain": [
       "<Figure size 720x432 with 1 Axes>"
      ]
     },
     "metadata": {},
     "output_type": "display_data"
    }
   ],
   "source": [
    "df_X_ss = ss.transform(data.drop(columns=['Close'])) # old transformers\n",
    "print(len(df_X_ss))\n",
    "df_y_mm = mm.transform(data.Close.values.reshape(-1, 1)) # old transformers\n",
    "print(len(df_y_mm))\n",
    "# split the sequence\n",
    "\n",
    "past_days = 100\n",
    "next_pred_days = 50\n",
    "df_X_ss, df_y_mm = split_sequences(df_X_ss, df_y_mm, past_days, next_pred_days)\n",
    "\n",
    "\n",
    "# converting to tensors\n",
    "df_X_ss = Variable(torch.Tensor(df_X_ss))\n",
    "df_y_mm = Variable(torch.Tensor(df_y_mm))\n",
    "# reshaping the dataset\n",
    "df_X_ss = torch.reshape(df_X_ss, (df_X_ss.shape[0], 100, df_X_ss.shape[2]))\n",
    "print(len(df_X_ss))\n",
    "\n",
    "train_predict = lstm(df_X_ss) # forward pass\n",
    "data_predict = train_predict.data.numpy() # numpy conversion\n",
    "dataY_plot = df_y_mm.data.numpy()\n",
    "\n",
    "data_predict = mm.inverse_transform(data_predict) # reverse transformation\n",
    "dataY_plot = mm.inverse_transform(dataY_plot)\n",
    "true, preds = [], []\n",
    "for i in range(len(dataY_plot)):\n",
    "    true.append(dataY_plot[i][0])\n",
    "for i in range(len(data_predict)):\n",
    "    preds.append(data_predict[i][0])\n",
    "plt.figure(figsize=(10,6)) #plotting\n",
    "print(len(preds))\n",
    "plt.axvline(x=train_test_cutoff, c='r', linestyle='--') # size of the training set\n",
    "\n",
    "plt.plot(true, label='Actual Data') # actual plot\n",
    "plt.plot(preds, label='Predicted Data') # predicted plot\n",
    "plt.title('Time-Series Prediction')\n",
    "plt.legend()\n",
    "plt.show() "
   ]
  },
  {
   "cell_type": "markdown",
   "id": "09bbed69",
   "metadata": {},
   "source": [
    "# Prediction on test set"
   ]
  },
  {
   "cell_type": "code",
   "execution_count": 36,
   "id": "cb825366",
   "metadata": {},
   "outputs": [
    {
     "data": {
      "image/png": "[encoded data removed]",
      "text/plain": [
       "<Figure size 432x288 with 1 Axes>"
      ]
     },
     "metadata": {},
     "output_type": "display_data"
    }
   ],
   "source": [
    "test_predict = lstm(X_test_tensors_final[-1].unsqueeze(0)) # get the last sample\n",
    "test_predict = test_predict.detach().numpy()\n",
    "test_predict = mm.inverse_transform(test_predict)\n",
    "test_predict = test_predict[0].tolist()\n",
    "\n",
    "test_target = y_test_tensors[-1].detach().numpy() # last sample again\n",
    "test_target = mm.inverse_transform(test_target.reshape(1, -1))\n",
    "test_target = test_target[0].tolist()\n",
    "\n",
    "plt.plot(test_target, label=\"Actual Data\")\n",
    "plt.plot(test_predict, label=\"LSTM Predictions\")\n",
    "plt.show()"
   ]
  },
  {
   "cell_type": "code",
   "execution_count": 37,
   "id": "8716edf0",
   "metadata": {},
   "outputs": [
    {
     "name": "stdout",
     "output_type": "stream",
     "text": [
      "[0.136039 0.119375 0.100976 ... 0.020531 0.02123  0.020665]\n"
     ]
    },
    {
     "data": {
      "image/png": "[encoded data removed]",
      "text/plain": [
       "<Figure size 720x432 with 1 Axes>"
      ]
     },
     "metadata": {},
     "output_type": "display_data"
    }
   ],
   "source": [
    "plt.figure(figsize=(10,6)) #plotting\n",
    "print(y)\n",
    "a = [x for x in range(900, len(y))]\n",
    "plt.plot(a, y[900:], label='Actual data');\n",
    "c = [x for x in range(len(y)-50, len(y))]\n",
    "plt.plot(c, test_predict, label='One-shot multi-step prediction (50 days)')\n",
    "plt.axvline(x=len(y)-50, c='r', linestyle='--')\n",
    "plt.legend()\n",
    "plt.show()"
   ]
  },
  {
   "cell_type": "code",
   "execution_count": 38,
   "id": "315be772",
   "metadata": {},
   "outputs": [
    {
     "name": "stdout",
     "output_type": "stream",
     "text": [
      "RMSE score:  0.006719490882922648\n",
      "MAPE score:  0.2956122178558111\n"
     ]
    }
   ],
   "source": [
    "#RMSE\n",
    "from math import sqrt\n",
    "from sklearn.metrics import mean_squared_error\n",
    "rms = sqrt(mean_squared_error(test_target,test_predict))\n",
    "\n",
    "#MAPE\n",
    "from sklearn.metrics import mean_absolute_percentage_error\n",
    "mapescore = mean_absolute_percentage_error(test_target,test_predict)\n",
    "\n",
    "#Print\n",
    "print(\"RMSE score: \", rms)\n",
    "print(\"MAPE score: \", mapescore)"
   ]
  },
  {
   "cell_type": "code",
   "execution_count": null,
   "id": "f4f0621d",
   "metadata": {},
   "outputs": [],
   "source": []
  }
 ],
 "metadata": {
  "kernelspec": {
   "display_name": "Python 3 (ipykernel)",
   "language": "python",
   "name": "python3"
  },
  "language_info": {
   "codemirror_mode": {
    "name": "ipython",
    "version": 3
   },
   "file_extension": ".py",
   "mimetype": "text/x-python",
   "name": "python",
   "nbconvert_exporter": "python",
   "pygments_lexer": "ipython3",
   "version": "3.9.12"
  }
 },
 "nbformat": 4,
 "nbformat_minor": 5
}
