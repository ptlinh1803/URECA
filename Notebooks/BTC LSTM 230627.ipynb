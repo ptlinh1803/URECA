{
 "cells": [
  {
   "cell_type": "code",
   "execution_count": 1,
   "id": "72311904",
   "metadata": {},
   "outputs": [],
   "source": [
    "import warnings\n",
    "warnings.filterwarnings('ignore')\n",
    "import os\n",
    "import pandas as pd\n",
    "import numpy as np\n",
    "import math\n",
    "import datetime as dt\n",
    "import matplotlib.pyplot as plt\n",
    "\n",
    "from sklearn.metrics import mean_squared_error, mean_absolute_error, explained_variance_score, r2_score \n",
    "from sklearn.metrics import mean_poisson_deviance, mean_gamma_deviance, accuracy_score\n",
    "from sklearn.preprocessing import MinMaxScaler\n",
    "\n",
    "from itertools import product\n",
    "import statsmodels.api as sm\n",
    "\n",
    "import tensorflow as tf\n",
    "\n",
    "from tensorflow.keras.models import Sequential\n",
    "from tensorflow.keras.layers import Dense, Dropout\n",
    "from tensorflow.keras.layers import LSTM\n",
    "\n",
    "from itertools import cycle\n",
    "import plotly.offline as py\n",
    "import plotly.graph_objects as go\n",
    "import plotly.express as px\n",
    "from plotly.subplots import make_subplots\n",
    "\n",
    "plt.style.use('seaborn-darkgrid')"
   ]
  },
  {
   "cell_type": "code",
   "execution_count": 2,
   "id": "085dbf08",
   "metadata": {},
   "outputs": [],
   "source": [
    "import torch.nn as nn"
   ]
  },
  {
   "cell_type": "markdown",
   "id": "143c80ba",
   "metadata": {},
   "source": [
    "# Data source"
   ]
  },
  {
   "cell_type": "code",
   "execution_count": 3,
   "id": "bf8c5488",
   "metadata": {},
   "outputs": [],
   "source": [
    "#Data Source\n",
    "import yfinance as yf\n",
    "\n",
    "#Data viz\n",
    "import plotly.graph_objs as go\n",
    "\n",
    "#import date time\n",
    "import datetime"
   ]
  },
  {
   "cell_type": "code",
   "execution_count": 4,
   "id": "e92bcda0",
   "metadata": {},
   "outputs": [],
   "source": [
    "# Set start date as 2014-01-01\n",
    "start_date = datetime.datetime(2014, 9, 16)\n",
    "\n",
    "# Set end date as today's date\n",
    "end_date = datetime.datetime.now().strftime('%Y-%m-%d')"
   ]
  },
  {
   "cell_type": "code",
   "execution_count": 5,
   "id": "4b6f6e15",
   "metadata": {},
   "outputs": [],
   "source": [
    "#coin -- change this to predict other coins\n",
    "ticker = 'BTC-USD'"
   ]
  },
  {
   "cell_type": "code",
   "execution_count": 6,
   "id": "70512663",
   "metadata": {},
   "outputs": [
    {
     "name": "stdout",
     "output_type": "stream",
     "text": [
      "[*********************100%***********************]  1 of 1 completed\n"
     ]
    }
   ],
   "source": [
    "data = yf.download(tickers=ticker, start=start_date, end=end_date, interval = '1d')"
   ]
  },
  {
   "cell_type": "code",
   "execution_count": 7,
   "id": "4fb3d558",
   "metadata": {},
   "outputs": [],
   "source": [
    "data.drop(columns=['Adj Close'], inplace=True)"
   ]
  },
  {
   "cell_type": "code",
   "execution_count": 8,
   "id": "ddeb41a9",
   "metadata": {},
   "outputs": [
    {
     "data": {
      "text/html": [
       "<div>\n",
       "<style scoped>\n",
       "    .dataframe tbody tr th:only-of-type {\n",
       "        vertical-align: middle;\n",
       "    }\n",
       "\n",
       "    .dataframe tbody tr th {\n",
       "        vertical-align: top;\n",
       "    }\n",
       "\n",
       "    .dataframe thead th {\n",
       "        text-align: right;\n",
       "    }\n",
       "</style>\n",
       "<table border=\"1\" class=\"dataframe\">\n",
       "  <thead>\n",
       "    <tr style=\"text-align: right;\">\n",
       "      <th></th>\n",
       "      <th>Open</th>\n",
       "      <th>High</th>\n",
       "      <th>Low</th>\n",
       "      <th>Close</th>\n",
       "      <th>Volume</th>\n",
       "    </tr>\n",
       "    <tr>\n",
       "      <th>Date</th>\n",
       "      <th></th>\n",
       "      <th></th>\n",
       "      <th></th>\n",
       "      <th></th>\n",
       "      <th></th>\n",
       "    </tr>\n",
       "  </thead>\n",
       "  <tbody>\n",
       "    <tr>\n",
       "      <th>2014-09-17</th>\n",
       "      <td>465.864014</td>\n",
       "      <td>468.174011</td>\n",
       "      <td>452.421997</td>\n",
       "      <td>457.334015</td>\n",
       "      <td>21056800</td>\n",
       "    </tr>\n",
       "    <tr>\n",
       "      <th>2014-09-18</th>\n",
       "      <td>456.859985</td>\n",
       "      <td>456.859985</td>\n",
       "      <td>413.104004</td>\n",
       "      <td>424.440002</td>\n",
       "      <td>34483200</td>\n",
       "    </tr>\n",
       "    <tr>\n",
       "      <th>2014-09-19</th>\n",
       "      <td>424.102997</td>\n",
       "      <td>427.834991</td>\n",
       "      <td>384.532013</td>\n",
       "      <td>394.795990</td>\n",
       "      <td>37919700</td>\n",
       "    </tr>\n",
       "    <tr>\n",
       "      <th>2014-09-20</th>\n",
       "      <td>394.673004</td>\n",
       "      <td>423.295990</td>\n",
       "      <td>389.882996</td>\n",
       "      <td>408.903992</td>\n",
       "      <td>36863600</td>\n",
       "    </tr>\n",
       "    <tr>\n",
       "      <th>2014-09-21</th>\n",
       "      <td>408.084991</td>\n",
       "      <td>412.425995</td>\n",
       "      <td>393.181000</td>\n",
       "      <td>398.821014</td>\n",
       "      <td>26580100</td>\n",
       "    </tr>\n",
       "    <tr>\n",
       "      <th>2014-09-22</th>\n",
       "      <td>399.100006</td>\n",
       "      <td>406.915985</td>\n",
       "      <td>397.130005</td>\n",
       "      <td>402.152008</td>\n",
       "      <td>24127600</td>\n",
       "    </tr>\n",
       "    <tr>\n",
       "      <th>2014-09-23</th>\n",
       "      <td>402.092010</td>\n",
       "      <td>441.557007</td>\n",
       "      <td>396.196991</td>\n",
       "      <td>435.790985</td>\n",
       "      <td>45099500</td>\n",
       "    </tr>\n",
       "    <tr>\n",
       "      <th>2014-09-24</th>\n",
       "      <td>435.751007</td>\n",
       "      <td>436.112000</td>\n",
       "      <td>421.131989</td>\n",
       "      <td>423.204987</td>\n",
       "      <td>30627700</td>\n",
       "    </tr>\n",
       "    <tr>\n",
       "      <th>2014-09-25</th>\n",
       "      <td>423.156006</td>\n",
       "      <td>423.519989</td>\n",
       "      <td>409.467987</td>\n",
       "      <td>411.574005</td>\n",
       "      <td>26814400</td>\n",
       "    </tr>\n",
       "    <tr>\n",
       "      <th>2014-09-26</th>\n",
       "      <td>411.428986</td>\n",
       "      <td>414.937988</td>\n",
       "      <td>400.009003</td>\n",
       "      <td>404.424988</td>\n",
       "      <td>21460800</td>\n",
       "    </tr>\n",
       "  </tbody>\n",
       "</table>\n",
       "</div>"
      ],
      "text/plain": [
       "                  Open        High         Low       Close    Volume\n",
       "Date                                                                \n",
       "2014-09-17  465.864014  468.174011  452.421997  457.334015  21056800\n",
       "2014-09-18  456.859985  456.859985  413.104004  424.440002  34483200\n",
       "2014-09-19  424.102997  427.834991  384.532013  394.795990  37919700\n",
       "2014-09-20  394.673004  423.295990  389.882996  408.903992  36863600\n",
       "2014-09-21  408.084991  412.425995  393.181000  398.821014  26580100\n",
       "2014-09-22  399.100006  406.915985  397.130005  402.152008  24127600\n",
       "2014-09-23  402.092010  441.557007  396.196991  435.790985  45099500\n",
       "2014-09-24  435.751007  436.112000  421.131989  423.204987  30627700\n",
       "2014-09-25  423.156006  423.519989  409.467987  411.574005  26814400\n",
       "2014-09-26  411.428986  414.937988  400.009003  404.424988  21460800"
      ]
     },
     "execution_count": 8,
     "metadata": {},
     "output_type": "execute_result"
    }
   ],
   "source": [
    "data.head(10)"
   ]
  },
  {
   "cell_type": "code",
   "execution_count": 9,
   "id": "e0c571bb",
   "metadata": {},
   "outputs": [
    {
     "data": {
      "text/plain": [
       "(3204, 5)"
      ]
     },
     "execution_count": 9,
     "metadata": {},
     "output_type": "execute_result"
    }
   ],
   "source": [
    "data.shape"
   ]
  },
  {
   "cell_type": "markdown",
   "id": "e3e3373b",
   "metadata": {},
   "source": [
    "### continue -----------------------"
   ]
  },
  {
   "cell_type": "code",
   "execution_count": 10,
   "id": "7515ba93",
   "metadata": {},
   "outputs": [
    {
     "data": {
      "text/html": [
       "<div>\n",
       "<style scoped>\n",
       "    .dataframe tbody tr th:only-of-type {\n",
       "        vertical-align: middle;\n",
       "    }\n",
       "\n",
       "    .dataframe tbody tr th {\n",
       "        vertical-align: top;\n",
       "    }\n",
       "\n",
       "    .dataframe thead th {\n",
       "        text-align: right;\n",
       "    }\n",
       "</style>\n",
       "<table border=\"1\" class=\"dataframe\">\n",
       "  <thead>\n",
       "    <tr style=\"text-align: right;\">\n",
       "      <th></th>\n",
       "      <th>Open</th>\n",
       "      <th>High</th>\n",
       "      <th>Low</th>\n",
       "      <th>Close</th>\n",
       "      <th>Volume</th>\n",
       "    </tr>\n",
       "    <tr>\n",
       "      <th>Date</th>\n",
       "      <th></th>\n",
       "      <th></th>\n",
       "      <th></th>\n",
       "      <th></th>\n",
       "      <th></th>\n",
       "    </tr>\n",
       "  </thead>\n",
       "  <tbody>\n",
       "    <tr>\n",
       "      <th>2014-09-17</th>\n",
       "      <td>465.864014</td>\n",
       "      <td>468.174011</td>\n",
       "      <td>452.421997</td>\n",
       "      <td>457.334015</td>\n",
       "      <td>21056800</td>\n",
       "    </tr>\n",
       "    <tr>\n",
       "      <th>2014-09-18</th>\n",
       "      <td>456.859985</td>\n",
       "      <td>456.859985</td>\n",
       "      <td>413.104004</td>\n",
       "      <td>424.440002</td>\n",
       "      <td>34483200</td>\n",
       "    </tr>\n",
       "    <tr>\n",
       "      <th>2014-09-19</th>\n",
       "      <td>424.102997</td>\n",
       "      <td>427.834991</td>\n",
       "      <td>384.532013</td>\n",
       "      <td>394.795990</td>\n",
       "      <td>37919700</td>\n",
       "    </tr>\n",
       "    <tr>\n",
       "      <th>2014-09-20</th>\n",
       "      <td>394.673004</td>\n",
       "      <td>423.295990</td>\n",
       "      <td>389.882996</td>\n",
       "      <td>408.903992</td>\n",
       "      <td>36863600</td>\n",
       "    </tr>\n",
       "    <tr>\n",
       "      <th>2014-09-21</th>\n",
       "      <td>408.084991</td>\n",
       "      <td>412.425995</td>\n",
       "      <td>393.181000</td>\n",
       "      <td>398.821014</td>\n",
       "      <td>26580100</td>\n",
       "    </tr>\n",
       "    <tr>\n",
       "      <th>2014-09-22</th>\n",
       "      <td>399.100006</td>\n",
       "      <td>406.915985</td>\n",
       "      <td>397.130005</td>\n",
       "      <td>402.152008</td>\n",
       "      <td>24127600</td>\n",
       "    </tr>\n",
       "    <tr>\n",
       "      <th>2014-09-23</th>\n",
       "      <td>402.092010</td>\n",
       "      <td>441.557007</td>\n",
       "      <td>396.196991</td>\n",
       "      <td>435.790985</td>\n",
       "      <td>45099500</td>\n",
       "    </tr>\n",
       "    <tr>\n",
       "      <th>2014-09-24</th>\n",
       "      <td>435.751007</td>\n",
       "      <td>436.112000</td>\n",
       "      <td>421.131989</td>\n",
       "      <td>423.204987</td>\n",
       "      <td>30627700</td>\n",
       "    </tr>\n",
       "    <tr>\n",
       "      <th>2014-09-25</th>\n",
       "      <td>423.156006</td>\n",
       "      <td>423.519989</td>\n",
       "      <td>409.467987</td>\n",
       "      <td>411.574005</td>\n",
       "      <td>26814400</td>\n",
       "    </tr>\n",
       "    <tr>\n",
       "      <th>2014-09-26</th>\n",
       "      <td>411.428986</td>\n",
       "      <td>414.937988</td>\n",
       "      <td>400.009003</td>\n",
       "      <td>404.424988</td>\n",
       "      <td>21460800</td>\n",
       "    </tr>\n",
       "  </tbody>\n",
       "</table>\n",
       "</div>"
      ],
      "text/plain": [
       "                  Open        High         Low       Close    Volume\n",
       "Date                                                                \n",
       "2014-09-17  465.864014  468.174011  452.421997  457.334015  21056800\n",
       "2014-09-18  456.859985  456.859985  413.104004  424.440002  34483200\n",
       "2014-09-19  424.102997  427.834991  384.532013  394.795990  37919700\n",
       "2014-09-20  394.673004  423.295990  389.882996  408.903992  36863600\n",
       "2014-09-21  408.084991  412.425995  393.181000  398.821014  26580100\n",
       "2014-09-22  399.100006  406.915985  397.130005  402.152008  24127600\n",
       "2014-09-23  402.092010  441.557007  396.196991  435.790985  45099500\n",
       "2014-09-24  435.751007  436.112000  421.131989  423.204987  30627700\n",
       "2014-09-25  423.156006  423.519989  409.467987  411.574005  26814400\n",
       "2014-09-26  411.428986  414.937988  400.009003  404.424988  21460800"
      ]
     },
     "execution_count": 10,
     "metadata": {},
     "output_type": "execute_result"
    }
   ],
   "source": [
    "data.head(10)"
   ]
  },
  {
   "cell_type": "code",
   "execution_count": 11,
   "id": "ed34ea1f",
   "metadata": {},
   "outputs": [
    {
     "name": "stdout",
     "output_type": "stream",
     "text": [
      "<class 'pandas.core.frame.DataFrame'>\n",
      "DatetimeIndex: 3204 entries, 2014-09-17 to 2023-06-25\n",
      "Data columns (total 5 columns):\n",
      " #   Column  Non-Null Count  Dtype  \n",
      "---  ------  --------------  -----  \n",
      " 0   Open    3204 non-null   float64\n",
      " 1   High    3204 non-null   float64\n",
      " 2   Low     3204 non-null   float64\n",
      " 3   Close   3204 non-null   float64\n",
      " 4   Volume  3204 non-null   int64  \n",
      "dtypes: float64(4), int64(1)\n",
      "memory usage: 150.2 KB\n"
     ]
    }
   ],
   "source": [
    "data.info()\n",
    "#data.dtypes"
   ]
  },
  {
   "cell_type": "code",
   "execution_count": 12,
   "id": "6be04616",
   "metadata": {},
   "outputs": [
    {
     "data": {
      "text/html": [
       "<div>\n",
       "<style scoped>\n",
       "    .dataframe tbody tr th:only-of-type {\n",
       "        vertical-align: middle;\n",
       "    }\n",
       "\n",
       "    .dataframe tbody tr th {\n",
       "        vertical-align: top;\n",
       "    }\n",
       "\n",
       "    .dataframe thead th {\n",
       "        text-align: right;\n",
       "    }\n",
       "</style>\n",
       "<table border=\"1\" class=\"dataframe\">\n",
       "  <thead>\n",
       "    <tr style=\"text-align: right;\">\n",
       "      <th></th>\n",
       "      <th>Open</th>\n",
       "      <th>High</th>\n",
       "      <th>Low</th>\n",
       "      <th>Close</th>\n",
       "      <th>Volume</th>\n",
       "    </tr>\n",
       "  </thead>\n",
       "  <tbody>\n",
       "    <tr>\n",
       "      <th>count</th>\n",
       "      <td>3204.000000</td>\n",
       "      <td>3204.000000</td>\n",
       "      <td>3204.000000</td>\n",
       "      <td>3204.000000</td>\n",
       "      <td>3.204000e+03</td>\n",
       "    </tr>\n",
       "    <tr>\n",
       "      <th>mean</th>\n",
       "      <td>13539.033299</td>\n",
       "      <td>13871.652799</td>\n",
       "      <td>13175.015942</td>\n",
       "      <td>13547.045288</td>\n",
       "      <td>1.658461e+10</td>\n",
       "    </tr>\n",
       "    <tr>\n",
       "      <th>std</th>\n",
       "      <td>16011.643207</td>\n",
       "      <td>16414.479377</td>\n",
       "      <td>15551.584920</td>\n",
       "      <td>16009.556278</td>\n",
       "      <td>1.955811e+10</td>\n",
       "    </tr>\n",
       "    <tr>\n",
       "      <th>min</th>\n",
       "      <td>176.897003</td>\n",
       "      <td>211.731003</td>\n",
       "      <td>171.509995</td>\n",
       "      <td>178.102997</td>\n",
       "      <td>5.914570e+06</td>\n",
       "    </tr>\n",
       "    <tr>\n",
       "      <th>25%</th>\n",
       "      <td>750.994766</td>\n",
       "      <td>757.765518</td>\n",
       "      <td>736.799255</td>\n",
       "      <td>751.525513</td>\n",
       "      <td>1.255185e+08</td>\n",
       "    </tr>\n",
       "    <tr>\n",
       "      <th>50%</th>\n",
       "      <td>7570.877686</td>\n",
       "      <td>7761.965088</td>\n",
       "      <td>7440.585205</td>\n",
       "      <td>7578.637939</td>\n",
       "      <td>9.950195e+09</td>\n",
       "    </tr>\n",
       "    <tr>\n",
       "      <th>75%</th>\n",
       "      <td>19987.152832</td>\n",
       "      <td>20359.136230</td>\n",
       "      <td>19617.020996</td>\n",
       "      <td>20000.706543</td>\n",
       "      <td>2.761953e+10</td>\n",
       "    </tr>\n",
       "    <tr>\n",
       "      <th>max</th>\n",
       "      <td>67549.734375</td>\n",
       "      <td>68789.625000</td>\n",
       "      <td>66382.062500</td>\n",
       "      <td>67566.828125</td>\n",
       "      <td>3.509679e+11</td>\n",
       "    </tr>\n",
       "  </tbody>\n",
       "</table>\n",
       "</div>"
      ],
      "text/plain": [
       "               Open          High           Low         Close        Volume\n",
       "count   3204.000000   3204.000000   3204.000000   3204.000000  3.204000e+03\n",
       "mean   13539.033299  13871.652799  13175.015942  13547.045288  1.658461e+10\n",
       "std    16011.643207  16414.479377  15551.584920  16009.556278  1.955811e+10\n",
       "min      176.897003    211.731003    171.509995    178.102997  5.914570e+06\n",
       "25%      750.994766    757.765518    736.799255    751.525513  1.255185e+08\n",
       "50%     7570.877686   7761.965088   7440.585205   7578.637939  9.950195e+09\n",
       "75%    19987.152832  20359.136230  19617.020996  20000.706543  2.761953e+10\n",
       "max    67549.734375  68789.625000  66382.062500  67566.828125  3.509679e+11"
      ]
     },
     "execution_count": 12,
     "metadata": {},
     "output_type": "execute_result"
    }
   ],
   "source": [
    "data.describe()"
   ]
  },
  {
   "cell_type": "code",
   "execution_count": 13,
   "id": "b2d5b8a7",
   "metadata": {},
   "outputs": [
    {
     "name": "stdout",
     "output_type": "stream",
     "text": [
      "Null Values: 0\n",
      "If any NA values: False\n"
     ]
    }
   ],
   "source": [
    "print('Null Values:', data.isnull().values.sum())\n",
    "print('If any NA values:', data.isnull().values.any())"
   ]
  },
  {
   "cell_type": "code",
   "execution_count": 14,
   "id": "a151c46c",
   "metadata": {},
   "outputs": [
    {
     "data": {
      "text/html": [
       "<div>\n",
       "<style scoped>\n",
       "    .dataframe tbody tr th:only-of-type {\n",
       "        vertical-align: middle;\n",
       "    }\n",
       "\n",
       "    .dataframe tbody tr th {\n",
       "        vertical-align: top;\n",
       "    }\n",
       "\n",
       "    .dataframe thead th {\n",
       "        text-align: right;\n",
       "    }\n",
       "</style>\n",
       "<table border=\"1\" class=\"dataframe\">\n",
       "  <thead>\n",
       "    <tr style=\"text-align: right;\">\n",
       "      <th></th>\n",
       "      <th>Open</th>\n",
       "      <th>High</th>\n",
       "      <th>Low</th>\n",
       "      <th>Close</th>\n",
       "      <th>Volume</th>\n",
       "    </tr>\n",
       "    <tr>\n",
       "      <th>Date</th>\n",
       "      <th></th>\n",
       "      <th></th>\n",
       "      <th></th>\n",
       "      <th></th>\n",
       "      <th></th>\n",
       "    </tr>\n",
       "  </thead>\n",
       "  <tbody>\n",
       "    <tr>\n",
       "      <th>2023-06-16</th>\n",
       "      <td>25575.283203</td>\n",
       "      <td>26463.173828</td>\n",
       "      <td>25245.357422</td>\n",
       "      <td>26327.462891</td>\n",
       "      <td>16324646965</td>\n",
       "    </tr>\n",
       "    <tr>\n",
       "      <th>2023-06-17</th>\n",
       "      <td>26328.679688</td>\n",
       "      <td>26769.394531</td>\n",
       "      <td>26174.492188</td>\n",
       "      <td>26510.675781</td>\n",
       "      <td>11090276850</td>\n",
       "    </tr>\n",
       "    <tr>\n",
       "      <th>2023-06-18</th>\n",
       "      <td>26510.457031</td>\n",
       "      <td>26675.925781</td>\n",
       "      <td>26325.890625</td>\n",
       "      <td>26336.212891</td>\n",
       "      <td>9565695129</td>\n",
       "    </tr>\n",
       "    <tr>\n",
       "      <th>2023-06-19</th>\n",
       "      <td>26335.441406</td>\n",
       "      <td>26984.611328</td>\n",
       "      <td>26312.832031</td>\n",
       "      <td>26851.029297</td>\n",
       "      <td>12826986222</td>\n",
       "    </tr>\n",
       "    <tr>\n",
       "      <th>2023-06-20</th>\n",
       "      <td>26841.664062</td>\n",
       "      <td>28388.968750</td>\n",
       "      <td>26668.791016</td>\n",
       "      <td>28327.488281</td>\n",
       "      <td>22211859147</td>\n",
       "    </tr>\n",
       "    <tr>\n",
       "      <th>2023-06-21</th>\n",
       "      <td>28311.310547</td>\n",
       "      <td>30737.330078</td>\n",
       "      <td>28283.410156</td>\n",
       "      <td>30027.296875</td>\n",
       "      <td>33346760979</td>\n",
       "    </tr>\n",
       "    <tr>\n",
       "      <th>2023-06-22</th>\n",
       "      <td>29995.935547</td>\n",
       "      <td>30495.998047</td>\n",
       "      <td>29679.158203</td>\n",
       "      <td>29912.281250</td>\n",
       "      <td>20653160491</td>\n",
       "    </tr>\n",
       "    <tr>\n",
       "      <th>2023-06-23</th>\n",
       "      <td>29896.382812</td>\n",
       "      <td>31389.539062</td>\n",
       "      <td>29845.214844</td>\n",
       "      <td>30695.468750</td>\n",
       "      <td>24115570085</td>\n",
       "    </tr>\n",
       "    <tr>\n",
       "      <th>2023-06-24</th>\n",
       "      <td>30708.738281</td>\n",
       "      <td>30804.148438</td>\n",
       "      <td>30290.146484</td>\n",
       "      <td>30548.695312</td>\n",
       "      <td>12147822496</td>\n",
       "    </tr>\n",
       "    <tr>\n",
       "      <th>2023-06-25</th>\n",
       "      <td>30545.150391</td>\n",
       "      <td>31041.271484</td>\n",
       "      <td>30327.943359</td>\n",
       "      <td>30480.261719</td>\n",
       "      <td>12703464114</td>\n",
       "    </tr>\n",
       "  </tbody>\n",
       "</table>\n",
       "</div>"
      ],
      "text/plain": [
       "                    Open          High           Low         Close  \\\n",
       "Date                                                                 \n",
       "2023-06-16  25575.283203  26463.173828  25245.357422  26327.462891   \n",
       "2023-06-17  26328.679688  26769.394531  26174.492188  26510.675781   \n",
       "2023-06-18  26510.457031  26675.925781  26325.890625  26336.212891   \n",
       "2023-06-19  26335.441406  26984.611328  26312.832031  26851.029297   \n",
       "2023-06-20  26841.664062  28388.968750  26668.791016  28327.488281   \n",
       "2023-06-21  28311.310547  30737.330078  28283.410156  30027.296875   \n",
       "2023-06-22  29995.935547  30495.998047  29679.158203  29912.281250   \n",
       "2023-06-23  29896.382812  31389.539062  29845.214844  30695.468750   \n",
       "2023-06-24  30708.738281  30804.148438  30290.146484  30548.695312   \n",
       "2023-06-25  30545.150391  31041.271484  30327.943359  30480.261719   \n",
       "\n",
       "                 Volume  \n",
       "Date                     \n",
       "2023-06-16  16324646965  \n",
       "2023-06-17  11090276850  \n",
       "2023-06-18   9565695129  \n",
       "2023-06-19  12826986222  \n",
       "2023-06-20  22211859147  \n",
       "2023-06-21  33346760979  \n",
       "2023-06-22  20653160491  \n",
       "2023-06-23  24115570085  \n",
       "2023-06-24  12147822496  \n",
       "2023-06-25  12703464114  "
      ]
     },
     "execution_count": 14,
     "metadata": {},
     "output_type": "execute_result"
    }
   ],
   "source": [
    "data.tail(10)"
   ]
  },
  {
   "cell_type": "code",
   "execution_count": 15,
   "id": "bde8f605",
   "metadata": {},
   "outputs": [
    {
     "data": {
      "text/plain": [
       "<AxesSubplot:title={'center':'Bitcoin Weighted Price'}, xlabel='Date'>"
      ]
     },
     "execution_count": 15,
     "metadata": {},
     "output_type": "execute_result"
    },
    {
     "data": {
      "image/png": "[encoded data removed]",
      "text/plain": [
       "<Figure size 1728x504 with 1 Axes>"
      ]
     },
     "metadata": {},
     "output_type": "display_data"
    }
   ],
   "source": [
    "data.Close.plot(figsize=(24,7), title=\"Bitcoin Weighted Price\")"
   ]
  },
  {
   "cell_type": "markdown",
   "id": "2d9c371e",
   "metadata": {},
   "source": [
    "# Lag plot\n",
    "Lag plot are used to observe the autocorrelation. These are crucial when we try to correct the trend and stationarity and we have to use smoothing functions. Lag plot helps us to understand the data better."
   ]
  },
  {
   "cell_type": "code",
   "execution_count": 16,
   "id": "f1de296b",
   "metadata": {},
   "outputs": [
    {
     "data": {
      "image/png": "[encoded data removed]",
      "text/plain": [
       "<Figure size 1080x864 with 1 Axes>"
      ]
     },
     "metadata": {},
     "output_type": "display_data"
    }
   ],
   "source": [
    "plt.figure(figsize=(15,12))\n",
    "\n",
    "# Create a lag plot with a lag of 1 day\n",
    "pd.plotting.lag_plot(data['Close'], lag=1)\n",
    "\n",
    "# Set plot title and labels\n",
    "plt.title('Bitcoin Close Price Lag Plot (1 day)')\n",
    "plt.xlabel('Close Price (lagged)')\n",
    "plt.ylabel('Close Price (current)')\n",
    "\n",
    "# Display the plot\n",
    "plt.show()"
   ]
  },
  {
   "cell_type": "markdown",
   "id": "48e90ee0",
   "metadata": {},
   "source": [
    "In the lag plot of 1 day for Bitcoin's close price, a strong positive slope straight line is observed. This indicates the presence of a significant positive autocorrelation in the data. The positive autocorrelation suggests that the current day's close price is positively related to the previous day's close price. In other words, when the close price increases on a particular day, there is a higher likelihood of it increasing on the following day as well. This pattern implies the existence of short-term momentum or serial dependence in Bitcoin's close price. However, it is important to further validate this inference using statistical tests and consider additional analysis techniques before making any investment decisions."
   ]
  },
  {
   "cell_type": "markdown",
   "id": "2ca80d92",
   "metadata": {},
   "source": [
    "# Define input and output"
   ]
  },
  {
   "cell_type": "code",
   "execution_count": 17,
   "id": "3b60e3cd",
   "metadata": {},
   "outputs": [
    {
     "data": {
      "text/plain": [
       "((3204, 4), (3204,))"
      ]
     },
     "execution_count": 17,
     "metadata": {},
     "output_type": "execute_result"
    }
   ],
   "source": [
    "# Our input vector will consists of everything except our target, \"Closing Price\"\n",
    "X, y = data.drop(columns=['Close']), data.Close.values\n",
    "X.shape, y.shape"
   ]
  },
  {
   "cell_type": "code",
   "execution_count": 18,
   "id": "57a0d611",
   "metadata": {},
   "outputs": [
    {
     "data": {
      "text/html": [
       "<div>\n",
       "<style scoped>\n",
       "    .dataframe tbody tr th:only-of-type {\n",
       "        vertical-align: middle;\n",
       "    }\n",
       "\n",
       "    .dataframe tbody tr th {\n",
       "        vertical-align: top;\n",
       "    }\n",
       "\n",
       "    .dataframe thead th {\n",
       "        text-align: right;\n",
       "    }\n",
       "</style>\n",
       "<table border=\"1\" class=\"dataframe\">\n",
       "  <thead>\n",
       "    <tr style=\"text-align: right;\">\n",
       "      <th></th>\n",
       "      <th>Open</th>\n",
       "      <th>High</th>\n",
       "      <th>Low</th>\n",
       "      <th>Volume</th>\n",
       "    </tr>\n",
       "    <tr>\n",
       "      <th>Date</th>\n",
       "      <th></th>\n",
       "      <th></th>\n",
       "      <th></th>\n",
       "      <th></th>\n",
       "    </tr>\n",
       "  </thead>\n",
       "  <tbody>\n",
       "    <tr>\n",
       "      <th>2014-09-17</th>\n",
       "      <td>465.864014</td>\n",
       "      <td>468.174011</td>\n",
       "      <td>452.421997</td>\n",
       "      <td>21056800</td>\n",
       "    </tr>\n",
       "    <tr>\n",
       "      <th>2014-09-18</th>\n",
       "      <td>456.859985</td>\n",
       "      <td>456.859985</td>\n",
       "      <td>413.104004</td>\n",
       "      <td>34483200</td>\n",
       "    </tr>\n",
       "    <tr>\n",
       "      <th>2014-09-19</th>\n",
       "      <td>424.102997</td>\n",
       "      <td>427.834991</td>\n",
       "      <td>384.532013</td>\n",
       "      <td>37919700</td>\n",
       "    </tr>\n",
       "    <tr>\n",
       "      <th>2014-09-20</th>\n",
       "      <td>394.673004</td>\n",
       "      <td>423.295990</td>\n",
       "      <td>389.882996</td>\n",
       "      <td>36863600</td>\n",
       "    </tr>\n",
       "    <tr>\n",
       "      <th>2014-09-21</th>\n",
       "      <td>408.084991</td>\n",
       "      <td>412.425995</td>\n",
       "      <td>393.181000</td>\n",
       "      <td>26580100</td>\n",
       "    </tr>\n",
       "    <tr>\n",
       "      <th>...</th>\n",
       "      <td>...</td>\n",
       "      <td>...</td>\n",
       "      <td>...</td>\n",
       "      <td>...</td>\n",
       "    </tr>\n",
       "    <tr>\n",
       "      <th>2023-06-21</th>\n",
       "      <td>28311.310547</td>\n",
       "      <td>30737.330078</td>\n",
       "      <td>28283.410156</td>\n",
       "      <td>33346760979</td>\n",
       "    </tr>\n",
       "    <tr>\n",
       "      <th>2023-06-22</th>\n",
       "      <td>29995.935547</td>\n",
       "      <td>30495.998047</td>\n",
       "      <td>29679.158203</td>\n",
       "      <td>20653160491</td>\n",
       "    </tr>\n",
       "    <tr>\n",
       "      <th>2023-06-23</th>\n",
       "      <td>29896.382812</td>\n",
       "      <td>31389.539062</td>\n",
       "      <td>29845.214844</td>\n",
       "      <td>24115570085</td>\n",
       "    </tr>\n",
       "    <tr>\n",
       "      <th>2023-06-24</th>\n",
       "      <td>30708.738281</td>\n",
       "      <td>30804.148438</td>\n",
       "      <td>30290.146484</td>\n",
       "      <td>12147822496</td>\n",
       "    </tr>\n",
       "    <tr>\n",
       "      <th>2023-06-25</th>\n",
       "      <td>30545.150391</td>\n",
       "      <td>31041.271484</td>\n",
       "      <td>30327.943359</td>\n",
       "      <td>12703464114</td>\n",
       "    </tr>\n",
       "  </tbody>\n",
       "</table>\n",
       "<p>3204 rows × 4 columns</p>\n",
       "</div>"
      ],
      "text/plain": [
       "                    Open          High           Low       Volume\n",
       "Date                                                             \n",
       "2014-09-17    465.864014    468.174011    452.421997     21056800\n",
       "2014-09-18    456.859985    456.859985    413.104004     34483200\n",
       "2014-09-19    424.102997    427.834991    384.532013     37919700\n",
       "2014-09-20    394.673004    423.295990    389.882996     36863600\n",
       "2014-09-21    408.084991    412.425995    393.181000     26580100\n",
       "...                  ...           ...           ...          ...\n",
       "2023-06-21  28311.310547  30737.330078  28283.410156  33346760979\n",
       "2023-06-22  29995.935547  30495.998047  29679.158203  20653160491\n",
       "2023-06-23  29896.382812  31389.539062  29845.214844  24115570085\n",
       "2023-06-24  30708.738281  30804.148438  30290.146484  12147822496\n",
       "2023-06-25  30545.150391  31041.271484  30327.943359  12703464114\n",
       "\n",
       "[3204 rows x 4 columns]"
      ]
     },
     "execution_count": 18,
     "metadata": {},
     "output_type": "execute_result"
    }
   ],
   "source": [
    "X"
   ]
  },
  {
   "cell_type": "code",
   "execution_count": 19,
   "id": "4567df07",
   "metadata": {},
   "outputs": [
    {
     "data": {
      "text/plain": [
       "array([  457.33401489,   424.44000244,   394.79598999, ...,\n",
       "       30695.46875   , 30548.6953125 , 30480.26171875])"
      ]
     },
     "execution_count": 19,
     "metadata": {},
     "output_type": "execute_result"
    }
   ],
   "source": [
    "y"
   ]
  },
  {
   "cell_type": "markdown",
   "id": "00076b75",
   "metadata": {},
   "source": [
    "# Preprocessing data"
   ]
  },
  {
   "cell_type": "code",
   "execution_count": 20,
   "id": "17340705",
   "metadata": {},
   "outputs": [
    {
     "data": {
      "text/plain": [
       "array([[-0.81660637, -0.81669182, -0.81821756, -0.84702112],\n",
       "       [-0.8171688 , -0.81738119, -0.82074618, -0.84633452],\n",
       "       [-0.81921495, -0.81914973, -0.82258371, -0.84615879],\n",
       "       ...,\n",
       "       [ 1.02175039,  1.06738814,  1.07209658,  0.38511589],\n",
       "       [ 1.07249361,  1.03171951,  1.1007111 , -0.22688671],\n",
       "       [ 1.06227521,  1.04616774,  1.10314189, -0.19847249]])"
      ]
     },
     "execution_count": 20,
     "metadata": {},
     "output_type": "execute_result"
    }
   ],
   "source": [
    "from sklearn.preprocessing import StandardScaler, MinMaxScaler\n",
    "mm = MinMaxScaler()\n",
    "ss = StandardScaler()\n",
    "\n",
    "X_trans = ss.fit_transform(X)\n",
    "y_trans = mm.fit_transform(y.reshape(-1, 1))\n",
    "X_trans"
   ]
  },
  {
   "cell_type": "markdown",
   "id": "0a11acd8",
   "metadata": {},
   "source": [
    "Now comes the slightly fiddly part. We want to feed in 100 samples, up to the current day, and predict the next 50 time step values. To do this, we need a special function to ensure that the corresponding indices of X and y represent this structure. Examine this function carefully, but essentially it just boils down to getting 100 samples from X, then looking at the 50 next indices in y, and patching these together. Note that because of this we'll throw out the first 50 values of y."
   ]
  },
  {
   "cell_type": "code",
   "execution_count": 21,
   "id": "0614ee6a",
   "metadata": {},
   "outputs": [
    {
     "name": "stdout",
     "output_type": "stream",
     "text": [
      "(3056, 100, 4) (3056, 50)\n"
     ]
    }
   ],
   "source": [
    "# split a multivariate sequence past, future samples (X and y)\n",
    "def split_sequences(input_sequences, output_sequence, n_steps_in, n_steps_out):\n",
    "    X, y = list(), list() # instantiate X and y\n",
    "    for i in range(len(input_sequences)):\n",
    "        # find the end of the input, output sequence\n",
    "        end_ix = i + n_steps_in\n",
    "        out_end_ix = end_ix + n_steps_out - 1\n",
    "        # check if we are beyond the dataset\n",
    "        if out_end_ix > len(input_sequences): break\n",
    "        # gather input and output of the pattern\n",
    "        seq_x, seq_y = input_sequences[i:end_ix], output_sequence[end_ix-1:out_end_ix, -1]\n",
    "        X.append(seq_x), y.append(seq_y)\n",
    "    return np.array(X), np.array(y)\n",
    "\n",
    "X_ss, y_mm = split_sequences(X_trans, y_trans, 100, 50)\n",
    "print(X_ss.shape, y_mm.shape)"
   ]
  },
  {
   "cell_type": "code",
   "execution_count": 22,
   "id": "d6ed836a",
   "metadata": {},
   "outputs": [],
   "source": [
    "assert y_mm[0].all() == y_trans[99:149].squeeze(1).all()"
   ]
  },
  {
   "cell_type": "code",
   "execution_count": 23,
   "id": "4067787b",
   "metadata": {},
   "outputs": [
    {
     "data": {
      "text/plain": [
       "array([0.00209093, 0.00222324, 0.00204426, 0.00206468, 0.00199688,\n",
       "       0.00196819, 0.00210851, 0.00202031, 0.00203193, 0.00152813,\n",
       "       0.00127754, 0.00143008, 0.00160392, 0.00172483, 0.00156177,\n",
       "       0.00166652, 0.00143485, 0.00129928, 0.00133098, 0.00070869,\n",
       "       0.        , 0.00047101, 0.00044509, 0.00031395, 0.00047836,\n",
       "       0.00054546, 0.00049284, 0.00072407, 0.00082066, 0.00081284,\n",
       "       0.00103495, 0.00112207, 0.00141522, 0.00126686, 0.00082821,\n",
       "       0.00082224, 0.00071706, 0.00058409, 0.00072518, 0.00089223,\n",
       "       0.00072957, 0.00072341, 0.00057885, 0.00065535, 0.00073678,\n",
       "       0.00067235, 0.00062335, 0.00061933, 0.00060963, 0.0006479 ])"
      ]
     },
     "execution_count": 23,
     "metadata": {},
     "output_type": "execute_result"
    }
   ],
   "source": [
    "y_mm[0]"
   ]
  },
  {
   "cell_type": "code",
   "execution_count": 24,
   "id": "52d5ae87",
   "metadata": {},
   "outputs": [
    {
     "name": "stdout",
     "output_type": "stream",
     "text": [
      "Training Shape: (2906, 100, 4) (2906, 50)\n",
      "Testing Shape: (150, 100, 4) (150, 50)\n"
     ]
    }
   ],
   "source": [
    "total_samples = len(X)\n",
    "train_test_cutoff = round(0.90 * total_samples)\n",
    "\n",
    "X_train = X_ss[:-150]\n",
    "X_test = X_ss[-150:]\n",
    "\n",
    "y_train = y_mm[:-150]\n",
    "y_test = y_mm[-150:] \n",
    "\n",
    "print(\"Training Shape:\", X_train.shape, y_train.shape)\n",
    "print(\"Testing Shape:\", X_test.shape, y_test.shape) "
   ]
  },
  {
   "cell_type": "code",
   "execution_count": 25,
   "id": "3f67f51d",
   "metadata": {},
   "outputs": [
    {
     "name": "stdout",
     "output_type": "stream",
     "text": [
      "150\n"
     ]
    }
   ],
   "source": [
    "import torch\n",
    "from torch.autograd import Variable\n",
    "# convert to pytorch tensors\n",
    "X_train_tensors = Variable(torch.Tensor(X_train))\n",
    "print(len(X_test))\n",
    "X_test_tensors = Variable(torch.Tensor(X_test))\n",
    "\n",
    "y_train_tensors = Variable(torch.Tensor(y_train))\n",
    "y_test_tensors = Variable(torch.Tensor(y_test))"
   ]
  },
  {
   "cell_type": "code",
   "execution_count": 26,
   "id": "06224532",
   "metadata": {},
   "outputs": [
    {
     "name": "stdout",
     "output_type": "stream",
     "text": [
      "Training Shape: torch.Size([2906, 100, 4]) torch.Size([2906, 50])\n",
      "Testing Shape: torch.Size([150, 100, 4]) torch.Size([150, 50])\n"
     ]
    }
   ],
   "source": [
    "# reshaping to rows, timestamps, features\n",
    "X_train_tensors_final = torch.reshape(X_train_tensors,   \n",
    "                                      (X_train_tensors.shape[0], 100, \n",
    "                                       X_train_tensors.shape[2]))\n",
    "X_test_tensors_final = torch.reshape(X_test_tensors,  \n",
    "                                     (X_test_tensors.shape[0], 100, \n",
    "                                      X_test_tensors.shape[2])) \n",
    "\n",
    "print(\"Training Shape:\", X_train_tensors_final.shape, y_train_tensors.shape)\n",
    "print(\"Testing Shape:\", X_test_tensors_final.shape, y_test_tensors.shape) "
   ]
  },
  {
   "cell_type": "code",
   "execution_count": 27,
   "id": "29f1fcb2",
   "metadata": {},
   "outputs": [
    {
     "data": {
      "text/plain": [
       "array([[2.30799648e+04, 2.31658965e+04, 2.29088457e+04, 1.47129284e+10],\n",
       "       [2.30314492e+04, 2.39198906e+04, 2.29850703e+04, 2.74236873e+10],\n",
       "       [2.37746484e+04, 2.37893477e+04, 2.26575820e+04, 2.72055956e+10],\n",
       "       [2.28407969e+04, 2.32250215e+04, 2.27655684e+04, 2.28378287e+10]])"
      ]
     },
     "execution_count": 27,
     "metadata": {},
     "output_type": "execute_result"
    }
   ],
   "source": [
    "X_check, y_check = split_sequences(X, y.reshape(-1, 1), 100, 50)\n",
    "X_check[-1][0:4]"
   ]
  },
  {
   "cell_type": "code",
   "execution_count": 28,
   "id": "8211f235",
   "metadata": {},
   "outputs": [
    {
     "data": {
      "text/plain": [
       "array([28454.97851562, 27694.2734375 , 27658.77539062, 27621.75585938,\n",
       "       27000.7890625 , 26804.99023438, 26784.078125  , 26930.63867188,\n",
       "       27192.69335938, 27036.65039062, 27398.80273438, 26832.20898438,\n",
       "       26890.12890625, 27129.5859375 , 26753.82617188, 26851.27734375,\n",
       "       27225.7265625 , 26334.81835938, 26476.20703125, 26719.29101562,\n",
       "       26868.35351562, 28085.64648438, 27745.88476562, 27702.34960938,\n",
       "       27219.65820312, 26819.97265625, 27249.58984375, 27075.12890625,\n",
       "       27119.06640625, 25760.09765625, 27238.78320312, 26345.99804688,\n",
       "       26508.21679688, 26480.375     , 25851.24023438, 25940.16796875,\n",
       "       25902.5       , 25918.72851562, 25124.67578125, 25576.39453125,\n",
       "       26327.46289062, 26510.67578125, 26336.21289062, 26851.02929688,\n",
       "       28327.48828125, 30027.296875  , 29912.28125   , 30695.46875   ,\n",
       "       30548.6953125 , 30480.26171875])"
      ]
     },
     "execution_count": 28,
     "metadata": {},
     "output_type": "execute_result"
    }
   ],
   "source": [
    "y_check[-1]"
   ]
  },
  {
   "cell_type": "code",
   "execution_count": 29,
   "id": "1db8b711",
   "metadata": {},
   "outputs": [
    {
     "data": {
      "text/plain": [
       "array([28454.97851562, 27694.2734375 , 27658.77539062, 27621.75585938,\n",
       "       27000.7890625 , 26804.99023438, 26784.078125  , 26930.63867188,\n",
       "       27192.69335938, 27036.65039062, 27398.80273438, 26832.20898438,\n",
       "       26890.12890625, 27129.5859375 , 26753.82617188, 26851.27734375,\n",
       "       27225.7265625 , 26334.81835938, 26476.20703125, 26719.29101562,\n",
       "       26868.35351562, 28085.64648438, 27745.88476562, 27702.34960938,\n",
       "       27219.65820312, 26819.97265625, 27249.58984375, 27075.12890625,\n",
       "       27119.06640625, 25760.09765625, 27238.78320312, 26345.99804688,\n",
       "       26508.21679688, 26480.375     , 25851.24023438, 25940.16796875,\n",
       "       25902.5       , 25918.72851562, 25124.67578125, 25576.39453125,\n",
       "       26327.46289062, 26510.67578125, 26336.21289062, 26851.02929688,\n",
       "       28327.48828125, 30027.296875  , 29912.28125   , 30695.46875   ,\n",
       "       30548.6953125 , 30480.26171875])"
      ]
     },
     "execution_count": 29,
     "metadata": {},
     "output_type": "execute_result"
    }
   ],
   "source": [
    "data.Close.values[-50:]"
   ]
  },
  {
   "cell_type": "markdown",
   "id": "e780b6a3",
   "metadata": {},
   "source": [
    "# Build the model"
   ]
  },
  {
   "cell_type": "code",
   "execution_count": 30,
   "id": "e397a3f1",
   "metadata": {},
   "outputs": [],
   "source": [
    "class LSTM(nn.Module):\n",
    "    \n",
    "    def __init__(self, num_classes, input_size, hidden_size, num_layers):\n",
    "        super().__init__()\n",
    "        self.num_classes = num_classes # output size\n",
    "        self.num_layers = num_layers # number of recurrent layers in the lstm\n",
    "        self.input_size = input_size # input size\n",
    "        self.hidden_size = hidden_size # neurons in each lstm layer\n",
    "        # LSTM model\n",
    "        self.lstm = nn.LSTM(input_size=input_size, hidden_size=hidden_size,\n",
    "                            num_layers=num_layers, batch_first=True, dropout=0.2) # lstm\n",
    "        self.fc_1 =  nn.Linear(hidden_size, 128) # fully connected \n",
    "        self.fc_2 = nn.Linear(128, num_classes) # fully connected last layer\n",
    "        self.relu = nn.ReLU()\n",
    "        \n",
    "    def forward(self,x):\n",
    "        # hidden state\n",
    "        h_0 = Variable(torch.zeros(self.num_layers, x.size(0), self.hidden_size))\n",
    "        # cell state\n",
    "        c_0 = Variable(torch.zeros(self.num_layers, x.size(0), self.hidden_size))\n",
    "        # propagate input through LSTM\n",
    "        output, (hn, cn) = self.lstm(x, (h_0, c_0)) # (input, hidden, and internal state)\n",
    "        hn = hn.view(-1, self.hidden_size) # reshaping the data for Dense layer next\n",
    "        out = self.relu(hn)\n",
    "        out = self.fc_1(out) # first dense\n",
    "        out = self.relu(out) # relu\n",
    "        out = self.fc_2(out) # final output\n",
    "        return out"
   ]
  },
  {
   "cell_type": "code",
   "execution_count": 31,
   "id": "8e72d74e",
   "metadata": {},
   "outputs": [],
   "source": [
    "def training_loop(n_epochs, lstm, optimiser, loss_fn, X_train, y_train,\n",
    "                  X_test, y_test):\n",
    "    for epoch in range(n_epochs):\n",
    "        lstm.train()\n",
    "        outputs = lstm.forward(X_train) # forward pass\n",
    "        optimiser.zero_grad() # calculate the gradient, manually setting to 0\n",
    "        # obtain the loss function\n",
    "        loss = loss_fn(outputs, y_train)\n",
    "        loss.backward() # calculates the loss of the loss function\n",
    "        optimiser.step() # improve from loss, i.e backprop\n",
    "        # test loss\n",
    "        lstm.eval()\n",
    "        test_preds = lstm(X_test)\n",
    "        test_loss = loss_fn(test_preds, y_test)\n",
    "        if epoch % 100 == 0:\n",
    "            print(\"Epoch: %d, train loss: %1.5f, test loss: %1.5f\" % (epoch, \n",
    "                                                                      loss.item(), \n",
    "                                                                      test_loss.item())) \n",
    "            "
   ]
  },
  {
   "cell_type": "markdown",
   "id": "ef46530e",
   "metadata": {},
   "source": [
    "### Original code"
   ]
  },
  {
   "cell_type": "code",
   "execution_count": 32,
   "id": "f9b3408b",
   "metadata": {},
   "outputs": [],
   "source": [
    "n_epochs = 1000 # 1000 epochs\n",
    "learning_rate = 0.001 # 0.001 lr\n",
    "\n",
    "input_size = 4 # number of features\n",
    "hidden_size = 2 # number of features in hidden state\n",
    "num_layers = 1 # number of stacked lstm layers\n",
    "\n",
    "num_classes = 50 # number of output classes \n",
    "\n",
    "lstm = LSTM(num_classes, \n",
    "              input_size, \n",
    "              hidden_size, \n",
    "              num_layers)"
   ]
  },
  {
   "cell_type": "code",
   "execution_count": 33,
   "id": "5d85df87",
   "metadata": {},
   "outputs": [],
   "source": [
    "loss_fn = torch.nn.MSELoss()    # mean-squared error for regression\n",
    "optimiser = torch.optim.Adam(lstm.parameters(), lr=learning_rate)"
   ]
  },
  {
   "cell_type": "code",
   "execution_count": 34,
   "id": "a3bb2deb",
   "metadata": {},
   "outputs": [
    {
     "name": "stdout",
     "output_type": "stream",
     "text": [
      "Epoch: 0, train loss: 0.14706, test loss: 0.18379\n",
      "Epoch: 100, train loss: 0.00580, test loss: 0.01839\n",
      "Epoch: 200, train loss: 0.00420, test loss: 0.01177\n",
      "Epoch: 300, train loss: 0.00389, test loss: 0.00961\n",
      "Epoch: 400, train loss: 0.00372, test loss: 0.00807\n",
      "Epoch: 500, train loss: 0.00359, test loss: 0.00652\n",
      "Epoch: 600, train loss: 0.00351, test loss: 0.00538\n",
      "Epoch: 700, train loss: 0.00344, test loss: 0.00443\n",
      "Epoch: 800, train loss: 0.00339, test loss: 0.00380\n",
      "Epoch: 900, train loss: 0.00335, test loss: 0.00344\n"
     ]
    }
   ],
   "source": [
    "training_loop(n_epochs=n_epochs,\n",
    "              lstm=lstm,\n",
    "              optimiser=optimiser,\n",
    "              loss_fn=loss_fn,\n",
    "              X_train=X_train_tensors_final,\n",
    "              y_train=y_train_tensors,\n",
    "              X_test=X_test_tensors_final,\n",
    "              y_test=y_test_tensors)"
   ]
  },
  {
   "cell_type": "markdown",
   "id": "d51be452",
   "metadata": {},
   "source": [
    "### Grid search"
   ]
  },
  {
   "cell_type": "code",
   "execution_count": 32,
   "id": "75b7a99c",
   "metadata": {},
   "outputs": [],
   "source": [
    "num_classes = 50 # number of output classes \n",
    "n_epochs = 1000 # 1000 epochs\n",
    "input_size = 4 # number of features"
   ]
  },
  {
   "cell_type": "code",
   "execution_count": 33,
   "id": "631a906c",
   "metadata": {},
   "outputs": [
    {
     "name": "stdout",
     "output_type": "stream",
     "text": [
      "Epoch: 0, train loss: 0.11793, test loss: 0.14034\n",
      "Epoch: 100, train loss: 0.01444, test loss: 0.02449\n",
      "Epoch: 200, train loss: 0.01207, test loss: 0.03386\n",
      "Epoch: 300, train loss: 0.00723, test loss: 0.03596\n",
      "Epoch: 400, train loss: 0.00594, test loss: 0.02365\n",
      "Epoch: 500, train loss: 0.00558, test loss: 0.01964\n",
      "Epoch: 600, train loss: 0.00460, test loss: 0.01814\n",
      "Epoch: 700, train loss: 0.00359, test loss: 0.00666\n",
      "Epoch: 800, train loss: 0.00394, test loss: 0.00627\n",
      "Epoch: 900, train loss: 0.00384, test loss: 0.00637\n",
      "Epoch: 0, train loss: 0.13064, test loss: 0.06357\n",
      "Epoch: 100, train loss: 0.00337, test loss: 0.00218\n",
      "Epoch: 200, train loss: 0.00310, test loss: 0.00240\n",
      "Epoch: 300, train loss: 0.00293, test loss: 0.00259\n",
      "Epoch: 400, train loss: 0.00278, test loss: 0.00449\n",
      "Epoch: 500, train loss: 0.00248, test loss: 0.01105\n",
      "Epoch: 600, train loss: 0.00235, test loss: 0.01002\n",
      "Epoch: 700, train loss: 0.00221, test loss: 0.01099\n",
      "Epoch: 800, train loss: 0.00324, test loss: 0.00903\n",
      "Epoch: 900, train loss: 0.00212, test loss: 0.01017\n",
      "Epoch: 0, train loss: 0.13170, test loss: 4.33467\n",
      "Epoch: 100, train loss: 0.00338, test loss: 0.00215\n",
      "Epoch: 200, train loss: 0.00331, test loss: 0.00223\n",
      "Epoch: 300, train loss: 0.00335, test loss: 0.00267\n",
      "Epoch: 400, train loss: 0.00330, test loss: 0.00258\n",
      "Epoch: 500, train loss: 0.00328, test loss: 0.00361\n",
      "Epoch: 600, train loss: 0.00323, test loss: 0.00374\n",
      "Epoch: 700, train loss: 0.00323, test loss: 0.00386\n",
      "Epoch: 800, train loss: 0.00400, test loss: 0.00366\n",
      "Epoch: 900, train loss: 0.00318, test loss: 0.00461\n"
     ]
    },
    {
     "ename": "RuntimeError",
     "evalue": "The size of tensor a (5810) must match the size of tensor b (2905) at non-singleton dimension 0",
     "output_type": "error",
     "traceback": [
      "\u001b[1;31m---------------------------------------------------------------------------\u001b[0m",
      "\u001b[1;31mRuntimeError\u001b[0m                              Traceback (most recent call last)",
      "Input \u001b[1;32mIn [33]\u001b[0m, in \u001b[0;36m<cell line: 14>\u001b[1;34m()\u001b[0m\n\u001b[0;32m     17\u001b[0m optimiser \u001b[38;5;241m=\u001b[39m torch\u001b[38;5;241m.\u001b[39moptim\u001b[38;5;241m.\u001b[39mAdam(lstm\u001b[38;5;241m.\u001b[39mparameters(), lr\u001b[38;5;241m=\u001b[39mlearning_rate)\n\u001b[0;32m     19\u001b[0m \u001b[38;5;66;03m# Train and evaluate the model\u001b[39;00m\n\u001b[1;32m---> 20\u001b[0m \u001b[43mtraining_loop\u001b[49m\u001b[43m(\u001b[49m\u001b[43mn_epochs\u001b[49m\u001b[38;5;241;43m=\u001b[39;49m\u001b[43mn_epochs\u001b[49m\u001b[43m,\u001b[49m\u001b[43m \u001b[49m\u001b[43mlstm\u001b[49m\u001b[38;5;241;43m=\u001b[39;49m\u001b[43mlstm\u001b[49m\u001b[43m,\u001b[49m\u001b[43m \u001b[49m\u001b[43moptimiser\u001b[49m\u001b[38;5;241;43m=\u001b[39;49m\u001b[43moptimiser\u001b[49m\u001b[43m,\u001b[49m\u001b[43m \u001b[49m\u001b[43mloss_fn\u001b[49m\u001b[38;5;241;43m=\u001b[39;49m\u001b[43mloss_fn\u001b[49m\u001b[43m,\u001b[49m\n\u001b[0;32m     21\u001b[0m \u001b[43m              \u001b[49m\u001b[43mX_train\u001b[49m\u001b[38;5;241;43m=\u001b[39;49m\u001b[43mX_train_tensors_final\u001b[49m\u001b[43m,\u001b[49m\u001b[43m \u001b[49m\u001b[43my_train\u001b[49m\u001b[38;5;241;43m=\u001b[39;49m\u001b[43my_train_tensors\u001b[49m\u001b[43m,\u001b[49m\n\u001b[0;32m     22\u001b[0m \u001b[43m              \u001b[49m\u001b[43mX_test\u001b[49m\u001b[38;5;241;43m=\u001b[39;49m\u001b[43mX_test_tensors_final\u001b[49m\u001b[43m,\u001b[49m\u001b[43m \u001b[49m\u001b[43my_test\u001b[49m\u001b[38;5;241;43m=\u001b[39;49m\u001b[43my_test_tensors\u001b[49m\u001b[43m)\u001b[49m\n\u001b[0;32m     24\u001b[0m \u001b[38;5;66;03m# Evaluate model on validation set (or separate validation dataset)\u001b[39;00m\n\u001b[0;32m     25\u001b[0m lstm\u001b[38;5;241m.\u001b[39meval()\n",
      "Input \u001b[1;32mIn [31]\u001b[0m, in \u001b[0;36mtraining_loop\u001b[1;34m(n_epochs, lstm, optimiser, loss_fn, X_train, y_train, X_test, y_test)\u001b[0m\n\u001b[0;32m      6\u001b[0m optimiser\u001b[38;5;241m.\u001b[39mzero_grad() \u001b[38;5;66;03m# calculate the gradient, manually setting to 0\u001b[39;00m\n\u001b[0;32m      7\u001b[0m \u001b[38;5;66;03m# obtain the loss function\u001b[39;00m\n\u001b[1;32m----> 8\u001b[0m loss \u001b[38;5;241m=\u001b[39m \u001b[43mloss_fn\u001b[49m\u001b[43m(\u001b[49m\u001b[43moutputs\u001b[49m\u001b[43m,\u001b[49m\u001b[43m \u001b[49m\u001b[43my_train\u001b[49m\u001b[43m)\u001b[49m\n\u001b[0;32m      9\u001b[0m loss\u001b[38;5;241m.\u001b[39mbackward() \u001b[38;5;66;03m# calculates the loss of the loss function\u001b[39;00m\n\u001b[0;32m     10\u001b[0m optimiser\u001b[38;5;241m.\u001b[39mstep() \u001b[38;5;66;03m# improve from loss, i.e backprop\u001b[39;00m\n",
      "File \u001b[1;32m~\\anaconda3\\lib\\site-packages\\torch\\nn\\modules\\module.py:1501\u001b[0m, in \u001b[0;36mModule._call_impl\u001b[1;34m(self, *args, **kwargs)\u001b[0m\n\u001b[0;32m   1496\u001b[0m \u001b[38;5;66;03m# If we don't have any hooks, we want to skip the rest of the logic in\u001b[39;00m\n\u001b[0;32m   1497\u001b[0m \u001b[38;5;66;03m# this function, and just call forward.\u001b[39;00m\n\u001b[0;32m   1498\u001b[0m \u001b[38;5;28;01mif\u001b[39;00m \u001b[38;5;129;01mnot\u001b[39;00m (\u001b[38;5;28mself\u001b[39m\u001b[38;5;241m.\u001b[39m_backward_hooks \u001b[38;5;129;01mor\u001b[39;00m \u001b[38;5;28mself\u001b[39m\u001b[38;5;241m.\u001b[39m_backward_pre_hooks \u001b[38;5;129;01mor\u001b[39;00m \u001b[38;5;28mself\u001b[39m\u001b[38;5;241m.\u001b[39m_forward_hooks \u001b[38;5;129;01mor\u001b[39;00m \u001b[38;5;28mself\u001b[39m\u001b[38;5;241m.\u001b[39m_forward_pre_hooks\n\u001b[0;32m   1499\u001b[0m         \u001b[38;5;129;01mor\u001b[39;00m _global_backward_pre_hooks \u001b[38;5;129;01mor\u001b[39;00m _global_backward_hooks\n\u001b[0;32m   1500\u001b[0m         \u001b[38;5;129;01mor\u001b[39;00m _global_forward_hooks \u001b[38;5;129;01mor\u001b[39;00m _global_forward_pre_hooks):\n\u001b[1;32m-> 1501\u001b[0m     \u001b[38;5;28;01mreturn\u001b[39;00m forward_call(\u001b[38;5;241m*\u001b[39margs, \u001b[38;5;241m*\u001b[39m\u001b[38;5;241m*\u001b[39mkwargs)\n\u001b[0;32m   1502\u001b[0m \u001b[38;5;66;03m# Do not call functions when jit is used\u001b[39;00m\n\u001b[0;32m   1503\u001b[0m full_backward_hooks, non_full_backward_hooks \u001b[38;5;241m=\u001b[39m [], []\n",
      "File \u001b[1;32m~\\anaconda3\\lib\\site-packages\\torch\\nn\\modules\\loss.py:536\u001b[0m, in \u001b[0;36mMSELoss.forward\u001b[1;34m(self, input, target)\u001b[0m\n\u001b[0;32m    535\u001b[0m \u001b[38;5;28;01mdef\u001b[39;00m \u001b[38;5;21mforward\u001b[39m(\u001b[38;5;28mself\u001b[39m, \u001b[38;5;28minput\u001b[39m: Tensor, target: Tensor) \u001b[38;5;241m-\u001b[39m\u001b[38;5;241m>\u001b[39m Tensor:\n\u001b[1;32m--> 536\u001b[0m     \u001b[38;5;28;01mreturn\u001b[39;00m \u001b[43mF\u001b[49m\u001b[38;5;241;43m.\u001b[39;49m\u001b[43mmse_loss\u001b[49m\u001b[43m(\u001b[49m\u001b[38;5;28;43minput\u001b[39;49m\u001b[43m,\u001b[49m\u001b[43m \u001b[49m\u001b[43mtarget\u001b[49m\u001b[43m,\u001b[49m\u001b[43m \u001b[49m\u001b[43mreduction\u001b[49m\u001b[38;5;241;43m=\u001b[39;49m\u001b[38;5;28;43mself\u001b[39;49m\u001b[38;5;241;43m.\u001b[39;49m\u001b[43mreduction\u001b[49m\u001b[43m)\u001b[49m\n",
      "File \u001b[1;32m~\\anaconda3\\lib\\site-packages\\torch\\nn\\functional.py:3294\u001b[0m, in \u001b[0;36mmse_loss\u001b[1;34m(input, target, size_average, reduce, reduction)\u001b[0m\n\u001b[0;32m   3291\u001b[0m \u001b[38;5;28;01mif\u001b[39;00m size_average \u001b[38;5;129;01mis\u001b[39;00m \u001b[38;5;129;01mnot\u001b[39;00m \u001b[38;5;28;01mNone\u001b[39;00m \u001b[38;5;129;01mor\u001b[39;00m reduce \u001b[38;5;129;01mis\u001b[39;00m \u001b[38;5;129;01mnot\u001b[39;00m \u001b[38;5;28;01mNone\u001b[39;00m:\n\u001b[0;32m   3292\u001b[0m     reduction \u001b[38;5;241m=\u001b[39m _Reduction\u001b[38;5;241m.\u001b[39mlegacy_get_string(size_average, reduce)\n\u001b[1;32m-> 3294\u001b[0m expanded_input, expanded_target \u001b[38;5;241m=\u001b[39m \u001b[43mtorch\u001b[49m\u001b[38;5;241;43m.\u001b[39;49m\u001b[43mbroadcast_tensors\u001b[49m\u001b[43m(\u001b[49m\u001b[38;5;28;43minput\u001b[39;49m\u001b[43m,\u001b[49m\u001b[43m \u001b[49m\u001b[43mtarget\u001b[49m\u001b[43m)\u001b[49m\n\u001b[0;32m   3295\u001b[0m \u001b[38;5;28;01mreturn\u001b[39;00m torch\u001b[38;5;241m.\u001b[39m_C\u001b[38;5;241m.\u001b[39m_nn\u001b[38;5;241m.\u001b[39mmse_loss(expanded_input, expanded_target, _Reduction\u001b[38;5;241m.\u001b[39mget_enum(reduction))\n",
      "File \u001b[1;32m~\\anaconda3\\lib\\site-packages\\torch\\functional.py:74\u001b[0m, in \u001b[0;36mbroadcast_tensors\u001b[1;34m(*tensors)\u001b[0m\n\u001b[0;32m     72\u001b[0m \u001b[38;5;28;01mif\u001b[39;00m has_torch_function(tensors):\n\u001b[0;32m     73\u001b[0m     \u001b[38;5;28;01mreturn\u001b[39;00m handle_torch_function(broadcast_tensors, tensors, \u001b[38;5;241m*\u001b[39mtensors)\n\u001b[1;32m---> 74\u001b[0m \u001b[38;5;28;01mreturn\u001b[39;00m \u001b[43m_VF\u001b[49m\u001b[38;5;241;43m.\u001b[39;49m\u001b[43mbroadcast_tensors\u001b[49m\u001b[43m(\u001b[49m\u001b[43mtensors\u001b[49m\u001b[43m)\u001b[49m\n",
      "\u001b[1;31mRuntimeError\u001b[0m: The size of tensor a (5810) must match the size of tensor b (2905) at non-singleton dimension 0"
     ]
    }
   ],
   "source": [
    "#grid search\n",
    "import itertools\n",
    "\n",
    "# Define a grid of hyperparameters\n",
    "hidden_sizes = [2, 4, 8]\n",
    "num_layers = [1, 2, 3]\n",
    "learning_rates = [0.001, 0.01, 0.1]\n",
    "\n",
    "# Initialize variables to store best hyperparameters and performance metrics\n",
    "best_hyperparameters = {}\n",
    "best_performance = float('inf')  # Initialize with a high value for MSE loss\n",
    "\n",
    "# Perform grid search\n",
    "for (hidden_size, num_layer, learning_rate) in itertools.product(hidden_sizes, num_layers, learning_rates):\n",
    "    lstm = LSTM(num_classes, input_size, hidden_size, num_layer)  # Initialize LSTM model\n",
    "    loss_fn = torch.nn.MSELoss()\n",
    "    optimiser = torch.optim.Adam(lstm.parameters(), lr=learning_rate)\n",
    "    \n",
    "    # Train and evaluate the model\n",
    "    training_loop(n_epochs=n_epochs, lstm=lstm, optimiser=optimiser, loss_fn=loss_fn,\n",
    "                  X_train=X_train_tensors_final, y_train=y_train_tensors,\n",
    "                  X_test=X_test_tensors_final, y_test=y_test_tensors)\n",
    "    \n",
    "    # Evaluate model on validation set (or separate validation dataset)\n",
    "    lstm.eval()\n",
    "    val_preds = lstm(X_train_tensors_final)\n",
    "    val_loss = loss_fn(val_preds, y_train_tensors)\n",
    "    \n",
    "    # Check if current hyperparameters yield better performance\n",
    "    if val_loss.item() < best_performance:\n",
    "        best_performance = val_loss.item()\n",
    "        best_hyperparameters = {'hidden_size': hidden_size, 'num_layers': num_layers, 'learning_rate': learning_rate}\n",
    "\n",
    "# Print the best hyperparameters and performance\n",
    "print(\"Best Hyperparameters:\", best_hyperparameters)\n",
    "print(\"Best Performance (MSE Loss):\", best_performance)"
   ]
  },
  {
   "cell_type": "markdown",
   "id": "0bc734b6",
   "metadata": {},
   "source": [
    "# Prediction on train set"
   ]
  },
  {
   "cell_type": "code",
   "execution_count": 35,
   "id": "832d9e34",
   "metadata": {},
   "outputs": [
    {
     "name": "stdout",
     "output_type": "stream",
     "text": [
      "3204\n",
      "3204\n",
      "3056\n",
      "3056\n"
     ]
    },
    {
     "data": {
      "image/png": "[encoded data removed]",
      "text/plain": [
       "<Figure size 720x432 with 1 Axes>"
      ]
     },
     "metadata": {},
     "output_type": "display_data"
    }
   ],
   "source": [
    "df_X_ss = ss.transform(data.drop(columns=['Close'])) # old transformers\n",
    "print(len(df_X_ss))\n",
    "df_y_mm = mm.transform(data.Close.values.reshape(-1, 1)) # old transformers\n",
    "print(len(df_y_mm))\n",
    "# split the sequence\n",
    "\n",
    "past_days = 100\n",
    "next_pred_days = 50\n",
    "df_X_ss, df_y_mm = split_sequences(df_X_ss, df_y_mm, past_days, next_pred_days)\n",
    "\n",
    "\n",
    "# converting to tensors\n",
    "df_X_ss = Variable(torch.Tensor(df_X_ss))\n",
    "df_y_mm = Variable(torch.Tensor(df_y_mm))\n",
    "# reshaping the dataset\n",
    "df_X_ss = torch.reshape(df_X_ss, (df_X_ss.shape[0], 100, df_X_ss.shape[2]))\n",
    "print(len(df_X_ss))\n",
    "\n",
    "train_predict = lstm(df_X_ss) # forward pass\n",
    "data_predict = train_predict.data.numpy() # numpy conversion\n",
    "dataY_plot = df_y_mm.data.numpy()\n",
    "\n",
    "data_predict = mm.inverse_transform(data_predict) # reverse transformation\n",
    "dataY_plot = mm.inverse_transform(dataY_plot)\n",
    "true, preds = [], []\n",
    "for i in range(len(dataY_plot)):\n",
    "    true.append(dataY_plot[i][0])\n",
    "for i in range(len(data_predict)):\n",
    "    preds.append(data_predict[i][0])\n",
    "plt.figure(figsize=(10,6)) #plotting\n",
    "print(len(preds))\n",
    "plt.axvline(x=train_test_cutoff, c='r', linestyle='--') # size of the training set\n",
    "\n",
    "plt.plot(true, label='Actual Data') # actual plot\n",
    "plt.plot(preds, label='Predicted Data') # predicted plot\n",
    "plt.title('Time-Series Prediction')\n",
    "plt.legend()\n",
    "plt.show() "
   ]
  },
  {
   "cell_type": "markdown",
   "id": "e40ea777",
   "metadata": {},
   "source": [
    "# Prediction on test set"
   ]
  },
  {
   "cell_type": "code",
   "execution_count": 36,
   "id": "44c0fa9f",
   "metadata": {},
   "outputs": [
    {
     "data": {
      "image/png": "[encoded data removed]",
      "text/plain": [
       "<Figure size 432x288 with 1 Axes>"
      ]
     },
     "metadata": {},
     "output_type": "display_data"
    }
   ],
   "source": [
    "test_predict = lstm(X_test_tensors_final[-1].unsqueeze(0)) # get the last sample\n",
    "test_predict = test_predict.detach().numpy()\n",
    "test_predict = mm.inverse_transform(test_predict)\n",
    "test_predict = test_predict[0].tolist()\n",
    "\n",
    "test_target = y_test_tensors[-1].detach().numpy() # last sample again\n",
    "test_target = mm.inverse_transform(test_target.reshape(1, -1))\n",
    "test_target = test_target[0].tolist()\n",
    "\n",
    "plt.plot(test_target, label=\"Actual Data\")\n",
    "plt.plot(test_predict, label=\"LSTM Predictions\")\n",
    "plt.show()"
   ]
  },
  {
   "cell_type": "code",
   "execution_count": 37,
   "id": "6aad4de9",
   "metadata": {},
   "outputs": [
    {
     "name": "stdout",
     "output_type": "stream",
     "text": [
      "[  457.33401489   424.44000244   394.79598999 ... 30695.46875\n",
      " 30548.6953125  30480.26171875]\n"
     ]
    },
    {
     "data": {
      "image/png": "[encoded data removed]",
      "text/plain": [
       "<Figure size 720x432 with 1 Axes>"
      ]
     },
     "metadata": {},
     "output_type": "display_data"
    }
   ],
   "source": [
    "plt.figure(figsize=(10,6)) #plotting\n",
    "print(y)\n",
    "a = [x for x in range(2500, len(y))]\n",
    "plt.plot(a, y[2500:], label='Actual data');\n",
    "c = [x for x in range(len(y)-50, len(y))]\n",
    "plt.plot(c, test_predict, label='One-shot multi-step prediction (50 days)')\n",
    "plt.axvline(x=len(y)-50, c='r', linestyle='--')\n",
    "plt.legend()\n",
    "plt.show()"
   ]
  },
  {
   "cell_type": "code",
   "execution_count": 38,
   "id": "9da92dd8",
   "metadata": {},
   "outputs": [
    {
     "name": "stdout",
     "output_type": "stream",
     "text": [
      "RMSE score:  2206.87714667081\n",
      "MAPE score:  0.06659369378811565\n"
     ]
    }
   ],
   "source": [
    "#RMSE\n",
    "from math import sqrt\n",
    "from sklearn.metrics import mean_squared_error\n",
    "rms = sqrt(mean_squared_error(test_target,test_predict))\n",
    "\n",
    "#MAPE\n",
    "from sklearn.metrics import mean_absolute_percentage_error\n",
    "mapescore = mean_absolute_percentage_error(test_target,test_predict)\n",
    "\n",
    "#Print\n",
    "print(\"RMSE score: \", rms)\n",
    "print(\"MAPE score: \", mapescore)"
   ]
  },
  {
   "cell_type": "code",
   "execution_count": null,
   "id": "1ac10409",
   "metadata": {},
   "outputs": [],
   "source": []
  }
 ],
 "metadata": {
  "kernelspec": {
   "display_name": "Python 3 (ipykernel)",
   "language": "python",
   "name": "python3"
  },
  "language_info": {
   "codemirror_mode": {
    "name": "ipython",
    "version": 3
   },
   "file_extension": ".py",
   "mimetype": "text/x-python",
   "name": "python",
   "nbconvert_exporter": "python",
   "pygments_lexer": "ipython3",
   "version": "3.9.12"
  }
 },
 "nbformat": 4,
 "nbformat_minor": 5
}
