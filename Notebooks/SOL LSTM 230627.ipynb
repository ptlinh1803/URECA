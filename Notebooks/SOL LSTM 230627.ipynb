{
 "cells": [
  {
   "cell_type": "code",
   "execution_count": 1,
   "id": "72311904",
   "metadata": {},
   "outputs": [],
   "source": [
    "import warnings\n",
    "warnings.filterwarnings('ignore')\n",
    "import os\n",
    "import pandas as pd\n",
    "import numpy as np\n",
    "import math\n",
    "import datetime as dt\n",
    "import matplotlib.pyplot as plt\n",
    "\n",
    "from sklearn.metrics import mean_squared_error, mean_absolute_error, explained_variance_score, r2_score \n",
    "from sklearn.metrics import mean_poisson_deviance, mean_gamma_deviance, accuracy_score\n",
    "from sklearn.preprocessing import MinMaxScaler\n",
    "\n",
    "from itertools import product\n",
    "import statsmodels.api as sm\n",
    "\n",
    "import tensorflow as tf\n",
    "\n",
    "from tensorflow.keras.models import Sequential\n",
    "from tensorflow.keras.layers import Dense, Dropout\n",
    "from tensorflow.keras.layers import LSTM\n",
    "\n",
    "from itertools import cycle\n",
    "import plotly.offline as py\n",
    "import plotly.graph_objects as go\n",
    "import plotly.express as px\n",
    "from plotly.subplots import make_subplots\n",
    "\n",
    "plt.style.use('seaborn-darkgrid')"
   ]
  },
  {
   "cell_type": "code",
   "execution_count": 2,
   "id": "59ffa9e4",
   "metadata": {},
   "outputs": [],
   "source": [
    "import torch.nn as nn"
   ]
  },
  {
   "cell_type": "markdown",
   "id": "143c80ba",
   "metadata": {},
   "source": [
    "# Data source"
   ]
  },
  {
   "cell_type": "code",
   "execution_count": 3,
   "id": "bf8c5488",
   "metadata": {},
   "outputs": [],
   "source": [
    "#Data Source\n",
    "import yfinance as yf\n",
    "\n",
    "#Data viz\n",
    "import plotly.graph_objs as go\n",
    "\n",
    "#import date time\n",
    "import datetime"
   ]
  },
  {
   "cell_type": "code",
   "execution_count": 4,
   "id": "e92bcda0",
   "metadata": {},
   "outputs": [],
   "source": [
    "# Set start date as 2014-01-01\n",
    "start_date = datetime.datetime(2014, 9, 16)\n",
    "\n",
    "# Set end date as today's date\n",
    "end_date = datetime.datetime.now().strftime('%Y-%m-%d')"
   ]
  },
  {
   "cell_type": "code",
   "execution_count": 5,
   "id": "4b6f6e15",
   "metadata": {},
   "outputs": [],
   "source": [
    "#coin -- change this to predict other coins\n",
    "ticker = 'SOL-USD'"
   ]
  },
  {
   "cell_type": "code",
   "execution_count": 6,
   "id": "70512663",
   "metadata": {},
   "outputs": [
    {
     "name": "stdout",
     "output_type": "stream",
     "text": [
      "[*********************100%***********************]  1 of 1 completed\n"
     ]
    }
   ],
   "source": [
    "data = yf.download(tickers=ticker, start=start_date, end=end_date, interval = '1d')"
   ]
  },
  {
   "cell_type": "code",
   "execution_count": 7,
   "id": "4fb3d558",
   "metadata": {},
   "outputs": [],
   "source": [
    "data.drop(columns=['Adj Close'], inplace=True)"
   ]
  },
  {
   "cell_type": "code",
   "execution_count": 8,
   "id": "ddeb41a9",
   "metadata": {},
   "outputs": [
    {
     "data": {
      "text/html": [
       "<div>\n",
       "<style scoped>\n",
       "    .dataframe tbody tr th:only-of-type {\n",
       "        vertical-align: middle;\n",
       "    }\n",
       "\n",
       "    .dataframe tbody tr th {\n",
       "        vertical-align: top;\n",
       "    }\n",
       "\n",
       "    .dataframe thead th {\n",
       "        text-align: right;\n",
       "    }\n",
       "</style>\n",
       "<table border=\"1\" class=\"dataframe\">\n",
       "  <thead>\n",
       "    <tr style=\"text-align: right;\">\n",
       "      <th></th>\n",
       "      <th>Open</th>\n",
       "      <th>High</th>\n",
       "      <th>Low</th>\n",
       "      <th>Close</th>\n",
       "      <th>Volume</th>\n",
       "    </tr>\n",
       "    <tr>\n",
       "      <th>Date</th>\n",
       "      <th></th>\n",
       "      <th></th>\n",
       "      <th></th>\n",
       "      <th></th>\n",
       "      <th></th>\n",
       "    </tr>\n",
       "  </thead>\n",
       "  <tbody>\n",
       "    <tr>\n",
       "      <th>2020-04-10</th>\n",
       "      <td>0.832005</td>\n",
       "      <td>1.313487</td>\n",
       "      <td>0.694187</td>\n",
       "      <td>0.951054</td>\n",
       "      <td>87364276</td>\n",
       "    </tr>\n",
       "    <tr>\n",
       "      <th>2020-04-11</th>\n",
       "      <td>0.951054</td>\n",
       "      <td>1.049073</td>\n",
       "      <td>0.765020</td>\n",
       "      <td>0.776819</td>\n",
       "      <td>43862444</td>\n",
       "    </tr>\n",
       "    <tr>\n",
       "      <th>2020-04-12</th>\n",
       "      <td>0.785448</td>\n",
       "      <td>0.956670</td>\n",
       "      <td>0.762426</td>\n",
       "      <td>0.882507</td>\n",
       "      <td>38736897</td>\n",
       "    </tr>\n",
       "    <tr>\n",
       "      <th>2020-04-13</th>\n",
       "      <td>0.890760</td>\n",
       "      <td>0.891603</td>\n",
       "      <td>0.773976</td>\n",
       "      <td>0.777832</td>\n",
       "      <td>18211285</td>\n",
       "    </tr>\n",
       "    <tr>\n",
       "      <th>2020-04-14</th>\n",
       "      <td>0.777832</td>\n",
       "      <td>0.796472</td>\n",
       "      <td>0.628169</td>\n",
       "      <td>0.661925</td>\n",
       "      <td>16747614</td>\n",
       "    </tr>\n",
       "    <tr>\n",
       "      <th>2020-04-15</th>\n",
       "      <td>0.669289</td>\n",
       "      <td>0.704964</td>\n",
       "      <td>0.621531</td>\n",
       "      <td>0.646651</td>\n",
       "      <td>13075275</td>\n",
       "    </tr>\n",
       "    <tr>\n",
       "      <th>2020-04-16</th>\n",
       "      <td>0.630879</td>\n",
       "      <td>0.774192</td>\n",
       "      <td>0.625107</td>\n",
       "      <td>0.690816</td>\n",
       "      <td>21346031</td>\n",
       "    </tr>\n",
       "    <tr>\n",
       "      <th>2020-04-17</th>\n",
       "      <td>0.689312</td>\n",
       "      <td>0.719614</td>\n",
       "      <td>0.660728</td>\n",
       "      <td>0.660728</td>\n",
       "      <td>9870810</td>\n",
       "    </tr>\n",
       "    <tr>\n",
       "      <th>2020-04-18</th>\n",
       "      <td>0.660728</td>\n",
       "      <td>0.717618</td>\n",
       "      <td>0.659427</td>\n",
       "      <td>0.681096</td>\n",
       "      <td>9782112</td>\n",
       "    </tr>\n",
       "    <tr>\n",
       "      <th>2020-04-19</th>\n",
       "      <td>0.681516</td>\n",
       "      <td>0.684641</td>\n",
       "      <td>0.598487</td>\n",
       "      <td>0.606969</td>\n",
       "      <td>9289670</td>\n",
       "    </tr>\n",
       "  </tbody>\n",
       "</table>\n",
       "</div>"
      ],
      "text/plain": [
       "                Open      High       Low     Close    Volume\n",
       "Date                                                        \n",
       "2020-04-10  0.832005  1.313487  0.694187  0.951054  87364276\n",
       "2020-04-11  0.951054  1.049073  0.765020  0.776819  43862444\n",
       "2020-04-12  0.785448  0.956670  0.762426  0.882507  38736897\n",
       "2020-04-13  0.890760  0.891603  0.773976  0.777832  18211285\n",
       "2020-04-14  0.777832  0.796472  0.628169  0.661925  16747614\n",
       "2020-04-15  0.669289  0.704964  0.621531  0.646651  13075275\n",
       "2020-04-16  0.630879  0.774192  0.625107  0.690816  21346031\n",
       "2020-04-17  0.689312  0.719614  0.660728  0.660728   9870810\n",
       "2020-04-18  0.660728  0.717618  0.659427  0.681096   9782112\n",
       "2020-04-19  0.681516  0.684641  0.598487  0.606969   9289670"
      ]
     },
     "execution_count": 8,
     "metadata": {},
     "output_type": "execute_result"
    }
   ],
   "source": [
    "data.head(10)"
   ]
  },
  {
   "cell_type": "code",
   "execution_count": 9,
   "id": "e0c571bb",
   "metadata": {},
   "outputs": [
    {
     "data": {
      "text/plain": [
       "(1172, 5)"
      ]
     },
     "execution_count": 9,
     "metadata": {},
     "output_type": "execute_result"
    }
   ],
   "source": [
    "data.shape"
   ]
  },
  {
   "cell_type": "code",
   "execution_count": 10,
   "id": "7515ba93",
   "metadata": {},
   "outputs": [
    {
     "data": {
      "text/html": [
       "<div>\n",
       "<style scoped>\n",
       "    .dataframe tbody tr th:only-of-type {\n",
       "        vertical-align: middle;\n",
       "    }\n",
       "\n",
       "    .dataframe tbody tr th {\n",
       "        vertical-align: top;\n",
       "    }\n",
       "\n",
       "    .dataframe thead th {\n",
       "        text-align: right;\n",
       "    }\n",
       "</style>\n",
       "<table border=\"1\" class=\"dataframe\">\n",
       "  <thead>\n",
       "    <tr style=\"text-align: right;\">\n",
       "      <th></th>\n",
       "      <th>Open</th>\n",
       "      <th>High</th>\n",
       "      <th>Low</th>\n",
       "      <th>Close</th>\n",
       "      <th>Volume</th>\n",
       "    </tr>\n",
       "    <tr>\n",
       "      <th>Date</th>\n",
       "      <th></th>\n",
       "      <th></th>\n",
       "      <th></th>\n",
       "      <th></th>\n",
       "      <th></th>\n",
       "    </tr>\n",
       "  </thead>\n",
       "  <tbody>\n",
       "    <tr>\n",
       "      <th>2020-04-10</th>\n",
       "      <td>0.832005</td>\n",
       "      <td>1.313487</td>\n",
       "      <td>0.694187</td>\n",
       "      <td>0.951054</td>\n",
       "      <td>87364276</td>\n",
       "    </tr>\n",
       "    <tr>\n",
       "      <th>2020-04-11</th>\n",
       "      <td>0.951054</td>\n",
       "      <td>1.049073</td>\n",
       "      <td>0.765020</td>\n",
       "      <td>0.776819</td>\n",
       "      <td>43862444</td>\n",
       "    </tr>\n",
       "    <tr>\n",
       "      <th>2020-04-12</th>\n",
       "      <td>0.785448</td>\n",
       "      <td>0.956670</td>\n",
       "      <td>0.762426</td>\n",
       "      <td>0.882507</td>\n",
       "      <td>38736897</td>\n",
       "    </tr>\n",
       "    <tr>\n",
       "      <th>2020-04-13</th>\n",
       "      <td>0.890760</td>\n",
       "      <td>0.891603</td>\n",
       "      <td>0.773976</td>\n",
       "      <td>0.777832</td>\n",
       "      <td>18211285</td>\n",
       "    </tr>\n",
       "    <tr>\n",
       "      <th>2020-04-14</th>\n",
       "      <td>0.777832</td>\n",
       "      <td>0.796472</td>\n",
       "      <td>0.628169</td>\n",
       "      <td>0.661925</td>\n",
       "      <td>16747614</td>\n",
       "    </tr>\n",
       "    <tr>\n",
       "      <th>2020-04-15</th>\n",
       "      <td>0.669289</td>\n",
       "      <td>0.704964</td>\n",
       "      <td>0.621531</td>\n",
       "      <td>0.646651</td>\n",
       "      <td>13075275</td>\n",
       "    </tr>\n",
       "    <tr>\n",
       "      <th>2020-04-16</th>\n",
       "      <td>0.630879</td>\n",
       "      <td>0.774192</td>\n",
       "      <td>0.625107</td>\n",
       "      <td>0.690816</td>\n",
       "      <td>21346031</td>\n",
       "    </tr>\n",
       "    <tr>\n",
       "      <th>2020-04-17</th>\n",
       "      <td>0.689312</td>\n",
       "      <td>0.719614</td>\n",
       "      <td>0.660728</td>\n",
       "      <td>0.660728</td>\n",
       "      <td>9870810</td>\n",
       "    </tr>\n",
       "    <tr>\n",
       "      <th>2020-04-18</th>\n",
       "      <td>0.660728</td>\n",
       "      <td>0.717618</td>\n",
       "      <td>0.659427</td>\n",
       "      <td>0.681096</td>\n",
       "      <td>9782112</td>\n",
       "    </tr>\n",
       "    <tr>\n",
       "      <th>2020-04-19</th>\n",
       "      <td>0.681516</td>\n",
       "      <td>0.684641</td>\n",
       "      <td>0.598487</td>\n",
       "      <td>0.606969</td>\n",
       "      <td>9289670</td>\n",
       "    </tr>\n",
       "  </tbody>\n",
       "</table>\n",
       "</div>"
      ],
      "text/plain": [
       "                Open      High       Low     Close    Volume\n",
       "Date                                                        \n",
       "2020-04-10  0.832005  1.313487  0.694187  0.951054  87364276\n",
       "2020-04-11  0.951054  1.049073  0.765020  0.776819  43862444\n",
       "2020-04-12  0.785448  0.956670  0.762426  0.882507  38736897\n",
       "2020-04-13  0.890760  0.891603  0.773976  0.777832  18211285\n",
       "2020-04-14  0.777832  0.796472  0.628169  0.661925  16747614\n",
       "2020-04-15  0.669289  0.704964  0.621531  0.646651  13075275\n",
       "2020-04-16  0.630879  0.774192  0.625107  0.690816  21346031\n",
       "2020-04-17  0.689312  0.719614  0.660728  0.660728   9870810\n",
       "2020-04-18  0.660728  0.717618  0.659427  0.681096   9782112\n",
       "2020-04-19  0.681516  0.684641  0.598487  0.606969   9289670"
      ]
     },
     "execution_count": 10,
     "metadata": {},
     "output_type": "execute_result"
    }
   ],
   "source": [
    "data.head(10)"
   ]
  },
  {
   "cell_type": "code",
   "execution_count": 11,
   "id": "ed34ea1f",
   "metadata": {},
   "outputs": [
    {
     "name": "stdout",
     "output_type": "stream",
     "text": [
      "<class 'pandas.core.frame.DataFrame'>\n",
      "DatetimeIndex: 1172 entries, 2020-04-10 to 2023-06-25\n",
      "Data columns (total 5 columns):\n",
      " #   Column  Non-Null Count  Dtype  \n",
      "---  ------  --------------  -----  \n",
      " 0   Open    1172 non-null   float64\n",
      " 1   High    1172 non-null   float64\n",
      " 2   Low     1172 non-null   float64\n",
      " 3   Close   1172 non-null   float64\n",
      " 4   Volume  1172 non-null   int64  \n",
      "dtypes: float64(4), int64(1)\n",
      "memory usage: 54.9 KB\n"
     ]
    }
   ],
   "source": [
    "data.info()\n",
    "#data.dtypes"
   ]
  },
  {
   "cell_type": "code",
   "execution_count": 12,
   "id": "6be04616",
   "metadata": {},
   "outputs": [
    {
     "data": {
      "text/html": [
       "<div>\n",
       "<style scoped>\n",
       "    .dataframe tbody tr th:only-of-type {\n",
       "        vertical-align: middle;\n",
       "    }\n",
       "\n",
       "    .dataframe tbody tr th {\n",
       "        vertical-align: top;\n",
       "    }\n",
       "\n",
       "    .dataframe thead th {\n",
       "        text-align: right;\n",
       "    }\n",
       "</style>\n",
       "<table border=\"1\" class=\"dataframe\">\n",
       "  <thead>\n",
       "    <tr style=\"text-align: right;\">\n",
       "      <th></th>\n",
       "      <th>Open</th>\n",
       "      <th>High</th>\n",
       "      <th>Low</th>\n",
       "      <th>Close</th>\n",
       "      <th>Volume</th>\n",
       "    </tr>\n",
       "  </thead>\n",
       "  <tbody>\n",
       "    <tr>\n",
       "      <th>count</th>\n",
       "      <td>1172.000000</td>\n",
       "      <td>1172.000000</td>\n",
       "      <td>1172.000000</td>\n",
       "      <td>1172.000000</td>\n",
       "      <td>1.172000e+03</td>\n",
       "    </tr>\n",
       "    <tr>\n",
       "      <th>mean</th>\n",
       "      <td>46.494985</td>\n",
       "      <td>48.665795</td>\n",
       "      <td>44.278507</td>\n",
       "      <td>46.485860</td>\n",
       "      <td>1.035876e+09</td>\n",
       "    </tr>\n",
       "    <tr>\n",
       "      <th>std</th>\n",
       "      <td>57.302876</td>\n",
       "      <td>59.756646</td>\n",
       "      <td>54.581299</td>\n",
       "      <td>57.240050</td>\n",
       "      <td>1.397770e+09</td>\n",
       "    </tr>\n",
       "    <tr>\n",
       "      <th>min</th>\n",
       "      <td>0.513391</td>\n",
       "      <td>0.559759</td>\n",
       "      <td>0.505194</td>\n",
       "      <td>0.515273</td>\n",
       "      <td>6.520200e+05</td>\n",
       "    </tr>\n",
       "    <tr>\n",
       "      <th>25%</th>\n",
       "      <td>4.220179</td>\n",
       "      <td>4.568905</td>\n",
       "      <td>3.886127</td>\n",
       "      <td>4.254177</td>\n",
       "      <td>7.136933e+07</td>\n",
       "    </tr>\n",
       "    <tr>\n",
       "      <th>50%</th>\n",
       "      <td>24.810493</td>\n",
       "      <td>25.987743</td>\n",
       "      <td>23.856928</td>\n",
       "      <td>24.806737</td>\n",
       "      <td>5.349015e+08</td>\n",
       "    </tr>\n",
       "    <tr>\n",
       "      <th>75%</th>\n",
       "      <td>45.654505</td>\n",
       "      <td>48.658025</td>\n",
       "      <td>43.027481</td>\n",
       "      <td>45.613109</td>\n",
       "      <td>1.487938e+09</td>\n",
       "    </tr>\n",
       "    <tr>\n",
       "      <th>max</th>\n",
       "      <td>258.781555</td>\n",
       "      <td>260.062103</td>\n",
       "      <td>246.122421</td>\n",
       "      <td>258.934326</td>\n",
       "      <td>1.706864e+10</td>\n",
       "    </tr>\n",
       "  </tbody>\n",
       "</table>\n",
       "</div>"
      ],
      "text/plain": [
       "              Open         High          Low        Close        Volume\n",
       "count  1172.000000  1172.000000  1172.000000  1172.000000  1.172000e+03\n",
       "mean     46.494985    48.665795    44.278507    46.485860  1.035876e+09\n",
       "std      57.302876    59.756646    54.581299    57.240050  1.397770e+09\n",
       "min       0.513391     0.559759     0.505194     0.515273  6.520200e+05\n",
       "25%       4.220179     4.568905     3.886127     4.254177  7.136933e+07\n",
       "50%      24.810493    25.987743    23.856928    24.806737  5.349015e+08\n",
       "75%      45.654505    48.658025    43.027481    45.613109  1.487938e+09\n",
       "max     258.781555   260.062103   246.122421   258.934326  1.706864e+10"
      ]
     },
     "execution_count": 12,
     "metadata": {},
     "output_type": "execute_result"
    }
   ],
   "source": [
    "data.describe()"
   ]
  },
  {
   "cell_type": "code",
   "execution_count": 13,
   "id": "b2d5b8a7",
   "metadata": {},
   "outputs": [
    {
     "name": "stdout",
     "output_type": "stream",
     "text": [
      "Null Values: 0\n",
      "If any NA values: False\n"
     ]
    }
   ],
   "source": [
    "print('Null Values:', data.isnull().values.sum())\n",
    "print('If any NA values:', data.isnull().values.any())"
   ]
  },
  {
   "cell_type": "code",
   "execution_count": 14,
   "id": "a151c46c",
   "metadata": {},
   "outputs": [
    {
     "data": {
      "text/html": [
       "<div>\n",
       "<style scoped>\n",
       "    .dataframe tbody tr th:only-of-type {\n",
       "        vertical-align: middle;\n",
       "    }\n",
       "\n",
       "    .dataframe tbody tr th {\n",
       "        vertical-align: top;\n",
       "    }\n",
       "\n",
       "    .dataframe thead th {\n",
       "        text-align: right;\n",
       "    }\n",
       "</style>\n",
       "<table border=\"1\" class=\"dataframe\">\n",
       "  <thead>\n",
       "    <tr style=\"text-align: right;\">\n",
       "      <th></th>\n",
       "      <th>Open</th>\n",
       "      <th>High</th>\n",
       "      <th>Low</th>\n",
       "      <th>Close</th>\n",
       "      <th>Volume</th>\n",
       "    </tr>\n",
       "    <tr>\n",
       "      <th>Date</th>\n",
       "      <th></th>\n",
       "      <th></th>\n",
       "      <th></th>\n",
       "      <th></th>\n",
       "      <th></th>\n",
       "    </tr>\n",
       "  </thead>\n",
       "  <tbody>\n",
       "    <tr>\n",
       "      <th>2023-06-16</th>\n",
       "      <td>14.760416</td>\n",
       "      <td>15.399172</td>\n",
       "      <td>14.469567</td>\n",
       "      <td>15.308254</td>\n",
       "      <td>232544705</td>\n",
       "    </tr>\n",
       "    <tr>\n",
       "      <th>2023-06-17</th>\n",
       "      <td>15.308581</td>\n",
       "      <td>16.065783</td>\n",
       "      <td>15.185427</td>\n",
       "      <td>15.650521</td>\n",
       "      <td>206436912</td>\n",
       "    </tr>\n",
       "    <tr>\n",
       "      <th>2023-06-18</th>\n",
       "      <td>15.649475</td>\n",
       "      <td>15.812691</td>\n",
       "      <td>15.361244</td>\n",
       "      <td>15.438235</td>\n",
       "      <td>141612316</td>\n",
       "    </tr>\n",
       "    <tr>\n",
       "      <th>2023-06-19</th>\n",
       "      <td>15.438766</td>\n",
       "      <td>16.075371</td>\n",
       "      <td>15.414377</td>\n",
       "      <td>16.073042</td>\n",
       "      <td>163949883</td>\n",
       "    </tr>\n",
       "    <tr>\n",
       "      <th>2023-06-20</th>\n",
       "      <td>16.078037</td>\n",
       "      <td>16.665106</td>\n",
       "      <td>15.759371</td>\n",
       "      <td>16.635231</td>\n",
       "      <td>265787114</td>\n",
       "    </tr>\n",
       "    <tr>\n",
       "      <th>2023-06-21</th>\n",
       "      <td>16.635487</td>\n",
       "      <td>17.379574</td>\n",
       "      <td>16.583469</td>\n",
       "      <td>17.257046</td>\n",
       "      <td>357788986</td>\n",
       "    </tr>\n",
       "    <tr>\n",
       "      <th>2023-06-22</th>\n",
       "      <td>17.257149</td>\n",
       "      <td>17.698505</td>\n",
       "      <td>16.610346</td>\n",
       "      <td>16.642620</td>\n",
       "      <td>299233520</td>\n",
       "    </tr>\n",
       "    <tr>\n",
       "      <th>2023-06-23</th>\n",
       "      <td>16.642969</td>\n",
       "      <td>17.510693</td>\n",
       "      <td>16.236748</td>\n",
       "      <td>17.149534</td>\n",
       "      <td>386994632</td>\n",
       "    </tr>\n",
       "    <tr>\n",
       "      <th>2023-06-24</th>\n",
       "      <td>17.149275</td>\n",
       "      <td>17.517597</td>\n",
       "      <td>16.463318</td>\n",
       "      <td>16.652863</td>\n",
       "      <td>260480952</td>\n",
       "    </tr>\n",
       "    <tr>\n",
       "      <th>2023-06-25</th>\n",
       "      <td>16.651472</td>\n",
       "      <td>17.340685</td>\n",
       "      <td>16.607138</td>\n",
       "      <td>16.971380</td>\n",
       "      <td>252839095</td>\n",
       "    </tr>\n",
       "  </tbody>\n",
       "</table>\n",
       "</div>"
      ],
      "text/plain": [
       "                 Open       High        Low      Close     Volume\n",
       "Date                                                             \n",
       "2023-06-16  14.760416  15.399172  14.469567  15.308254  232544705\n",
       "2023-06-17  15.308581  16.065783  15.185427  15.650521  206436912\n",
       "2023-06-18  15.649475  15.812691  15.361244  15.438235  141612316\n",
       "2023-06-19  15.438766  16.075371  15.414377  16.073042  163949883\n",
       "2023-06-20  16.078037  16.665106  15.759371  16.635231  265787114\n",
       "2023-06-21  16.635487  17.379574  16.583469  17.257046  357788986\n",
       "2023-06-22  17.257149  17.698505  16.610346  16.642620  299233520\n",
       "2023-06-23  16.642969  17.510693  16.236748  17.149534  386994632\n",
       "2023-06-24  17.149275  17.517597  16.463318  16.652863  260480952\n",
       "2023-06-25  16.651472  17.340685  16.607138  16.971380  252839095"
      ]
     },
     "execution_count": 14,
     "metadata": {},
     "output_type": "execute_result"
    }
   ],
   "source": [
    "data.tail(10)"
   ]
  },
  {
   "cell_type": "code",
   "execution_count": 15,
   "id": "bde8f605",
   "metadata": {},
   "outputs": [
    {
     "data": {
      "text/plain": [
       "<AxesSubplot:title={'center':'Bitcoin Weighted Price'}, xlabel='Date'>"
      ]
     },
     "execution_count": 15,
     "metadata": {},
     "output_type": "execute_result"
    },
    {
     "data": {
      "image/png": "[encoded data removed]",
      "text/plain": [
       "<Figure size 1728x504 with 1 Axes>"
      ]
     },
     "metadata": {},
     "output_type": "display_data"
    }
   ],
   "source": [
    "data.Close.plot(figsize=(24,7), title=\"Bitcoin Weighted Price\")"
   ]
  },
  {
   "cell_type": "markdown",
   "id": "2d9c371e",
   "metadata": {},
   "source": [
    "# Lag plot\n",
    "Lag plot are used to observe the autocorrelation. These are crucial when we try to correct the trend and stationarity and we have to use smoothing functions. Lag plot helps us to understand the data better."
   ]
  },
  {
   "cell_type": "code",
   "execution_count": 39,
   "id": "f1de296b",
   "metadata": {},
   "outputs": [
    {
     "data": {
      "image/png": "[encoded data removed]",
      "text/plain": [
       "<Figure size 1080x864 with 1 Axes>"
      ]
     },
     "metadata": {},
     "output_type": "display_data"
    }
   ],
   "source": [
    "plt.figure(figsize=(15,12))\n",
    "\n",
    "# Create a lag plot with a lag of 1 day\n",
    "pd.plotting.lag_plot(data['Close'], lag=1)\n",
    "\n",
    "# Set plot title and labels\n",
    "plt.title('Solana Close Price Lag Plot (1 day)')\n",
    "plt.xlabel('Close Price (lagged)')\n",
    "plt.ylabel('Close Price (current)')\n",
    "\n",
    "# Display the plot\n",
    "plt.show()"
   ]
  },
  {
   "cell_type": "markdown",
   "id": "48e90ee0",
   "metadata": {},
   "source": [
    "In the lag plot of 1 day for Bitcoin's close price, a strong positive slope straight line is observed. This indicates the presence of a significant positive autocorrelation in the data. The positive autocorrelation suggests that the current day's close price is positively related to the previous day's close price. In other words, when the close price increases on a particular day, there is a higher likelihood of it increasing on the following day as well. This pattern implies the existence of short-term momentum or serial dependence in Bitcoin's close price. However, it is important to further validate this inference using statistical tests and consider additional analysis techniques before making any investment decisions."
   ]
  },
  {
   "cell_type": "markdown",
   "id": "6e5f55c1",
   "metadata": {},
   "source": [
    "# Define input and output"
   ]
  },
  {
   "cell_type": "code",
   "execution_count": 17,
   "id": "3d870765",
   "metadata": {},
   "outputs": [
    {
     "data": {
      "text/plain": [
       "((1172, 4), (1172,))"
      ]
     },
     "execution_count": 17,
     "metadata": {},
     "output_type": "execute_result"
    }
   ],
   "source": [
    "# Our input vector will consists of everything except our target, \"Closing Price\"\n",
    "X, y = data.drop(columns=['Close']), data.Close.values\n",
    "X.shape, y.shape"
   ]
  },
  {
   "cell_type": "code",
   "execution_count": 18,
   "id": "88fda819",
   "metadata": {},
   "outputs": [
    {
     "data": {
      "text/html": [
       "<div>\n",
       "<style scoped>\n",
       "    .dataframe tbody tr th:only-of-type {\n",
       "        vertical-align: middle;\n",
       "    }\n",
       "\n",
       "    .dataframe tbody tr th {\n",
       "        vertical-align: top;\n",
       "    }\n",
       "\n",
       "    .dataframe thead th {\n",
       "        text-align: right;\n",
       "    }\n",
       "</style>\n",
       "<table border=\"1\" class=\"dataframe\">\n",
       "  <thead>\n",
       "    <tr style=\"text-align: right;\">\n",
       "      <th></th>\n",
       "      <th>Open</th>\n",
       "      <th>High</th>\n",
       "      <th>Low</th>\n",
       "      <th>Volume</th>\n",
       "    </tr>\n",
       "    <tr>\n",
       "      <th>Date</th>\n",
       "      <th></th>\n",
       "      <th></th>\n",
       "      <th></th>\n",
       "      <th></th>\n",
       "    </tr>\n",
       "  </thead>\n",
       "  <tbody>\n",
       "    <tr>\n",
       "      <th>2020-04-10</th>\n",
       "      <td>0.832005</td>\n",
       "      <td>1.313487</td>\n",
       "      <td>0.694187</td>\n",
       "      <td>87364276</td>\n",
       "    </tr>\n",
       "    <tr>\n",
       "      <th>2020-04-11</th>\n",
       "      <td>0.951054</td>\n",
       "      <td>1.049073</td>\n",
       "      <td>0.765020</td>\n",
       "      <td>43862444</td>\n",
       "    </tr>\n",
       "    <tr>\n",
       "      <th>2020-04-12</th>\n",
       "      <td>0.785448</td>\n",
       "      <td>0.956670</td>\n",
       "      <td>0.762426</td>\n",
       "      <td>38736897</td>\n",
       "    </tr>\n",
       "    <tr>\n",
       "      <th>2020-04-13</th>\n",
       "      <td>0.890760</td>\n",
       "      <td>0.891603</td>\n",
       "      <td>0.773976</td>\n",
       "      <td>18211285</td>\n",
       "    </tr>\n",
       "    <tr>\n",
       "      <th>2020-04-14</th>\n",
       "      <td>0.777832</td>\n",
       "      <td>0.796472</td>\n",
       "      <td>0.628169</td>\n",
       "      <td>16747614</td>\n",
       "    </tr>\n",
       "    <tr>\n",
       "      <th>...</th>\n",
       "      <td>...</td>\n",
       "      <td>...</td>\n",
       "      <td>...</td>\n",
       "      <td>...</td>\n",
       "    </tr>\n",
       "    <tr>\n",
       "      <th>2023-06-21</th>\n",
       "      <td>16.635487</td>\n",
       "      <td>17.379574</td>\n",
       "      <td>16.583469</td>\n",
       "      <td>357788986</td>\n",
       "    </tr>\n",
       "    <tr>\n",
       "      <th>2023-06-22</th>\n",
       "      <td>17.257149</td>\n",
       "      <td>17.698505</td>\n",
       "      <td>16.610346</td>\n",
       "      <td>299233520</td>\n",
       "    </tr>\n",
       "    <tr>\n",
       "      <th>2023-06-23</th>\n",
       "      <td>16.642969</td>\n",
       "      <td>17.510693</td>\n",
       "      <td>16.236748</td>\n",
       "      <td>386994632</td>\n",
       "    </tr>\n",
       "    <tr>\n",
       "      <th>2023-06-24</th>\n",
       "      <td>17.149275</td>\n",
       "      <td>17.517597</td>\n",
       "      <td>16.463318</td>\n",
       "      <td>260480952</td>\n",
       "    </tr>\n",
       "    <tr>\n",
       "      <th>2023-06-25</th>\n",
       "      <td>16.651472</td>\n",
       "      <td>17.340685</td>\n",
       "      <td>16.607138</td>\n",
       "      <td>252839095</td>\n",
       "    </tr>\n",
       "  </tbody>\n",
       "</table>\n",
       "<p>1172 rows × 4 columns</p>\n",
       "</div>"
      ],
      "text/plain": [
       "                 Open       High        Low     Volume\n",
       "Date                                                  \n",
       "2020-04-10   0.832005   1.313487   0.694187   87364276\n",
       "2020-04-11   0.951054   1.049073   0.765020   43862444\n",
       "2020-04-12   0.785448   0.956670   0.762426   38736897\n",
       "2020-04-13   0.890760   0.891603   0.773976   18211285\n",
       "2020-04-14   0.777832   0.796472   0.628169   16747614\n",
       "...               ...        ...        ...        ...\n",
       "2023-06-21  16.635487  17.379574  16.583469  357788986\n",
       "2023-06-22  17.257149  17.698505  16.610346  299233520\n",
       "2023-06-23  16.642969  17.510693  16.236748  386994632\n",
       "2023-06-24  17.149275  17.517597  16.463318  260480952\n",
       "2023-06-25  16.651472  17.340685  16.607138  252839095\n",
       "\n",
       "[1172 rows x 4 columns]"
      ]
     },
     "execution_count": 18,
     "metadata": {},
     "output_type": "execute_result"
    }
   ],
   "source": [
    "X"
   ]
  },
  {
   "cell_type": "code",
   "execution_count": 19,
   "id": "86a1247d",
   "metadata": {},
   "outputs": [
    {
     "data": {
      "text/plain": [
       "array([ 0.95105398,  0.77681899,  0.88250703, ..., 17.14953423,\n",
       "       16.65286255, 16.97138023])"
      ]
     },
     "execution_count": 19,
     "metadata": {},
     "output_type": "execute_result"
    }
   ],
   "source": [
    "y"
   ]
  },
  {
   "cell_type": "markdown",
   "id": "bcd3ae60",
   "metadata": {},
   "source": [
    "# Preprocessing data"
   ]
  },
  {
   "cell_type": "code",
   "execution_count": 20,
   "id": "d8583b10",
   "metadata": {},
   "outputs": [
    {
     "data": {
      "text/plain": [
       "array([[-0.79721084, -0.79275739, -0.798862  , -0.67887914],\n",
       "       [-0.79513241, -0.79718413, -0.7975637 , -0.71001474],\n",
       "       [-0.79802366, -0.79873111, -0.79761124, -0.71368325],\n",
       "       ...,\n",
       "       [-0.52117384, -0.52158889, -0.51398062, -0.46442447],\n",
       "       [-0.51233446, -0.5214733 , -0.50982779, -0.5549742 ],\n",
       "       [-0.52102539, -0.52443511, -0.5071917 , -0.56044372]])"
      ]
     },
     "execution_count": 20,
     "metadata": {},
     "output_type": "execute_result"
    }
   ],
   "source": [
    "from sklearn.preprocessing import StandardScaler, MinMaxScaler\n",
    "mm = MinMaxScaler()\n",
    "ss = StandardScaler()\n",
    "\n",
    "X_trans = ss.fit_transform(X)\n",
    "y_trans = mm.fit_transform(y.reshape(-1, 1))\n",
    "X_trans"
   ]
  },
  {
   "cell_type": "markdown",
   "id": "3a892fa5",
   "metadata": {},
   "source": [
    "Now comes the slightly fiddly part. We want to feed in 100 samples, up to the current day, and predict the next 50 time step values. To do this, we need a special function to ensure that the corresponding indices of X and y represent this structure. Examine this function carefully, but essentially it just boils down to getting 100 samples from X, then looking at the 50 next indices in y, and patching these together. Note that because of this we'll throw out the first 50 values of y."
   ]
  },
  {
   "cell_type": "code",
   "execution_count": 21,
   "id": "905d4869",
   "metadata": {},
   "outputs": [
    {
     "name": "stdout",
     "output_type": "stream",
     "text": [
      "(1024, 100, 4) (1024, 50)\n"
     ]
    }
   ],
   "source": [
    "# split a multivariate sequence past, future samples (X and y)\n",
    "def split_sequences(input_sequences, output_sequence, n_steps_in, n_steps_out):\n",
    "    X, y = list(), list() # instantiate X and y\n",
    "    for i in range(len(input_sequences)):\n",
    "        # find the end of the input, output sequence\n",
    "        end_ix = i + n_steps_in\n",
    "        out_end_ix = end_ix + n_steps_out - 1\n",
    "        # check if we are beyond the dataset\n",
    "        if out_end_ix > len(input_sequences): break\n",
    "        # gather input and output of the pattern\n",
    "        seq_x, seq_y = input_sequences[i:end_ix], output_sequence[end_ix-1:out_end_ix, -1]\n",
    "        X.append(seq_x), y.append(seq_y)\n",
    "    return np.array(X), np.array(y)\n",
    "\n",
    "X_ss, y_mm = split_sequences(X_trans, y_trans, 100, 50)\n",
    "print(X_ss.shape, y_mm.shape)"
   ]
  },
  {
   "cell_type": "code",
   "execution_count": 41,
   "id": "bd05d783",
   "metadata": {},
   "outputs": [
    {
     "data": {
      "text/plain": [
       "1024"
      ]
     },
     "execution_count": 41,
     "metadata": {},
     "output_type": "execute_result"
    }
   ],
   "source": [
    "len(X_ss)"
   ]
  },
  {
   "cell_type": "code",
   "execution_count": 40,
   "id": "521a796a",
   "metadata": {},
   "outputs": [
    {
     "data": {
      "text/plain": [
       "array([[-0.79721084, -0.79275739, -0.798862  , -0.67887914],\n",
       "       [-0.79513241, -0.79718413, -0.7975637 , -0.71001474],\n",
       "       [-0.79802366, -0.79873111, -0.79761124, -0.71368325],\n",
       "       [-0.79618506, -0.79982044, -0.79739954, -0.72837407],\n",
       "       [-0.79815662, -0.80141309, -0.80007206, -0.72942166],\n",
       "       [-0.80005163, -0.80294509, -0.80019372, -0.73205007],\n",
       "       [-0.80072221, -0.8017861 , -0.80012818, -0.72613043],\n",
       "       [-0.79970206, -0.80269982, -0.79947528, -0.7343436 ],\n",
       "       [-0.80020109, -0.80273324, -0.79949912, -0.73440708],\n",
       "       [-0.79983816, -0.80328533, -0.8006161 , -0.73475954],\n",
       "       [-0.80103526, -0.80404519, -0.8020441 , -0.73543738],\n",
       "       [-0.80228462, -0.80462559, -0.80226458, -0.73445762],\n",
       "       [-0.80159013, -0.80291161, -0.80114519, -0.72793238],\n",
       "       [-0.79977128, -0.80306039, -0.80058247, -0.73175662],\n",
       "       [-0.80084194, -0.80351337, -0.80033284, -0.73492092],\n",
       "       [-0.80072834, -0.80351458, -0.80019343, -0.73617509],\n",
       "       [-0.80033226, -0.80317052, -0.80001703, -0.73545302],\n",
       "       [-0.8006378 , -0.80369313, -0.80130269, -0.73610707],\n",
       "       [-0.80164099, -0.80315965, -0.80116603, -0.73606179],\n",
       "       [-0.80017389, -0.80172618, -0.79957525, -0.73510919],\n",
       "       [-0.7986915 , -0.80134037, -0.79897759, -0.7378177 ],\n",
       "       [-0.7996718 , -0.80240757, -0.79901384, -0.73842795],\n",
       "       [-0.7990394 , -0.80220817, -0.79861058, -0.73894536],\n",
       "       [-0.79925714, -0.80252928, -0.79955065, -0.73902624],\n",
       "       [-0.79987118, -0.80293089, -0.80025049, -0.73894368],\n",
       "       [-0.79997916, -0.803259  , -0.80010267, -0.73937042],\n",
       "       [-0.80052013, -0.8034653 , -0.80017442, -0.73949203],\n",
       "       [-0.80086703, -0.80416214, -0.80107636, -0.73900657],\n",
       "       [-0.80103474, -0.80408932, -0.80077437, -0.73962757],\n",
       "       [-0.80119075, -0.80427664, -0.80080011, -0.73988501],\n",
       "       [-0.80118343, -0.80449639, -0.80218152, -0.73974252],\n",
       "       [-0.80237421, -0.80517348, -0.80232608, -0.7399065 ],\n",
       "       [-0.80277339, -0.80537607, -0.80232503, -0.73983482],\n",
       "       [-0.80233725, -0.80529043, -0.80209066, -0.73974333],\n",
       "       [-0.80212496, -0.80502136, -0.80150281, -0.7399427 ],\n",
       "       [-0.80179916, -0.80512727, -0.80155811, -0.74008429],\n",
       "       [-0.80197745, -0.80459297, -0.80142489, -0.73976197],\n",
       "       [-0.80134463, -0.80402942, -0.80078678, -0.73930675],\n",
       "       [-0.80103991, -0.8034569 , -0.80041151, -0.73903625],\n",
       "       [-0.80037138, -0.80379028, -0.8003822 , -0.73970482],\n",
       "       [-0.80086893, -0.8042561 , -0.80104141, -0.73976017],\n",
       "       [-0.80161586, -0.80447151, -0.80162679, -0.73935929],\n",
       "       [-0.80116985, -0.80342276, -0.80090308, -0.73896679],\n",
       "       [-0.8006081 , -0.80405197, -0.80080379, -0.73951997],\n",
       "       [-0.80102931, -0.80447988, -0.80153356, -0.73941383],\n",
       "       [-0.80215921, -0.80386297, -0.8017236 , -0.7381808 ],\n",
       "       [-0.80127696, -0.80449555, -0.80120307, -0.73948334],\n",
       "       [-0.80172734, -0.80451675, -0.80111179, -0.73959269],\n",
       "       [-0.80142047, -0.80482964, -0.80119418, -0.7395026 ],\n",
       "       [-0.80170304, -0.80481278, -0.80119583, -0.73992913],\n",
       "       [-0.80158683, -0.80466069, -0.80119231, -0.73965555],\n",
       "       [-0.80147251, -0.80480287, -0.80115208, -0.74005359],\n",
       "       [-0.80172446, -0.80490596, -0.80118685, -0.73986255],\n",
       "       [-0.80166038, -0.80487439, -0.80146278, -0.74048103],\n",
       "       [-0.80187814, -0.80485262, -0.80123977, -0.74078043],\n",
       "       [-0.8014906 , -0.80484233, -0.80123872, -0.74076311],\n",
       "       [-0.80148306, -0.80305701, -0.80099298, -0.73831499],\n",
       "       [-0.8001951 , -0.80367076, -0.80037243, -0.74026037],\n",
       "       [-0.80086949, -0.80429313, -0.80070938, -0.74089542],\n",
       "       [-0.80099808, -0.80337976, -0.80034441, -0.74037762],\n",
       "       [-0.8000779 , -0.80356246, -0.80008905, -0.74070107],\n",
       "       [-0.80024805, -0.80352973, -0.7999761 , -0.74062386],\n",
       "       [-0.80047764, -0.80385632, -0.80113674, -0.74060523],\n",
       "       [-0.80171421, -0.80462447, -0.80113971, -0.74073542],\n",
       "       [-0.80136698, -0.80451086, -0.80085442, -0.74086108],\n",
       "       [-0.80107055, -0.8043967 , -0.80093847, -0.74078331],\n",
       "       [-0.80146431, -0.80483802, -0.80155455, -0.74073375],\n",
       "       [-0.80177496, -0.80487266, -0.80116227, -0.74094177],\n",
       "       [-0.80151452, -0.80486762, -0.80122774, -0.74092656],\n",
       "       [-0.80158287, -0.80386011, -0.80096806, -0.74044268],\n",
       "       [-0.80087012, -0.80074466, -0.80021475, -0.73670074],\n",
       "       [-0.79982058, -0.80321934, -0.80011867, -0.74018139],\n",
       "       [-0.80045586, -0.80221552, -0.79991239, -0.73980639],\n",
       "       [-0.79999422, -0.80230641, -0.79974748, -0.74024868],\n",
       "       [-0.79904804, -0.8020131 , -0.79874241, -0.74045842],\n",
       "       [-0.79936654, -0.80134244, -0.79887458, -0.73942655],\n",
       "       [-0.79886774, -0.80207886, -0.79876939, -0.74015478],\n",
       "       [-0.79929668, -0.80215776, -0.79909396, -0.74021699],\n",
       "       [-0.79882415, -0.8021541 , -0.79919832, -0.74020499],\n",
       "       [-0.79927893, -0.80061778, -0.79899199, -0.73896595],\n",
       "       [-0.79779587, -0.79992531, -0.79747225, -0.7398712 ],\n",
       "       [-0.79684391, -0.79751724, -0.79600418, -0.73862601],\n",
       "       [-0.79666335, -0.79965115, -0.79653897, -0.74013977],\n",
       "       [-0.7972089 , -0.80073246, -0.79777177, -0.74015621],\n",
       "       [-0.79808323, -0.80158783, -0.79774528, -0.74058896],\n",
       "       [-0.7983293 , -0.80096637, -0.79762911, -0.74023157],\n",
       "       [-0.79811701, -0.801596  , -0.79980691, -0.73868937],\n",
       "       [-0.79966099, -0.80267585, -0.79900143, -0.74060627],\n",
       "       [-0.79937827, -0.80167391, -0.79872023, -0.74019167],\n",
       "       [-0.79858931, -0.80089325, -0.79795977, -0.73981936],\n",
       "       [-0.79787404, -0.79997522, -0.79765743, -0.73949836],\n",
       "       [-0.79683899, -0.7990164 , -0.79613714, -0.74007998],\n",
       "       [-0.795787  , -0.79923877, -0.79583939, -0.74012813],\n",
       "       [-0.79560725, -0.7958129 , -0.79483088, -0.73804925],\n",
       "       [-0.79398605, -0.79318973, -0.79309389, -0.7385011 ],\n",
       "       [-0.7912667 , -0.79388714, -0.79107251, -0.73982443],\n",
       "       [-0.79170234, -0.79136201, -0.79066392, -0.739007  ],\n",
       "       [-0.78931897, -0.79172811, -0.79591364, -0.73605008],\n",
       "       [-0.79653421, -0.79722148, -0.79688801, -0.73498564],\n",
       "       [-0.79467044, -0.7979937 , -0.79450812, -0.73931636]])"
      ]
     },
     "execution_count": 40,
     "metadata": {},
     "output_type": "execute_result"
    }
   ],
   "source": [
    "X_ss[0]"
   ]
  },
  {
   "cell_type": "code",
   "execution_count": 22,
   "id": "a84ea89c",
   "metadata": {},
   "outputs": [],
   "source": [
    "assert y_mm[0].all() == y_trans[99:149].squeeze(1).all()"
   ]
  },
  {
   "cell_type": "code",
   "execution_count": 23,
   "id": "d2ee53ff",
   "metadata": {},
   "outputs": [
    {
     "data": {
      "text/plain": [
       "array([0.00174643, 0.00156752, 0.00138463, 0.00178738, 0.00204634,\n",
       "       0.00206862, 0.00185773, 0.00285176, 0.00406254, 0.00488882,\n",
       "       0.00490983, 0.00442311, 0.00453347, 0.00395832, 0.00391355,\n",
       "       0.00475018, 0.00498159, 0.00524871, 0.00479561, 0.00654393,\n",
       "       0.00607784, 0.0075782 , 0.00831965, 0.0101251 , 0.01078924,\n",
       "       0.0125938 , 0.01254048, 0.01119931, 0.01032634, 0.01110746,\n",
       "       0.00999669, 0.01089201, 0.00922443, 0.01042104, 0.00939712,\n",
       "       0.00969593, 0.01086281, 0.01095009, 0.01063999, 0.01177584,\n",
       "       0.01133735, 0.01352888, 0.01336409, 0.01517129, 0.01651106,\n",
       "       0.01481796, 0.01412125, 0.01165575, 0.01172716, 0.00805917])"
      ]
     },
     "execution_count": 23,
     "metadata": {},
     "output_type": "execute_result"
    }
   ],
   "source": [
    "y_mm[0]"
   ]
  },
  {
   "cell_type": "code",
   "execution_count": 24,
   "id": "2dd86f45",
   "metadata": {},
   "outputs": [
    {
     "name": "stdout",
     "output_type": "stream",
     "text": [
      "Training Shape: (874, 100, 4) (874, 50)\n",
      "Testing Shape: (150, 100, 4) (150, 50)\n"
     ]
    }
   ],
   "source": [
    "total_samples = len(X)\n",
    "train_test_cutoff = round(0.90 * total_samples)\n",
    "\n",
    "X_train = X_ss[:-150]\n",
    "X_test = X_ss[-150:]\n",
    "\n",
    "y_train = y_mm[:-150]\n",
    "y_test = y_mm[-150:] \n",
    "\n",
    "print(\"Training Shape:\", X_train.shape, y_train.shape)\n",
    "print(\"Testing Shape:\", X_test.shape, y_test.shape) "
   ]
  },
  {
   "cell_type": "code",
   "execution_count": 25,
   "id": "3b1f2512",
   "metadata": {},
   "outputs": [
    {
     "name": "stdout",
     "output_type": "stream",
     "text": [
      "150\n"
     ]
    }
   ],
   "source": [
    "import torch\n",
    "from torch.autograd import Variable\n",
    "# convert to pytorch tensors\n",
    "X_train_tensors = Variable(torch.Tensor(X_train))\n",
    "print(len(X_test))\n",
    "X_test_tensors = Variable(torch.Tensor(X_test))\n",
    "\n",
    "y_train_tensors = Variable(torch.Tensor(y_train))\n",
    "y_test_tensors = Variable(torch.Tensor(y_test))"
   ]
  },
  {
   "cell_type": "code",
   "execution_count": 42,
   "id": "fe02c6db",
   "metadata": {},
   "outputs": [
    {
     "data": {
      "text/plain": [
       "torch.Size([874, 100, 4])"
      ]
     },
     "execution_count": 42,
     "metadata": {},
     "output_type": "execute_result"
    }
   ],
   "source": [
    "X_train_tensors.shape"
   ]
  },
  {
   "cell_type": "code",
   "execution_count": 26,
   "id": "1d1a0c96",
   "metadata": {},
   "outputs": [
    {
     "name": "stdout",
     "output_type": "stream",
     "text": [
      "Training Shape: torch.Size([874, 100, 4]) torch.Size([874, 50])\n",
      "Testing Shape: torch.Size([150, 100, 4]) torch.Size([150, 50])\n"
     ]
    }
   ],
   "source": [
    "# reshaping to rows, timestamps, features\n",
    "X_train_tensors_final = torch.reshape(X_train_tensors,   \n",
    "                                      (X_train_tensors.shape[0], 100, \n",
    "                                       X_train_tensors.shape[2]))\n",
    "X_test_tensors_final = torch.reshape(X_test_tensors,  \n",
    "                                     (X_test_tensors.shape[0], 100, \n",
    "                                      X_test_tensors.shape[2])) \n",
    "\n",
    "print(\"Training Shape:\", X_train_tensors_final.shape, y_train_tensors.shape)\n",
    "print(\"Testing Shape:\", X_test_tensors_final.shape, y_test_tensors.shape) "
   ]
  },
  {
   "cell_type": "code",
   "execution_count": 27,
   "id": "653d6b40",
   "metadata": {},
   "outputs": [
    {
     "data": {
      "text/plain": [
       "array([[2.44106026e+01, 2.50173855e+01, 2.38418274e+01, 4.89857934e+08],\n",
       "       [2.39807873e+01, 2.66528053e+01, 2.38278446e+01, 1.13162163e+09],\n",
       "       [2.61353016e+01, 2.62493153e+01, 2.34891758e+01, 1.08417033e+09],\n",
       "       [2.39493217e+01, 2.43412876e+01, 2.35922489e+01, 6.17019880e+08]])"
      ]
     },
     "execution_count": 27,
     "metadata": {},
     "output_type": "execute_result"
    }
   ],
   "source": [
    "X_check, y_check = split_sequences(X, y.reshape(-1, 1), 100, 50)\n",
    "X_check[-1][0:4]"
   ]
  },
  {
   "cell_type": "code",
   "execution_count": 28,
   "id": "8585d74d",
   "metadata": {},
   "outputs": [
    {
     "data": {
      "text/plain": [
       "array([21.84422874, 20.65746307, 20.68364525, 20.95371056, 20.23488045,\n",
       "       20.91179466, 20.86876106, 20.95339775, 21.0071888 , 20.67942047,\n",
       "       21.06839943, 20.34869576, 20.34987068, 20.28544617, 19.60943794,\n",
       "       19.54204559, 20.04318237, 19.22366333, 19.26066208, 19.36695671,\n",
       "       20.42523384, 20.79857826, 20.5865097 , 21.25408363, 20.82450294,\n",
       "       20.50221825, 21.25759506, 21.15556526, 21.81897545, 20.07505989,\n",
       "       20.39848328, 18.63428307, 18.90947533, 17.37969971, 15.65610123,\n",
       "       15.5587759 , 15.19670773, 15.01819324, 14.48657227, 14.75947285,\n",
       "       15.30825424, 15.65052128, 15.43823528, 16.07304192, 16.63523102,\n",
       "       17.25704575, 16.64262009, 17.14953423, 16.65286255, 16.97138023])"
      ]
     },
     "execution_count": 28,
     "metadata": {},
     "output_type": "execute_result"
    }
   ],
   "source": [
    "y_check[-1]"
   ]
  },
  {
   "cell_type": "code",
   "execution_count": 29,
   "id": "dd1135e6",
   "metadata": {},
   "outputs": [
    {
     "data": {
      "text/plain": [
       "array([21.84422874, 20.65746307, 20.68364525, 20.95371056, 20.23488045,\n",
       "       20.91179466, 20.86876106, 20.95339775, 21.0071888 , 20.67942047,\n",
       "       21.06839943, 20.34869576, 20.34987068, 20.28544617, 19.60943794,\n",
       "       19.54204559, 20.04318237, 19.22366333, 19.26066208, 19.36695671,\n",
       "       20.42523384, 20.79857826, 20.5865097 , 21.25408363, 20.82450294,\n",
       "       20.50221825, 21.25759506, 21.15556526, 21.81897545, 20.07505989,\n",
       "       20.39848328, 18.63428307, 18.90947533, 17.37969971, 15.65610123,\n",
       "       15.5587759 , 15.19670773, 15.01819324, 14.48657227, 14.75947285,\n",
       "       15.30825424, 15.65052128, 15.43823528, 16.07304192, 16.63523102,\n",
       "       17.25704575, 16.64262009, 17.14953423, 16.65286255, 16.97138023])"
      ]
     },
     "execution_count": 29,
     "metadata": {},
     "output_type": "execute_result"
    }
   ],
   "source": [
    "data.Close.values[-50:]"
   ]
  },
  {
   "cell_type": "markdown",
   "id": "8bf7ef73",
   "metadata": {},
   "source": [
    "# Build the model"
   ]
  },
  {
   "cell_type": "code",
   "execution_count": 30,
   "id": "2e410b3a",
   "metadata": {},
   "outputs": [],
   "source": [
    "class LSTM(nn.Module):\n",
    "    \n",
    "    def __init__(self, num_classes, input_size, hidden_size, num_layers):\n",
    "        super().__init__()\n",
    "        self.num_classes = num_classes # output size\n",
    "        self.num_layers = num_layers # number of recurrent layers in the lstm\n",
    "        self.input_size = input_size # input size\n",
    "        self.hidden_size = hidden_size # neurons in each lstm layer\n",
    "        # LSTM model\n",
    "        self.lstm = nn.LSTM(input_size=input_size, hidden_size=hidden_size,\n",
    "                            num_layers=num_layers, batch_first=True, dropout=0.2) # lstm\n",
    "        self.fc_1 =  nn.Linear(hidden_size, 128) # fully connected \n",
    "        self.fc_2 = nn.Linear(128, num_classes) # fully connected last layer\n",
    "        self.relu = nn.ReLU()\n",
    "        \n",
    "    def forward(self,x):\n",
    "        # hidden state\n",
    "        h_0 = Variable(torch.zeros(self.num_layers, x.size(0), self.hidden_size))\n",
    "        # cell state\n",
    "        c_0 = Variable(torch.zeros(self.num_layers, x.size(0), self.hidden_size))\n",
    "        # propagate input through LSTM\n",
    "        output, (hn, cn) = self.lstm(x, (h_0, c_0)) # (input, hidden, and internal state)\n",
    "        hn = hn.view(-1, self.hidden_size) # reshaping the data for Dense layer next\n",
    "        out = self.relu(hn)\n",
    "        out = self.fc_1(out) # first dense\n",
    "        out = self.relu(out) # relu\n",
    "        out = self.fc_2(out) # final output\n",
    "        return out"
   ]
  },
  {
   "cell_type": "code",
   "execution_count": 31,
   "id": "03cdb576",
   "metadata": {},
   "outputs": [],
   "source": [
    "def training_loop(n_epochs, lstm, optimiser, loss_fn, X_train, y_train,\n",
    "                  X_test, y_test):\n",
    "    for epoch in range(n_epochs):\n",
    "        lstm.train()\n",
    "        outputs = lstm.forward(X_train) # forward pass\n",
    "        optimiser.zero_grad() # calculate the gradient, manually setting to 0\n",
    "        # obtain the loss function\n",
    "        loss = loss_fn(outputs, y_train)\n",
    "        loss.backward() # calculates the loss of the loss function\n",
    "        optimiser.step() # improve from loss, i.e backprop\n",
    "        # test loss\n",
    "        lstm.eval()\n",
    "        test_preds = lstm(X_test)\n",
    "        test_loss = loss_fn(test_preds, y_test)\n",
    "        if epoch % 100 == 0:\n",
    "            print(\"Epoch: %d, train loss: %1.5f, test loss: %1.5f\" % (epoch, \n",
    "                                                                      loss.item(), \n",
    "                                                                      test_loss.item())) \n",
    "            "
   ]
  },
  {
   "cell_type": "code",
   "execution_count": 32,
   "id": "28ae3dbb",
   "metadata": {},
   "outputs": [],
   "source": [
    "n_epochs = 1000 # 1000 epochs\n",
    "learning_rate = 0.001 # 0.001 lr\n",
    "\n",
    "input_size = 4 # number of features\n",
    "hidden_size = 2 # number of features in hidden state\n",
    "num_layers = 1 # number of stacked lstm layers\n",
    "\n",
    "num_classes = 50 # number of output classes \n",
    "\n",
    "lstm = LSTM(num_classes, \n",
    "              input_size, \n",
    "              hidden_size, \n",
    "              num_layers)"
   ]
  },
  {
   "cell_type": "code",
   "execution_count": 33,
   "id": "a008aa36",
   "metadata": {},
   "outputs": [],
   "source": [
    "loss_fn = torch.nn.MSELoss()    # mean-squared error for regression\n",
    "optimiser = torch.optim.Adam(lstm.parameters(), lr=learning_rate)"
   ]
  },
  {
   "cell_type": "code",
   "execution_count": 34,
   "id": "f92ab0e9",
   "metadata": {},
   "outputs": [
    {
     "name": "stdout",
     "output_type": "stream",
     "text": [
      "Epoch: 0, train loss: 0.14905, test loss: 0.03437\n",
      "Epoch: 100, train loss: 0.01458, test loss: 0.00118\n",
      "Epoch: 200, train loss: 0.01009, test loss: 0.00107\n",
      "Epoch: 300, train loss: 0.00951, test loss: 0.00078\n",
      "Epoch: 400, train loss: 0.00910, test loss: 0.00050\n",
      "Epoch: 500, train loss: 0.00859, test loss: 0.00043\n",
      "Epoch: 600, train loss: 0.00899, test loss: 0.00039\n",
      "Epoch: 700, train loss: 0.00827, test loss: 0.00039\n",
      "Epoch: 800, train loss: 0.00743, test loss: 0.00031\n",
      "Epoch: 900, train loss: 0.00667, test loss: 0.00028\n"
     ]
    }
   ],
   "source": [
    "training_loop(n_epochs=n_epochs,\n",
    "              lstm=lstm,\n",
    "              optimiser=optimiser,\n",
    "              loss_fn=loss_fn,\n",
    "              X_train=X_train_tensors_final,\n",
    "              y_train=y_train_tensors,\n",
    "              X_test=X_test_tensors_final,\n",
    "              y_test=y_test_tensors)"
   ]
  },
  {
   "cell_type": "markdown",
   "id": "4a6475c0",
   "metadata": {},
   "source": [
    "# Prediction on train set"
   ]
  },
  {
   "cell_type": "code",
   "execution_count": 35,
   "id": "628be592",
   "metadata": {},
   "outputs": [
    {
     "name": "stdout",
     "output_type": "stream",
     "text": [
      "1172\n",
      "1172\n",
      "1024\n",
      "1024\n"
     ]
    },
    {
     "data": {
      "image/png": "[encoded data removed]",
      "text/plain": [
       "<Figure size 720x432 with 1 Axes>"
      ]
     },
     "metadata": {},
     "output_type": "display_data"
    }
   ],
   "source": [
    "df_X_ss = ss.transform(data.drop(columns=['Close'])) # old transformers\n",
    "print(len(df_X_ss))\n",
    "df_y_mm = mm.transform(data.Close.values.reshape(-1, 1)) # old transformers\n",
    "print(len(df_y_mm))\n",
    "# split the sequence\n",
    "\n",
    "past_days = 100\n",
    "next_pred_days = 50\n",
    "df_X_ss, df_y_mm = split_sequences(df_X_ss, df_y_mm, past_days, next_pred_days)\n",
    "\n",
    "\n",
    "# converting to tensors\n",
    "df_X_ss = Variable(torch.Tensor(df_X_ss))\n",
    "df_y_mm = Variable(torch.Tensor(df_y_mm))\n",
    "# reshaping the dataset\n",
    "df_X_ss = torch.reshape(df_X_ss, (df_X_ss.shape[0], 100, df_X_ss.shape[2]))\n",
    "print(len(df_X_ss))\n",
    "\n",
    "train_predict = lstm(df_X_ss) # forward pass\n",
    "data_predict = train_predict.data.numpy() # numpy conversion\n",
    "dataY_plot = df_y_mm.data.numpy()\n",
    "\n",
    "data_predict = mm.inverse_transform(data_predict) # reverse transformation\n",
    "dataY_plot = mm.inverse_transform(dataY_plot)\n",
    "true, preds = [], []\n",
    "for i in range(len(dataY_plot)):\n",
    "    true.append(dataY_plot[i][0])\n",
    "for i in range(len(data_predict)):\n",
    "    preds.append(data_predict[i][0])\n",
    "plt.figure(figsize=(10,6)) #plotting\n",
    "print(len(preds))\n",
    "plt.axvline(x=train_test_cutoff, c='r', linestyle='--') # size of the training set\n",
    "\n",
    "plt.plot(true, label='Actual Data') # actual plot\n",
    "plt.plot(preds, label='Predicted Data') # predicted plot\n",
    "plt.title('Time-Series Prediction')\n",
    "plt.legend()\n",
    "plt.show() "
   ]
  },
  {
   "cell_type": "markdown",
   "id": "09bbed69",
   "metadata": {},
   "source": [
    "# Prediction on test set"
   ]
  },
  {
   "cell_type": "code",
   "execution_count": 36,
   "id": "cb825366",
   "metadata": {},
   "outputs": [
    {
     "data": {
      "image/png": "[encoded data removed]",
      "text/plain": [
       "<Figure size 432x288 with 1 Axes>"
      ]
     },
     "metadata": {},
     "output_type": "display_data"
    }
   ],
   "source": [
    "test_predict = lstm(X_test_tensors_final[-1].unsqueeze(0)) # get the last sample\n",
    "test_predict = test_predict.detach().numpy()\n",
    "test_predict = mm.inverse_transform(test_predict)\n",
    "test_predict = test_predict[0].tolist()\n",
    "\n",
    "test_target = y_test_tensors[-1].detach().numpy() # last sample again\n",
    "test_target = mm.inverse_transform(test_target.reshape(1, -1))\n",
    "test_target = test_target[0].tolist()\n",
    "\n",
    "plt.plot(test_target, label=\"Actual Data\")\n",
    "plt.plot(test_predict, label=\"LSTM Predictions\")\n",
    "plt.show()"
   ]
  },
  {
   "cell_type": "code",
   "execution_count": 37,
   "id": "8716edf0",
   "metadata": {},
   "outputs": [
    {
     "name": "stdout",
     "output_type": "stream",
     "text": [
      "[ 0.95105398  0.77681899  0.88250703 ... 17.14953423 16.65286255\n",
      " 16.97138023]\n"
     ]
    },
    {
     "data": {
      "image/png": "[encoded data removed]",
      "text/plain": [
       "<Figure size 720x432 with 1 Axes>"
      ]
     },
     "metadata": {},
     "output_type": "display_data"
    }
   ],
   "source": [
    "plt.figure(figsize=(10,6)) #plotting\n",
    "print(y)\n",
    "a = [x for x in range(900, len(y))]\n",
    "plt.plot(a, y[900:], label='Actual data');\n",
    "c = [x for x in range(len(y)-50, len(y))]\n",
    "plt.plot(c, test_predict, label='One-shot multi-step prediction (50 days)')\n",
    "plt.axvline(x=len(y)-50, c='r', linestyle='--')\n",
    "plt.legend()\n",
    "plt.show()"
   ]
  },
  {
   "cell_type": "code",
   "execution_count": 38,
   "id": "315be772",
   "metadata": {},
   "outputs": [
    {
     "name": "stdout",
     "output_type": "stream",
     "text": [
      "RMSE score:  3.0279378077695585\n",
      "MAPE score:  0.13814994217472717\n"
     ]
    }
   ],
   "source": [
    "#RMSE\n",
    "from math import sqrt\n",
    "from sklearn.metrics import mean_squared_error\n",
    "rms = sqrt(mean_squared_error(test_target,test_predict))\n",
    "\n",
    "#MAPE\n",
    "from sklearn.metrics import mean_absolute_percentage_error\n",
    "mapescore = mean_absolute_percentage_error(test_target,test_predict)\n",
    "\n",
    "#Print\n",
    "print(\"RMSE score: \", rms)\n",
    "print(\"MAPE score: \", mapescore)"
   ]
  },
  {
   "cell_type": "code",
   "execution_count": null,
   "id": "f4f0621d",
   "metadata": {},
   "outputs": [],
   "source": []
  }
 ],
 "metadata": {
  "kernelspec": {
   "display_name": "Python 3 (ipykernel)",
   "language": "python",
   "name": "python3"
  },
  "language_info": {
   "codemirror_mode": {
    "name": "ipython",
    "version": 3
   },
   "file_extension": ".py",
   "mimetype": "text/x-python",
   "name": "python",
   "nbconvert_exporter": "python",
   "pygments_lexer": "ipython3",
   "version": "3.9.12"
  }
 },
 "nbformat": 4,
 "nbformat_minor": 5
}
