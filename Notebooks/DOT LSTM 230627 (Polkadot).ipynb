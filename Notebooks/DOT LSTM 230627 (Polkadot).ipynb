{
 "cells": [
  {
   "cell_type": "code",
   "execution_count": 1,
   "id": "72311904",
   "metadata": {},
   "outputs": [],
   "source": [
    "import warnings\n",
    "warnings.filterwarnings('ignore')\n",
    "import os\n",
    "import pandas as pd\n",
    "import numpy as np\n",
    "import math\n",
    "import datetime as dt\n",
    "import matplotlib.pyplot as plt\n",
    "\n",
    "from sklearn.metrics import mean_squared_error, mean_absolute_error, explained_variance_score, r2_score \n",
    "from sklearn.metrics import mean_poisson_deviance, mean_gamma_deviance, accuracy_score\n",
    "from sklearn.preprocessing import MinMaxScaler\n",
    "\n",
    "from itertools import product\n",
    "import statsmodels.api as sm\n",
    "\n",
    "import tensorflow as tf\n",
    "\n",
    "from tensorflow.keras.models import Sequential\n",
    "from tensorflow.keras.layers import Dense, Dropout\n",
    "from tensorflow.keras.layers import LSTM\n",
    "\n",
    "from itertools import cycle\n",
    "import plotly.offline as py\n",
    "import plotly.graph_objects as go\n",
    "import plotly.express as px\n",
    "from plotly.subplots import make_subplots\n",
    "\n",
    "plt.style.use('seaborn-darkgrid')"
   ]
  },
  {
   "cell_type": "code",
   "execution_count": 2,
   "id": "59ffa9e4",
   "metadata": {},
   "outputs": [],
   "source": [
    "import torch.nn as nn"
   ]
  },
  {
   "cell_type": "markdown",
   "id": "143c80ba",
   "metadata": {},
   "source": [
    "# Data source"
   ]
  },
  {
   "cell_type": "code",
   "execution_count": 3,
   "id": "bf8c5488",
   "metadata": {},
   "outputs": [],
   "source": [
    "#Data Source\n",
    "import yfinance as yf\n",
    "\n",
    "#Data viz\n",
    "import plotly.graph_objs as go\n",
    "\n",
    "#import date time\n",
    "import datetime"
   ]
  },
  {
   "cell_type": "code",
   "execution_count": 4,
   "id": "e92bcda0",
   "metadata": {},
   "outputs": [],
   "source": [
    "# Set start date as 2014-01-01\n",
    "start_date = datetime.datetime(2014, 9, 16)\n",
    "\n",
    "# Set end date as today's date\n",
    "end_date = datetime.datetime.now().strftime('%Y-%m-%d')"
   ]
  },
  {
   "cell_type": "code",
   "execution_count": 8,
   "id": "4b6f6e15",
   "metadata": {},
   "outputs": [],
   "source": [
    "#coin -- change this to predict other coins\n",
    "ticker = 'DOT-USD'"
   ]
  },
  {
   "cell_type": "code",
   "execution_count": 9,
   "id": "70512663",
   "metadata": {},
   "outputs": [
    {
     "name": "stdout",
     "output_type": "stream",
     "text": [
      "[*********************100%***********************]  1 of 1 completed\n"
     ]
    }
   ],
   "source": [
    "data = yf.download(tickers=ticker, start=start_date, end=end_date, interval = '1d')"
   ]
  },
  {
   "cell_type": "code",
   "execution_count": 10,
   "id": "4fb3d558",
   "metadata": {},
   "outputs": [],
   "source": [
    "data.drop(columns=['Adj Close'], inplace=True)"
   ]
  },
  {
   "cell_type": "code",
   "execution_count": 11,
   "id": "ddeb41a9",
   "metadata": {},
   "outputs": [
    {
     "data": {
      "text/html": [
       "<div>\n",
       "<style scoped>\n",
       "    .dataframe tbody tr th:only-of-type {\n",
       "        vertical-align: middle;\n",
       "    }\n",
       "\n",
       "    .dataframe tbody tr th {\n",
       "        vertical-align: top;\n",
       "    }\n",
       "\n",
       "    .dataframe thead th {\n",
       "        text-align: right;\n",
       "    }\n",
       "</style>\n",
       "<table border=\"1\" class=\"dataframe\">\n",
       "  <thead>\n",
       "    <tr style=\"text-align: right;\">\n",
       "      <th></th>\n",
       "      <th>Open</th>\n",
       "      <th>High</th>\n",
       "      <th>Low</th>\n",
       "      <th>Close</th>\n",
       "      <th>Volume</th>\n",
       "    </tr>\n",
       "    <tr>\n",
       "      <th>Date</th>\n",
       "      <th></th>\n",
       "      <th></th>\n",
       "      <th></th>\n",
       "      <th></th>\n",
       "      <th></th>\n",
       "    </tr>\n",
       "  </thead>\n",
       "  <tbody>\n",
       "    <tr>\n",
       "      <th>2020-08-20</th>\n",
       "      <td>2.787857</td>\n",
       "      <td>3.077784</td>\n",
       "      <td>2.692896</td>\n",
       "      <td>2.900080</td>\n",
       "      <td>48819867</td>\n",
       "    </tr>\n",
       "    <tr>\n",
       "      <th>2020-08-21</th>\n",
       "      <td>2.896923</td>\n",
       "      <td>3.090093</td>\n",
       "      <td>2.730919</td>\n",
       "      <td>2.875028</td>\n",
       "      <td>49313137</td>\n",
       "    </tr>\n",
       "    <tr>\n",
       "      <th>2020-08-22</th>\n",
       "      <td>2.878570</td>\n",
       "      <td>4.510613</td>\n",
       "      <td>2.816762</td>\n",
       "      <td>4.484690</td>\n",
       "      <td>485801096</td>\n",
       "    </tr>\n",
       "    <tr>\n",
       "      <th>2020-08-23</th>\n",
       "      <td>4.487058</td>\n",
       "      <td>4.487058</td>\n",
       "      <td>3.716271</td>\n",
       "      <td>3.967066</td>\n",
       "      <td>320749483</td>\n",
       "    </tr>\n",
       "    <tr>\n",
       "      <th>2020-08-24</th>\n",
       "      <td>3.987413</td>\n",
       "      <td>4.783158</td>\n",
       "      <td>3.812670</td>\n",
       "      <td>4.602614</td>\n",
       "      <td>407690171</td>\n",
       "    </tr>\n",
       "    <tr>\n",
       "      <th>2020-08-25</th>\n",
       "      <td>4.584953</td>\n",
       "      <td>5.760775</td>\n",
       "      <td>4.501223</td>\n",
       "      <td>5.523393</td>\n",
       "      <td>898847538</td>\n",
       "    </tr>\n",
       "    <tr>\n",
       "      <th>2020-08-26</th>\n",
       "      <td>5.541406</td>\n",
       "      <td>6.554688</td>\n",
       "      <td>5.136205</td>\n",
       "      <td>6.081716</td>\n",
       "      <td>1054351759</td>\n",
       "    </tr>\n",
       "    <tr>\n",
       "      <th>2020-08-27</th>\n",
       "      <td>6.075772</td>\n",
       "      <td>6.789180</td>\n",
       "      <td>5.313926</td>\n",
       "      <td>5.628337</td>\n",
       "      <td>1289248953</td>\n",
       "    </tr>\n",
       "    <tr>\n",
       "      <th>2020-08-28</th>\n",
       "      <td>5.639486</td>\n",
       "      <td>6.333746</td>\n",
       "      <td>5.540963</td>\n",
       "      <td>6.159955</td>\n",
       "      <td>727162235</td>\n",
       "    </tr>\n",
       "    <tr>\n",
       "      <th>2020-08-29</th>\n",
       "      <td>6.175925</td>\n",
       "      <td>6.562906</td>\n",
       "      <td>6.042309</td>\n",
       "      <td>6.159143</td>\n",
       "      <td>527290028</td>\n",
       "    </tr>\n",
       "  </tbody>\n",
       "</table>\n",
       "</div>"
      ],
      "text/plain": [
       "                Open      High       Low     Close      Volume\n",
       "Date                                                          \n",
       "2020-08-20  2.787857  3.077784  2.692896  2.900080    48819867\n",
       "2020-08-21  2.896923  3.090093  2.730919  2.875028    49313137\n",
       "2020-08-22  2.878570  4.510613  2.816762  4.484690   485801096\n",
       "2020-08-23  4.487058  4.487058  3.716271  3.967066   320749483\n",
       "2020-08-24  3.987413  4.783158  3.812670  4.602614   407690171\n",
       "2020-08-25  4.584953  5.760775  4.501223  5.523393   898847538\n",
       "2020-08-26  5.541406  6.554688  5.136205  6.081716  1054351759\n",
       "2020-08-27  6.075772  6.789180  5.313926  5.628337  1289248953\n",
       "2020-08-28  5.639486  6.333746  5.540963  6.159955   727162235\n",
       "2020-08-29  6.175925  6.562906  6.042309  6.159143   527290028"
      ]
     },
     "execution_count": 11,
     "metadata": {},
     "output_type": "execute_result"
    }
   ],
   "source": [
    "data.head(10)"
   ]
  },
  {
   "cell_type": "code",
   "execution_count": 12,
   "id": "e0c571bb",
   "metadata": {},
   "outputs": [
    {
     "data": {
      "text/plain": [
       "(1040, 5)"
      ]
     },
     "execution_count": 12,
     "metadata": {},
     "output_type": "execute_result"
    }
   ],
   "source": [
    "data.shape"
   ]
  },
  {
   "cell_type": "code",
   "execution_count": 13,
   "id": "7515ba93",
   "metadata": {},
   "outputs": [
    {
     "data": {
      "text/html": [
       "<div>\n",
       "<style scoped>\n",
       "    .dataframe tbody tr th:only-of-type {\n",
       "        vertical-align: middle;\n",
       "    }\n",
       "\n",
       "    .dataframe tbody tr th {\n",
       "        vertical-align: top;\n",
       "    }\n",
       "\n",
       "    .dataframe thead th {\n",
       "        text-align: right;\n",
       "    }\n",
       "</style>\n",
       "<table border=\"1\" class=\"dataframe\">\n",
       "  <thead>\n",
       "    <tr style=\"text-align: right;\">\n",
       "      <th></th>\n",
       "      <th>Open</th>\n",
       "      <th>High</th>\n",
       "      <th>Low</th>\n",
       "      <th>Close</th>\n",
       "      <th>Volume</th>\n",
       "    </tr>\n",
       "    <tr>\n",
       "      <th>Date</th>\n",
       "      <th></th>\n",
       "      <th></th>\n",
       "      <th></th>\n",
       "      <th></th>\n",
       "      <th></th>\n",
       "    </tr>\n",
       "  </thead>\n",
       "  <tbody>\n",
       "    <tr>\n",
       "      <th>2020-08-20</th>\n",
       "      <td>2.787857</td>\n",
       "      <td>3.077784</td>\n",
       "      <td>2.692896</td>\n",
       "      <td>2.900080</td>\n",
       "      <td>48819867</td>\n",
       "    </tr>\n",
       "    <tr>\n",
       "      <th>2020-08-21</th>\n",
       "      <td>2.896923</td>\n",
       "      <td>3.090093</td>\n",
       "      <td>2.730919</td>\n",
       "      <td>2.875028</td>\n",
       "      <td>49313137</td>\n",
       "    </tr>\n",
       "    <tr>\n",
       "      <th>2020-08-22</th>\n",
       "      <td>2.878570</td>\n",
       "      <td>4.510613</td>\n",
       "      <td>2.816762</td>\n",
       "      <td>4.484690</td>\n",
       "      <td>485801096</td>\n",
       "    </tr>\n",
       "    <tr>\n",
       "      <th>2020-08-23</th>\n",
       "      <td>4.487058</td>\n",
       "      <td>4.487058</td>\n",
       "      <td>3.716271</td>\n",
       "      <td>3.967066</td>\n",
       "      <td>320749483</td>\n",
       "    </tr>\n",
       "    <tr>\n",
       "      <th>2020-08-24</th>\n",
       "      <td>3.987413</td>\n",
       "      <td>4.783158</td>\n",
       "      <td>3.812670</td>\n",
       "      <td>4.602614</td>\n",
       "      <td>407690171</td>\n",
       "    </tr>\n",
       "    <tr>\n",
       "      <th>2020-08-25</th>\n",
       "      <td>4.584953</td>\n",
       "      <td>5.760775</td>\n",
       "      <td>4.501223</td>\n",
       "      <td>5.523393</td>\n",
       "      <td>898847538</td>\n",
       "    </tr>\n",
       "    <tr>\n",
       "      <th>2020-08-26</th>\n",
       "      <td>5.541406</td>\n",
       "      <td>6.554688</td>\n",
       "      <td>5.136205</td>\n",
       "      <td>6.081716</td>\n",
       "      <td>1054351759</td>\n",
       "    </tr>\n",
       "    <tr>\n",
       "      <th>2020-08-27</th>\n",
       "      <td>6.075772</td>\n",
       "      <td>6.789180</td>\n",
       "      <td>5.313926</td>\n",
       "      <td>5.628337</td>\n",
       "      <td>1289248953</td>\n",
       "    </tr>\n",
       "    <tr>\n",
       "      <th>2020-08-28</th>\n",
       "      <td>5.639486</td>\n",
       "      <td>6.333746</td>\n",
       "      <td>5.540963</td>\n",
       "      <td>6.159955</td>\n",
       "      <td>727162235</td>\n",
       "    </tr>\n",
       "    <tr>\n",
       "      <th>2020-08-29</th>\n",
       "      <td>6.175925</td>\n",
       "      <td>6.562906</td>\n",
       "      <td>6.042309</td>\n",
       "      <td>6.159143</td>\n",
       "      <td>527290028</td>\n",
       "    </tr>\n",
       "  </tbody>\n",
       "</table>\n",
       "</div>"
      ],
      "text/plain": [
       "                Open      High       Low     Close      Volume\n",
       "Date                                                          \n",
       "2020-08-20  2.787857  3.077784  2.692896  2.900080    48819867\n",
       "2020-08-21  2.896923  3.090093  2.730919  2.875028    49313137\n",
       "2020-08-22  2.878570  4.510613  2.816762  4.484690   485801096\n",
       "2020-08-23  4.487058  4.487058  3.716271  3.967066   320749483\n",
       "2020-08-24  3.987413  4.783158  3.812670  4.602614   407690171\n",
       "2020-08-25  4.584953  5.760775  4.501223  5.523393   898847538\n",
       "2020-08-26  5.541406  6.554688  5.136205  6.081716  1054351759\n",
       "2020-08-27  6.075772  6.789180  5.313926  5.628337  1289248953\n",
       "2020-08-28  5.639486  6.333746  5.540963  6.159955   727162235\n",
       "2020-08-29  6.175925  6.562906  6.042309  6.159143   527290028"
      ]
     },
     "execution_count": 13,
     "metadata": {},
     "output_type": "execute_result"
    }
   ],
   "source": [
    "data.head(10)"
   ]
  },
  {
   "cell_type": "code",
   "execution_count": 14,
   "id": "ed34ea1f",
   "metadata": {},
   "outputs": [
    {
     "name": "stdout",
     "output_type": "stream",
     "text": [
      "<class 'pandas.core.frame.DataFrame'>\n",
      "DatetimeIndex: 1040 entries, 2020-08-20 to 2023-06-25\n",
      "Data columns (total 5 columns):\n",
      " #   Column  Non-Null Count  Dtype  \n",
      "---  ------  --------------  -----  \n",
      " 0   Open    1040 non-null   float64\n",
      " 1   High    1040 non-null   float64\n",
      " 2   Low     1040 non-null   float64\n",
      " 3   Close   1040 non-null   float64\n",
      " 4   Volume  1040 non-null   int64  \n",
      "dtypes: float64(4), int64(1)\n",
      "memory usage: 48.8 KB\n"
     ]
    }
   ],
   "source": [
    "data.info()\n",
    "#data.dtypes"
   ]
  },
  {
   "cell_type": "code",
   "execution_count": 15,
   "id": "6be04616",
   "metadata": {},
   "outputs": [
    {
     "data": {
      "text/html": [
       "<div>\n",
       "<style scoped>\n",
       "    .dataframe tbody tr th:only-of-type {\n",
       "        vertical-align: middle;\n",
       "    }\n",
       "\n",
       "    .dataframe tbody tr th {\n",
       "        vertical-align: top;\n",
       "    }\n",
       "\n",
       "    .dataframe thead th {\n",
       "        text-align: right;\n",
       "    }\n",
       "</style>\n",
       "<table border=\"1\" class=\"dataframe\">\n",
       "  <thead>\n",
       "    <tr style=\"text-align: right;\">\n",
       "      <th></th>\n",
       "      <th>Open</th>\n",
       "      <th>High</th>\n",
       "      <th>Low</th>\n",
       "      <th>Close</th>\n",
       "      <th>Volume</th>\n",
       "    </tr>\n",
       "  </thead>\n",
       "  <tbody>\n",
       "    <tr>\n",
       "      <th>count</th>\n",
       "      <td>1040.000000</td>\n",
       "      <td>1040.000000</td>\n",
       "      <td>1040.000000</td>\n",
       "      <td>1040.000000</td>\n",
       "      <td>1.040000e+03</td>\n",
       "    </tr>\n",
       "    <tr>\n",
       "      <th>mean</th>\n",
       "      <td>15.862908</td>\n",
       "      <td>16.571314</td>\n",
       "      <td>15.074678</td>\n",
       "      <td>15.863171</td>\n",
       "      <td>1.193321e+09</td>\n",
       "    </tr>\n",
       "    <tr>\n",
       "      <th>std</th>\n",
       "      <td>12.421806</td>\n",
       "      <td>13.027985</td>\n",
       "      <td>11.719143</td>\n",
       "      <td>12.417906</td>\n",
       "      <td>1.293878e+09</td>\n",
       "    </tr>\n",
       "    <tr>\n",
       "      <th>min</th>\n",
       "      <td>2.787857</td>\n",
       "      <td>3.077784</td>\n",
       "      <td>2.692896</td>\n",
       "      <td>2.875028</td>\n",
       "      <td>4.881987e+07</td>\n",
       "    </tr>\n",
       "    <tr>\n",
       "      <th>25%</th>\n",
       "      <td>5.907409</td>\n",
       "      <td>6.052934</td>\n",
       "      <td>5.738372</td>\n",
       "      <td>5.905517</td>\n",
       "      <td>3.061495e+08</td>\n",
       "    </tr>\n",
       "    <tr>\n",
       "      <th>50%</th>\n",
       "      <td>9.251115</td>\n",
       "      <td>9.541572</td>\n",
       "      <td>8.726554</td>\n",
       "      <td>9.230125</td>\n",
       "      <td>7.258287e+08</td>\n",
       "    </tr>\n",
       "    <tr>\n",
       "      <th>75%</th>\n",
       "      <td>23.971325</td>\n",
       "      <td>25.337018</td>\n",
       "      <td>22.624338</td>\n",
       "      <td>23.956475</td>\n",
       "      <td>1.634672e+09</td>\n",
       "    </tr>\n",
       "    <tr>\n",
       "      <th>max</th>\n",
       "      <td>53.877750</td>\n",
       "      <td>55.004974</td>\n",
       "      <td>52.254654</td>\n",
       "      <td>53.881733</td>\n",
       "      <td>1.007000e+10</td>\n",
       "    </tr>\n",
       "  </tbody>\n",
       "</table>\n",
       "</div>"
      ],
      "text/plain": [
       "              Open         High          Low        Close        Volume\n",
       "count  1040.000000  1040.000000  1040.000000  1040.000000  1.040000e+03\n",
       "mean     15.862908    16.571314    15.074678    15.863171  1.193321e+09\n",
       "std      12.421806    13.027985    11.719143    12.417906  1.293878e+09\n",
       "min       2.787857     3.077784     2.692896     2.875028  4.881987e+07\n",
       "25%       5.907409     6.052934     5.738372     5.905517  3.061495e+08\n",
       "50%       9.251115     9.541572     8.726554     9.230125  7.258287e+08\n",
       "75%      23.971325    25.337018    22.624338    23.956475  1.634672e+09\n",
       "max      53.877750    55.004974    52.254654    53.881733  1.007000e+10"
      ]
     },
     "execution_count": 15,
     "metadata": {},
     "output_type": "execute_result"
    }
   ],
   "source": [
    "data.describe()"
   ]
  },
  {
   "cell_type": "code",
   "execution_count": 16,
   "id": "b2d5b8a7",
   "metadata": {},
   "outputs": [
    {
     "name": "stdout",
     "output_type": "stream",
     "text": [
      "Null Values: 0\n",
      "If any NA values: False\n"
     ]
    }
   ],
   "source": [
    "print('Null Values:', data.isnull().values.sum())\n",
    "print('If any NA values:', data.isnull().values.any())"
   ]
  },
  {
   "cell_type": "code",
   "execution_count": 17,
   "id": "a151c46c",
   "metadata": {},
   "outputs": [
    {
     "data": {
      "text/html": [
       "<div>\n",
       "<style scoped>\n",
       "    .dataframe tbody tr th:only-of-type {\n",
       "        vertical-align: middle;\n",
       "    }\n",
       "\n",
       "    .dataframe tbody tr th {\n",
       "        vertical-align: top;\n",
       "    }\n",
       "\n",
       "    .dataframe thead th {\n",
       "        text-align: right;\n",
       "    }\n",
       "</style>\n",
       "<table border=\"1\" class=\"dataframe\">\n",
       "  <thead>\n",
       "    <tr style=\"text-align: right;\">\n",
       "      <th></th>\n",
       "      <th>Open</th>\n",
       "      <th>High</th>\n",
       "      <th>Low</th>\n",
       "      <th>Close</th>\n",
       "      <th>Volume</th>\n",
       "    </tr>\n",
       "    <tr>\n",
       "      <th>Date</th>\n",
       "      <th></th>\n",
       "      <th></th>\n",
       "      <th></th>\n",
       "      <th></th>\n",
       "      <th></th>\n",
       "    </tr>\n",
       "  </thead>\n",
       "  <tbody>\n",
       "    <tr>\n",
       "      <th>2023-06-16</th>\n",
       "      <td>4.377059</td>\n",
       "      <td>4.453419</td>\n",
       "      <td>4.297904</td>\n",
       "      <td>4.416847</td>\n",
       "      <td>108807587</td>\n",
       "    </tr>\n",
       "    <tr>\n",
       "      <th>2023-06-17</th>\n",
       "      <td>4.416987</td>\n",
       "      <td>4.559695</td>\n",
       "      <td>4.400118</td>\n",
       "      <td>4.526131</td>\n",
       "      <td>94181697</td>\n",
       "    </tr>\n",
       "    <tr>\n",
       "      <th>2023-06-18</th>\n",
       "      <td>4.525902</td>\n",
       "      <td>4.661501</td>\n",
       "      <td>4.489462</td>\n",
       "      <td>4.530963</td>\n",
       "      <td>97195546</td>\n",
       "    </tr>\n",
       "    <tr>\n",
       "      <th>2023-06-19</th>\n",
       "      <td>4.531147</td>\n",
       "      <td>4.581550</td>\n",
       "      <td>4.449982</td>\n",
       "      <td>4.522422</td>\n",
       "      <td>94392197</td>\n",
       "    </tr>\n",
       "    <tr>\n",
       "      <th>2023-06-20</th>\n",
       "      <td>4.522753</td>\n",
       "      <td>4.673692</td>\n",
       "      <td>4.379486</td>\n",
       "      <td>4.668924</td>\n",
       "      <td>120595261</td>\n",
       "    </tr>\n",
       "    <tr>\n",
       "      <th>2023-06-21</th>\n",
       "      <td>4.668569</td>\n",
       "      <td>4.852588</td>\n",
       "      <td>4.643674</td>\n",
       "      <td>4.829426</td>\n",
       "      <td>156905291</td>\n",
       "    </tr>\n",
       "    <tr>\n",
       "      <th>2023-06-22</th>\n",
       "      <td>4.828272</td>\n",
       "      <td>4.969238</td>\n",
       "      <td>4.779751</td>\n",
       "      <td>4.830628</td>\n",
       "      <td>145580309</td>\n",
       "    </tr>\n",
       "    <tr>\n",
       "      <th>2023-06-23</th>\n",
       "      <td>4.830538</td>\n",
       "      <td>5.134512</td>\n",
       "      <td>4.828192</td>\n",
       "      <td>5.100215</td>\n",
       "      <td>164328402</td>\n",
       "    </tr>\n",
       "    <tr>\n",
       "      <th>2023-06-24</th>\n",
       "      <td>5.100292</td>\n",
       "      <td>5.132454</td>\n",
       "      <td>4.950829</td>\n",
       "      <td>5.007447</td>\n",
       "      <td>118793919</td>\n",
       "    </tr>\n",
       "    <tr>\n",
       "      <th>2023-06-25</th>\n",
       "      <td>5.007744</td>\n",
       "      <td>5.238465</td>\n",
       "      <td>5.007744</td>\n",
       "      <td>5.194805</td>\n",
       "      <td>152201774</td>\n",
       "    </tr>\n",
       "  </tbody>\n",
       "</table>\n",
       "</div>"
      ],
      "text/plain": [
       "                Open      High       Low     Close     Volume\n",
       "Date                                                         \n",
       "2023-06-16  4.377059  4.453419  4.297904  4.416847  108807587\n",
       "2023-06-17  4.416987  4.559695  4.400118  4.526131   94181697\n",
       "2023-06-18  4.525902  4.661501  4.489462  4.530963   97195546\n",
       "2023-06-19  4.531147  4.581550  4.449982  4.522422   94392197\n",
       "2023-06-20  4.522753  4.673692  4.379486  4.668924  120595261\n",
       "2023-06-21  4.668569  4.852588  4.643674  4.829426  156905291\n",
       "2023-06-22  4.828272  4.969238  4.779751  4.830628  145580309\n",
       "2023-06-23  4.830538  5.134512  4.828192  5.100215  164328402\n",
       "2023-06-24  5.100292  5.132454  4.950829  5.007447  118793919\n",
       "2023-06-25  5.007744  5.238465  5.007744  5.194805  152201774"
      ]
     },
     "execution_count": 17,
     "metadata": {},
     "output_type": "execute_result"
    }
   ],
   "source": [
    "data.tail(10)"
   ]
  },
  {
   "cell_type": "code",
   "execution_count": 18,
   "id": "bde8f605",
   "metadata": {},
   "outputs": [
    {
     "data": {
      "text/plain": [
       "<AxesSubplot:title={'center':'Bitcoin Weighted Price'}, xlabel='Date'>"
      ]
     },
     "execution_count": 18,
     "metadata": {},
     "output_type": "execute_result"
    },
    {
     "data": {
      "image/png": "[encoded data removed]",
      "text/plain": [
       "<Figure size 1728x504 with 1 Axes>"
      ]
     },
     "metadata": {},
     "output_type": "display_data"
    }
   ],
   "source": [
    "data.Close.plot(figsize=(24,7), title=\"Bitcoin Weighted Price\")"
   ]
  },
  {
   "cell_type": "markdown",
   "id": "2d9c371e",
   "metadata": {},
   "source": [
    "# Lag plot\n",
    "Lag plot are used to observe the autocorrelation. These are crucial when we try to correct the trend and stationarity and we have to use smoothing functions. Lag plot helps us to understand the data better."
   ]
  },
  {
   "cell_type": "code",
   "execution_count": 19,
   "id": "f1de296b",
   "metadata": {},
   "outputs": [
    {
     "data": {
      "image/png": "[encoded data removed]",
      "text/plain": [
       "<Figure size 1080x864 with 1 Axes>"
      ]
     },
     "metadata": {},
     "output_type": "display_data"
    }
   ],
   "source": [
    "plt.figure(figsize=(15,12))\n",
    "\n",
    "# Create a lag plot with a lag of 1 day\n",
    "pd.plotting.lag_plot(data['Close'], lag=1)\n",
    "\n",
    "# Set plot title and labels\n",
    "plt.title('Bitcoin Close Price Lag Plot (1 day)')\n",
    "plt.xlabel('Close Price (lagged)')\n",
    "plt.ylabel('Close Price (current)')\n",
    "\n",
    "# Display the plot\n",
    "plt.show()"
   ]
  },
  {
   "cell_type": "markdown",
   "id": "48e90ee0",
   "metadata": {},
   "source": [
    "In the lag plot of 1 day for Bitcoin's close price, a strong positive slope straight line is observed. This indicates the presence of a significant positive autocorrelation in the data. The positive autocorrelation suggests that the current day's close price is positively related to the previous day's close price. In other words, when the close price increases on a particular day, there is a higher likelihood of it increasing on the following day as well. This pattern implies the existence of short-term momentum or serial dependence in Bitcoin's close price. However, it is important to further validate this inference using statistical tests and consider additional analysis techniques before making any investment decisions."
   ]
  },
  {
   "cell_type": "markdown",
   "id": "6e5f55c1",
   "metadata": {},
   "source": [
    "# Define input and output"
   ]
  },
  {
   "cell_type": "code",
   "execution_count": 20,
   "id": "3d870765",
   "metadata": {},
   "outputs": [
    {
     "data": {
      "text/plain": [
       "((1040, 4), (1040,))"
      ]
     },
     "execution_count": 20,
     "metadata": {},
     "output_type": "execute_result"
    }
   ],
   "source": [
    "# Our input vector will consists of everything except our target, \"Closing Price\"\n",
    "X, y = data.drop(columns=['Close']), data.Close.values\n",
    "X.shape, y.shape"
   ]
  },
  {
   "cell_type": "code",
   "execution_count": 21,
   "id": "88fda819",
   "metadata": {},
   "outputs": [
    {
     "data": {
      "text/html": [
       "<div>\n",
       "<style scoped>\n",
       "    .dataframe tbody tr th:only-of-type {\n",
       "        vertical-align: middle;\n",
       "    }\n",
       "\n",
       "    .dataframe tbody tr th {\n",
       "        vertical-align: top;\n",
       "    }\n",
       "\n",
       "    .dataframe thead th {\n",
       "        text-align: right;\n",
       "    }\n",
       "</style>\n",
       "<table border=\"1\" class=\"dataframe\">\n",
       "  <thead>\n",
       "    <tr style=\"text-align: right;\">\n",
       "      <th></th>\n",
       "      <th>Open</th>\n",
       "      <th>High</th>\n",
       "      <th>Low</th>\n",
       "      <th>Volume</th>\n",
       "    </tr>\n",
       "    <tr>\n",
       "      <th>Date</th>\n",
       "      <th></th>\n",
       "      <th></th>\n",
       "      <th></th>\n",
       "      <th></th>\n",
       "    </tr>\n",
       "  </thead>\n",
       "  <tbody>\n",
       "    <tr>\n",
       "      <th>2020-08-20</th>\n",
       "      <td>2.787857</td>\n",
       "      <td>3.077784</td>\n",
       "      <td>2.692896</td>\n",
       "      <td>48819867</td>\n",
       "    </tr>\n",
       "    <tr>\n",
       "      <th>2020-08-21</th>\n",
       "      <td>2.896923</td>\n",
       "      <td>3.090093</td>\n",
       "      <td>2.730919</td>\n",
       "      <td>49313137</td>\n",
       "    </tr>\n",
       "    <tr>\n",
       "      <th>2020-08-22</th>\n",
       "      <td>2.878570</td>\n",
       "      <td>4.510613</td>\n",
       "      <td>2.816762</td>\n",
       "      <td>485801096</td>\n",
       "    </tr>\n",
       "    <tr>\n",
       "      <th>2020-08-23</th>\n",
       "      <td>4.487058</td>\n",
       "      <td>4.487058</td>\n",
       "      <td>3.716271</td>\n",
       "      <td>320749483</td>\n",
       "    </tr>\n",
       "    <tr>\n",
       "      <th>2020-08-24</th>\n",
       "      <td>3.987413</td>\n",
       "      <td>4.783158</td>\n",
       "      <td>3.812670</td>\n",
       "      <td>407690171</td>\n",
       "    </tr>\n",
       "    <tr>\n",
       "      <th>...</th>\n",
       "      <td>...</td>\n",
       "      <td>...</td>\n",
       "      <td>...</td>\n",
       "      <td>...</td>\n",
       "    </tr>\n",
       "    <tr>\n",
       "      <th>2023-06-21</th>\n",
       "      <td>4.668569</td>\n",
       "      <td>4.852588</td>\n",
       "      <td>4.643674</td>\n",
       "      <td>156905291</td>\n",
       "    </tr>\n",
       "    <tr>\n",
       "      <th>2023-06-22</th>\n",
       "      <td>4.828272</td>\n",
       "      <td>4.969238</td>\n",
       "      <td>4.779751</td>\n",
       "      <td>145580309</td>\n",
       "    </tr>\n",
       "    <tr>\n",
       "      <th>2023-06-23</th>\n",
       "      <td>4.830538</td>\n",
       "      <td>5.134512</td>\n",
       "      <td>4.828192</td>\n",
       "      <td>164328402</td>\n",
       "    </tr>\n",
       "    <tr>\n",
       "      <th>2023-06-24</th>\n",
       "      <td>5.100292</td>\n",
       "      <td>5.132454</td>\n",
       "      <td>4.950829</td>\n",
       "      <td>118793919</td>\n",
       "    </tr>\n",
       "    <tr>\n",
       "      <th>2023-06-25</th>\n",
       "      <td>5.007744</td>\n",
       "      <td>5.238465</td>\n",
       "      <td>5.007744</td>\n",
       "      <td>152201774</td>\n",
       "    </tr>\n",
       "  </tbody>\n",
       "</table>\n",
       "<p>1040 rows × 4 columns</p>\n",
       "</div>"
      ],
      "text/plain": [
       "                Open      High       Low     Volume\n",
       "Date                                               \n",
       "2020-08-20  2.787857  3.077784  2.692896   48819867\n",
       "2020-08-21  2.896923  3.090093  2.730919   49313137\n",
       "2020-08-22  2.878570  4.510613  2.816762  485801096\n",
       "2020-08-23  4.487058  4.487058  3.716271  320749483\n",
       "2020-08-24  3.987413  4.783158  3.812670  407690171\n",
       "...              ...       ...       ...        ...\n",
       "2023-06-21  4.668569  4.852588  4.643674  156905291\n",
       "2023-06-22  4.828272  4.969238  4.779751  145580309\n",
       "2023-06-23  4.830538  5.134512  4.828192  164328402\n",
       "2023-06-24  5.100292  5.132454  4.950829  118793919\n",
       "2023-06-25  5.007744  5.238465  5.007744  152201774\n",
       "\n",
       "[1040 rows x 4 columns]"
      ]
     },
     "execution_count": 21,
     "metadata": {},
     "output_type": "execute_result"
    }
   ],
   "source": [
    "X"
   ]
  },
  {
   "cell_type": "code",
   "execution_count": 22,
   "id": "86a1247d",
   "metadata": {},
   "outputs": [
    {
     "data": {
      "text/plain": [
       "array([2.90007997, 2.87502789, 4.48469019, ..., 5.10021496, 5.00744677,\n",
       "       5.19480515])"
      ]
     },
     "execution_count": 22,
     "metadata": {},
     "output_type": "execute_result"
    }
   ],
   "source": [
    "y"
   ]
  },
  {
   "cell_type": "markdown",
   "id": "bcd3ae60",
   "metadata": {},
   "source": [
    "# Preprocessing data"
   ]
  },
  {
   "cell_type": "code",
   "execution_count": 23,
   "id": "d8583b10",
   "metadata": {},
   "outputs": [
    {
     "data": {
      "text/plain": [
       "array([[-1.05309497, -1.0362325 , -1.05705162, -0.88497656],\n",
       "       [-1.04431054, -1.03528725, -1.05380554, -0.88459514],\n",
       "       [-1.04578873, -0.92619874, -1.04647699, -0.5470842 ],\n",
       "       ...,\n",
       "       [-0.88857271, -0.87828656, -0.87475811, -0.79566047],\n",
       "       [-0.86684606, -0.8784446 , -0.86428842, -0.83086966],\n",
       "       [-0.87430012, -0.87030352, -0.85942952, -0.8050373 ]])"
      ]
     },
     "execution_count": 23,
     "metadata": {},
     "output_type": "execute_result"
    }
   ],
   "source": [
    "from sklearn.preprocessing import StandardScaler, MinMaxScaler\n",
    "mm = MinMaxScaler()\n",
    "ss = StandardScaler()\n",
    "\n",
    "X_trans = ss.fit_transform(X)\n",
    "y_trans = mm.fit_transform(y.reshape(-1, 1))\n",
    "X_trans"
   ]
  },
  {
   "cell_type": "markdown",
   "id": "3a892fa5",
   "metadata": {},
   "source": [
    "Now comes the slightly fiddly part. We want to feed in 100 samples, up to the current day, and predict the next 50 time step values. To do this, we need a special function to ensure that the corresponding indices of X and y represent this structure. Examine this function carefully, but essentially it just boils down to getting 100 samples from X, then looking at the 50 next indices in y, and patching these together. Note that because of this we'll throw out the first 50 values of y."
   ]
  },
  {
   "cell_type": "code",
   "execution_count": 24,
   "id": "905d4869",
   "metadata": {},
   "outputs": [
    {
     "name": "stdout",
     "output_type": "stream",
     "text": [
      "(892, 100, 4) (892, 50)\n"
     ]
    }
   ],
   "source": [
    "# split a multivariate sequence past, future samples (X and y)\n",
    "def split_sequences(input_sequences, output_sequence, n_steps_in, n_steps_out):\n",
    "    X, y = list(), list() # instantiate X and y\n",
    "    for i in range(len(input_sequences)):\n",
    "        # find the end of the input, output sequence\n",
    "        end_ix = i + n_steps_in\n",
    "        out_end_ix = end_ix + n_steps_out - 1\n",
    "        # check if we are beyond the dataset\n",
    "        if out_end_ix > len(input_sequences): break\n",
    "        # gather input and output of the pattern\n",
    "        seq_x, seq_y = input_sequences[i:end_ix], output_sequence[end_ix-1:out_end_ix, -1]\n",
    "        X.append(seq_x), y.append(seq_y)\n",
    "    return np.array(X), np.array(y)\n",
    "\n",
    "X_ss, y_mm = split_sequences(X_trans, y_trans, 100, 50)\n",
    "print(X_ss.shape, y_mm.shape)"
   ]
  },
  {
   "cell_type": "code",
   "execution_count": 25,
   "id": "a84ea89c",
   "metadata": {},
   "outputs": [],
   "source": [
    "assert y_mm[0].all() == y_trans[99:149].squeeze(1).all()"
   ]
  },
  {
   "cell_type": "code",
   "execution_count": 26,
   "id": "d2ee53ff",
   "metadata": {},
   "outputs": [
    {
     "data": {
      "text/plain": [
       "array([0.03740219, 0.03970945, 0.04539254, 0.04904065, 0.04349505,\n",
       "       0.05076057, 0.04970603, 0.04230201, 0.04536413, 0.04432437,\n",
       "       0.04284323, 0.03643284, 0.0389531 , 0.03769246, 0.03423126,\n",
       "       0.03657218, 0.03952782, 0.03966251, 0.04655426, 0.04870509,\n",
       "       0.04840422, 0.04886834, 0.04830575, 0.04535577, 0.03951476,\n",
       "       0.04469613, 0.03598713, 0.04418621, 0.04586029, 0.04523235,\n",
       "       0.0443307 , 0.07280992, 0.09105135, 0.0858568 , 0.1258164 ,\n",
       "       0.10649171, 0.124176  , 0.1403395 , 0.12928856, 0.13383786,\n",
       "       0.14157042, 0.13271896, 0.12610316, 0.13533   , 0.12606225,\n",
       "       0.10589611, 0.10565513, 0.15846313, 0.22867625, 0.20266656])"
      ]
     },
     "execution_count": 26,
     "metadata": {},
     "output_type": "execute_result"
    }
   ],
   "source": [
    "y_mm[0]"
   ]
  },
  {
   "cell_type": "code",
   "execution_count": 27,
   "id": "2dd86f45",
   "metadata": {},
   "outputs": [
    {
     "name": "stdout",
     "output_type": "stream",
     "text": [
      "Training Shape: (742, 100, 4) (742, 50)\n",
      "Testing Shape: (150, 100, 4) (150, 50)\n"
     ]
    }
   ],
   "source": [
    "total_samples = len(X)\n",
    "train_test_cutoff = round(0.90 * total_samples)\n",
    "\n",
    "X_train = X_ss[:-150]\n",
    "X_test = X_ss[-150:]\n",
    "\n",
    "y_train = y_mm[:-150]\n",
    "y_test = y_mm[-150:] \n",
    "\n",
    "print(\"Training Shape:\", X_train.shape, y_train.shape)\n",
    "print(\"Testing Shape:\", X_test.shape, y_test.shape) "
   ]
  },
  {
   "cell_type": "code",
   "execution_count": 28,
   "id": "3b1f2512",
   "metadata": {},
   "outputs": [
    {
     "name": "stdout",
     "output_type": "stream",
     "text": [
      "150\n"
     ]
    }
   ],
   "source": [
    "import torch\n",
    "from torch.autograd import Variable\n",
    "# convert to pytorch tensors\n",
    "X_train_tensors = Variable(torch.Tensor(X_train))\n",
    "print(len(X_test))\n",
    "X_test_tensors = Variable(torch.Tensor(X_test))\n",
    "\n",
    "y_train_tensors = Variable(torch.Tensor(y_train))\n",
    "y_test_tensors = Variable(torch.Tensor(y_test))"
   ]
  },
  {
   "cell_type": "code",
   "execution_count": 29,
   "id": "1d1a0c96",
   "metadata": {},
   "outputs": [
    {
     "name": "stdout",
     "output_type": "stream",
     "text": [
      "Training Shape: torch.Size([742, 100, 4]) torch.Size([742, 50])\n",
      "Testing Shape: torch.Size([150, 100, 4]) torch.Size([150, 50])\n"
     ]
    }
   ],
   "source": [
    "# reshaping to rows, timestamps, features\n",
    "X_train_tensors_final = torch.reshape(X_train_tensors,   \n",
    "                                      (X_train_tensors.shape[0], 100, \n",
    "                                       X_train_tensors.shape[2]))\n",
    "X_test_tensors_final = torch.reshape(X_test_tensors,  \n",
    "                                     (X_test_tensors.shape[0], 100, \n",
    "                                      X_test_tensors.shape[2])) \n",
    "\n",
    "print(\"Training Shape:\", X_train_tensors_final.shape, y_train_tensors.shape)\n",
    "print(\"Testing Shape:\", X_test_tensors_final.shape, y_test_tensors.shape) "
   ]
  },
  {
   "cell_type": "code",
   "execution_count": 30,
   "id": "653d6b40",
   "metadata": {},
   "outputs": [
    {
     "data": {
      "text/plain": [
       "array([[6.57048702e+00, 6.65182400e+00, 6.34591198e+00, 1.92797813e+08],\n",
       "       [6.39877701e+00, 6.69188404e+00, 6.35431719e+00, 2.31833527e+08],\n",
       "       [6.61655712e+00, 6.64376116e+00, 6.10154486e+00, 2.48936208e+08],\n",
       "       [6.18797207e+00, 6.31103277e+00, 6.16497612e+00, 1.97930900e+08]])"
      ]
     },
     "execution_count": 30,
     "metadata": {},
     "output_type": "execute_result"
    }
   ],
   "source": [
    "X_check, y_check = split_sequences(X, y.reshape(-1, 1), 100, 50)\n",
    "X_check[-1][0:4]"
   ]
  },
  {
   "cell_type": "code",
   "execution_count": 31,
   "id": "8585d74d",
   "metadata": {},
   "outputs": [
    {
     "data": {
      "text/plain": [
       "array([5.64127684, 5.37589312, 5.32857418, 5.47053194, 5.28542614,\n",
       "       5.3459878 , 5.35190392, 5.35440922, 5.3202858 , 5.29929209,\n",
       "       5.41390085, 5.3414588 , 5.37003899, 5.41448116, 5.27343988,\n",
       "       5.31261683, 5.40073013, 5.26003408, 5.24440479, 5.24843693,\n",
       "       5.33799124, 5.50867414, 5.46080589, 5.44380188, 5.31782722,\n",
       "       5.21066999, 5.27988482, 5.33034182, 5.3194418 , 5.07320309,\n",
       "       5.20830679, 5.02220011, 5.02603817, 4.98210478, 4.52629423,\n",
       "       4.52161884, 4.53244591, 4.62207317, 4.56984997, 4.37718391,\n",
       "       4.41684723, 4.52613115, 4.53096294, 4.52242184, 4.66892385,\n",
       "       4.82942581, 4.83062792, 5.10021496, 5.00744677, 5.19480515])"
      ]
     },
     "execution_count": 31,
     "metadata": {},
     "output_type": "execute_result"
    }
   ],
   "source": [
    "y_check[-1]"
   ]
  },
  {
   "cell_type": "code",
   "execution_count": 32,
   "id": "dd1135e6",
   "metadata": {},
   "outputs": [
    {
     "data": {
      "text/plain": [
       "array([5.64127684, 5.37589312, 5.32857418, 5.47053194, 5.28542614,\n",
       "       5.3459878 , 5.35190392, 5.35440922, 5.3202858 , 5.29929209,\n",
       "       5.41390085, 5.3414588 , 5.37003899, 5.41448116, 5.27343988,\n",
       "       5.31261683, 5.40073013, 5.26003408, 5.24440479, 5.24843693,\n",
       "       5.33799124, 5.50867414, 5.46080589, 5.44380188, 5.31782722,\n",
       "       5.21066999, 5.27988482, 5.33034182, 5.3194418 , 5.07320309,\n",
       "       5.20830679, 5.02220011, 5.02603817, 4.98210478, 4.52629423,\n",
       "       4.52161884, 4.53244591, 4.62207317, 4.56984997, 4.37718391,\n",
       "       4.41684723, 4.52613115, 4.53096294, 4.52242184, 4.66892385,\n",
       "       4.82942581, 4.83062792, 5.10021496, 5.00744677, 5.19480515])"
      ]
     },
     "execution_count": 32,
     "metadata": {},
     "output_type": "execute_result"
    }
   ],
   "source": [
    "data.Close.values[-50:]"
   ]
  },
  {
   "cell_type": "markdown",
   "id": "8bf7ef73",
   "metadata": {},
   "source": [
    "# Build the model"
   ]
  },
  {
   "cell_type": "code",
   "execution_count": 33,
   "id": "2e410b3a",
   "metadata": {},
   "outputs": [],
   "source": [
    "class LSTM(nn.Module):\n",
    "    \n",
    "    def __init__(self, num_classes, input_size, hidden_size, num_layers):\n",
    "        super().__init__()\n",
    "        self.num_classes = num_classes # output size\n",
    "        self.num_layers = num_layers # number of recurrent layers in the lstm\n",
    "        self.input_size = input_size # input size\n",
    "        self.hidden_size = hidden_size # neurons in each lstm layer\n",
    "        # LSTM model\n",
    "        self.lstm = nn.LSTM(input_size=input_size, hidden_size=hidden_size,\n",
    "                            num_layers=num_layers, batch_first=True, dropout=0.2) # lstm\n",
    "        self.fc_1 =  nn.Linear(hidden_size, 128) # fully connected \n",
    "        self.fc_2 = nn.Linear(128, num_classes) # fully connected last layer\n",
    "        self.relu = nn.ReLU()\n",
    "        \n",
    "    def forward(self,x):\n",
    "        # hidden state\n",
    "        h_0 = Variable(torch.zeros(self.num_layers, x.size(0), self.hidden_size))\n",
    "        # cell state\n",
    "        c_0 = Variable(torch.zeros(self.num_layers, x.size(0), self.hidden_size))\n",
    "        # propagate input through LSTM\n",
    "        output, (hn, cn) = self.lstm(x, (h_0, c_0)) # (input, hidden, and internal state)\n",
    "        hn = hn.view(-1, self.hidden_size) # reshaping the data for Dense layer next\n",
    "        out = self.relu(hn)\n",
    "        out = self.fc_1(out) # first dense\n",
    "        out = self.relu(out) # relu\n",
    "        out = self.fc_2(out) # final output\n",
    "        return out"
   ]
  },
  {
   "cell_type": "code",
   "execution_count": 34,
   "id": "03cdb576",
   "metadata": {},
   "outputs": [],
   "source": [
    "def training_loop(n_epochs, lstm, optimiser, loss_fn, X_train, y_train,\n",
    "                  X_test, y_test):\n",
    "    for epoch in range(n_epochs):\n",
    "        lstm.train()\n",
    "        outputs = lstm.forward(X_train) # forward pass\n",
    "        optimiser.zero_grad() # calculate the gradient, manually setting to 0\n",
    "        # obtain the loss function\n",
    "        loss = loss_fn(outputs, y_train)\n",
    "        loss.backward() # calculates the loss of the loss function\n",
    "        optimiser.step() # improve from loss, i.e backprop\n",
    "        # test loss\n",
    "        lstm.eval()\n",
    "        test_preds = lstm(X_test)\n",
    "        test_loss = loss_fn(test_preds, y_test)\n",
    "        if epoch % 100 == 0:\n",
    "            print(\"Epoch: %d, train loss: %1.5f, test loss: %1.5f\" % (epoch, \n",
    "                                                                      loss.item(), \n",
    "                                                                      test_loss.item())) \n",
    "            "
   ]
  },
  {
   "cell_type": "code",
   "execution_count": 35,
   "id": "28ae3dbb",
   "metadata": {},
   "outputs": [],
   "source": [
    "n_epochs = 1000 # 1000 epochs\n",
    "learning_rate = 0.001 # 0.001 lr\n",
    "\n",
    "input_size = 4 # number of features\n",
    "hidden_size = 2 # number of features in hidden state\n",
    "num_layers = 1 # number of stacked lstm layers\n",
    "\n",
    "num_classes = 50 # number of output classes \n",
    "\n",
    "lstm = LSTM(num_classes, \n",
    "              input_size, \n",
    "              hidden_size, \n",
    "              num_layers)"
   ]
  },
  {
   "cell_type": "code",
   "execution_count": 36,
   "id": "a008aa36",
   "metadata": {},
   "outputs": [],
   "source": [
    "loss_fn = torch.nn.MSELoss()    # mean-squared error for regression\n",
    "optimiser = torch.optim.Adam(lstm.parameters(), lr=learning_rate)"
   ]
  },
  {
   "cell_type": "code",
   "execution_count": 37,
   "id": "f92ab0e9",
   "metadata": {},
   "outputs": [
    {
     "name": "stdout",
     "output_type": "stream",
     "text": [
      "Epoch: 0, train loss: 0.20824, test loss: 0.02542\n",
      "Epoch: 100, train loss: 0.02401, test loss: 0.01138\n",
      "Epoch: 200, train loss: 0.01735, test loss: 0.00260\n",
      "Epoch: 300, train loss: 0.01532, test loss: 0.00107\n",
      "Epoch: 400, train loss: 0.01468, test loss: 0.00081\n",
      "Epoch: 500, train loss: 0.01440, test loss: 0.00074\n",
      "Epoch: 600, train loss: 0.01416, test loss: 0.00068\n",
      "Epoch: 700, train loss: 0.01385, test loss: 0.00061\n",
      "Epoch: 800, train loss: 0.01251, test loss: 0.00033\n",
      "Epoch: 900, train loss: 0.01202, test loss: 0.00025\n"
     ]
    }
   ],
   "source": [
    "training_loop(n_epochs=n_epochs,\n",
    "              lstm=lstm,\n",
    "              optimiser=optimiser,\n",
    "              loss_fn=loss_fn,\n",
    "              X_train=X_train_tensors_final,\n",
    "              y_train=y_train_tensors,\n",
    "              X_test=X_test_tensors_final,\n",
    "              y_test=y_test_tensors)"
   ]
  },
  {
   "cell_type": "markdown",
   "id": "4a6475c0",
   "metadata": {},
   "source": [
    "# Prediction on train set"
   ]
  },
  {
   "cell_type": "code",
   "execution_count": 38,
   "id": "628be592",
   "metadata": {},
   "outputs": [
    {
     "name": "stdout",
     "output_type": "stream",
     "text": [
      "1040\n",
      "1040\n",
      "892\n",
      "892\n"
     ]
    },
    {
     "data": {
      "image/png": "[encoded data removed]",
      "text/plain": [
       "<Figure size 720x432 with 1 Axes>"
      ]
     },
     "metadata": {},
     "output_type": "display_data"
    }
   ],
   "source": [
    "df_X_ss = ss.transform(data.drop(columns=['Close'])) # old transformers\n",
    "print(len(df_X_ss))\n",
    "df_y_mm = mm.transform(data.Close.values.reshape(-1, 1)) # old transformers\n",
    "print(len(df_y_mm))\n",
    "# split the sequence\n",
    "\n",
    "past_days = 100\n",
    "next_pred_days = 50\n",
    "df_X_ss, df_y_mm = split_sequences(df_X_ss, df_y_mm, past_days, next_pred_days)\n",
    "\n",
    "\n",
    "# converting to tensors\n",
    "df_X_ss = Variable(torch.Tensor(df_X_ss))\n",
    "df_y_mm = Variable(torch.Tensor(df_y_mm))\n",
    "# reshaping the dataset\n",
    "df_X_ss = torch.reshape(df_X_ss, (df_X_ss.shape[0], 100, df_X_ss.shape[2]))\n",
    "print(len(df_X_ss))\n",
    "\n",
    "train_predict = lstm(df_X_ss) # forward pass\n",
    "data_predict = train_predict.data.numpy() # numpy conversion\n",
    "dataY_plot = df_y_mm.data.numpy()\n",
    "\n",
    "data_predict = mm.inverse_transform(data_predict) # reverse transformation\n",
    "dataY_plot = mm.inverse_transform(dataY_plot)\n",
    "true, preds = [], []\n",
    "for i in range(len(dataY_plot)):\n",
    "    true.append(dataY_plot[i][0])\n",
    "for i in range(len(data_predict)):\n",
    "    preds.append(data_predict[i][0])\n",
    "plt.figure(figsize=(10,6)) #plotting\n",
    "print(len(preds))\n",
    "plt.axvline(x=train_test_cutoff, c='r', linestyle='--') # size of the training set\n",
    "\n",
    "plt.plot(true, label='Actual Data') # actual plot\n",
    "plt.plot(preds, label='Predicted Data') # predicted plot\n",
    "plt.title('Time-Series Prediction')\n",
    "plt.legend()\n",
    "plt.show() "
   ]
  },
  {
   "cell_type": "markdown",
   "id": "09bbed69",
   "metadata": {},
   "source": [
    "# Prediction on test set"
   ]
  },
  {
   "cell_type": "code",
   "execution_count": 39,
   "id": "cb825366",
   "metadata": {},
   "outputs": [
    {
     "data": {
      "image/png": "[encoded data removed]",
      "text/plain": [
       "<Figure size 432x288 with 1 Axes>"
      ]
     },
     "metadata": {},
     "output_type": "display_data"
    }
   ],
   "source": [
    "test_predict = lstm(X_test_tensors_final[-1].unsqueeze(0)) # get the last sample\n",
    "test_predict = test_predict.detach().numpy()\n",
    "test_predict = mm.inverse_transform(test_predict)\n",
    "test_predict = test_predict[0].tolist()\n",
    "\n",
    "test_target = y_test_tensors[-1].detach().numpy() # last sample again\n",
    "test_target = mm.inverse_transform(test_target.reshape(1, -1))\n",
    "test_target = test_target[0].tolist()\n",
    "\n",
    "plt.plot(test_target, label=\"Actual Data\")\n",
    "plt.plot(test_predict, label=\"LSTM Predictions\")\n",
    "plt.show()"
   ]
  },
  {
   "cell_type": "code",
   "execution_count": 40,
   "id": "8716edf0",
   "metadata": {},
   "outputs": [
    {
     "name": "stdout",
     "output_type": "stream",
     "text": [
      "[2.90007997 2.87502789 4.48469019 ... 5.10021496 5.00744677 5.19480515]\n"
     ]
    },
    {
     "data": {
      "image/png": "[encoded data removed]",
      "text/plain": [
       "<Figure size 720x432 with 1 Axes>"
      ]
     },
     "metadata": {},
     "output_type": "display_data"
    }
   ],
   "source": [
    "plt.figure(figsize=(10,6)) #plotting\n",
    "print(y)\n",
    "a = [x for x in range(900, len(y))]\n",
    "plt.plot(a, y[900:], label='Actual data');\n",
    "c = [x for x in range(len(y)-50, len(y))]\n",
    "plt.plot(c, test_predict, label='One-shot multi-step prediction (50 days)')\n",
    "plt.axvline(x=len(y)-50, c='r', linestyle='--')\n",
    "plt.legend()\n",
    "plt.show()"
   ]
  },
  {
   "cell_type": "code",
   "execution_count": 41,
   "id": "315be772",
   "metadata": {},
   "outputs": [
    {
     "name": "stdout",
     "output_type": "stream",
     "text": [
      "RMSE score:  0.5438872154609431\n",
      "MAPE score:  0.08714481718047987\n"
     ]
    }
   ],
   "source": [
    "#RMSE\n",
    "from math import sqrt\n",
    "from sklearn.metrics import mean_squared_error\n",
    "rms = sqrt(mean_squared_error(test_target,test_predict))\n",
    "\n",
    "#MAPE\n",
    "from sklearn.metrics import mean_absolute_percentage_error\n",
    "mapescore = mean_absolute_percentage_error(test_target,test_predict)\n",
    "\n",
    "#Print\n",
    "print(\"RMSE score: \", rms)\n",
    "print(\"MAPE score: \", mapescore)"
   ]
  },
  {
   "cell_type": "code",
   "execution_count": null,
   "id": "f4f0621d",
   "metadata": {},
   "outputs": [],
   "source": []
  }
 ],
 "metadata": {
  "kernelspec": {
   "display_name": "Python 3 (ipykernel)",
   "language": "python",
   "name": "python3"
  },
  "language_info": {
   "codemirror_mode": {
    "name": "ipython",
    "version": 3
   },
   "file_extension": ".py",
   "mimetype": "text/x-python",
   "name": "python",
   "nbconvert_exporter": "python",
   "pygments_lexer": "ipython3",
   "version": "3.9.12"
  }
 },
 "nbformat": 4,
 "nbformat_minor": 5
}
