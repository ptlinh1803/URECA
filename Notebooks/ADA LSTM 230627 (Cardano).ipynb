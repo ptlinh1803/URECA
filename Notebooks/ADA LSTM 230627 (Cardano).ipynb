{
 "cells": [
  {
   "cell_type": "code",
   "execution_count": 1,
   "id": "72311904",
   "metadata": {},
   "outputs": [],
   "source": [
    "import warnings\n",
    "warnings.filterwarnings('ignore')\n",
    "import os\n",
    "import pandas as pd\n",
    "import numpy as np\n",
    "import math\n",
    "import datetime as dt\n",
    "import matplotlib.pyplot as plt\n",
    "\n",
    "from sklearn.metrics import mean_squared_error, mean_absolute_error, explained_variance_score, r2_score \n",
    "from sklearn.metrics import mean_poisson_deviance, mean_gamma_deviance, accuracy_score\n",
    "from sklearn.preprocessing import MinMaxScaler\n",
    "\n",
    "from itertools import product\n",
    "import statsmodels.api as sm\n",
    "\n",
    "import tensorflow as tf\n",
    "\n",
    "from tensorflow.keras.models import Sequential\n",
    "from tensorflow.keras.layers import Dense, Dropout\n",
    "from tensorflow.keras.layers import LSTM\n",
    "\n",
    "from itertools import cycle\n",
    "import plotly.offline as py\n",
    "import plotly.graph_objects as go\n",
    "import plotly.express as px\n",
    "from plotly.subplots import make_subplots\n",
    "\n",
    "plt.style.use('seaborn-darkgrid')"
   ]
  },
  {
   "cell_type": "code",
   "execution_count": 2,
   "id": "59ffa9e4",
   "metadata": {},
   "outputs": [],
   "source": [
    "import torch.nn as nn"
   ]
  },
  {
   "cell_type": "markdown",
   "id": "143c80ba",
   "metadata": {},
   "source": [
    "# Data source"
   ]
  },
  {
   "cell_type": "code",
   "execution_count": 3,
   "id": "bf8c5488",
   "metadata": {},
   "outputs": [],
   "source": [
    "#Data Source\n",
    "import yfinance as yf\n",
    "\n",
    "#Data viz\n",
    "import plotly.graph_objs as go\n",
    "\n",
    "#import date time\n",
    "import datetime"
   ]
  },
  {
   "cell_type": "code",
   "execution_count": 4,
   "id": "e92bcda0",
   "metadata": {},
   "outputs": [],
   "source": [
    "# Set start date as 2014-01-01\n",
    "start_date = datetime.datetime(2014, 9, 16)\n",
    "\n",
    "# Set end date as today's date\n",
    "end_date = datetime.datetime.now().strftime('%Y-%m-%d')"
   ]
  },
  {
   "cell_type": "code",
   "execution_count": 5,
   "id": "4b6f6e15",
   "metadata": {},
   "outputs": [],
   "source": [
    "#coin -- change this to predict other coins\n",
    "ticker = 'ADA-USD'"
   ]
  },
  {
   "cell_type": "code",
   "execution_count": 6,
   "id": "70512663",
   "metadata": {},
   "outputs": [
    {
     "name": "stdout",
     "output_type": "stream",
     "text": [
      "[*********************100%***********************]  1 of 1 completed\n"
     ]
    }
   ],
   "source": [
    "data = yf.download(tickers=ticker, start=start_date, end=end_date, interval = '1d')"
   ]
  },
  {
   "cell_type": "code",
   "execution_count": 7,
   "id": "4fb3d558",
   "metadata": {},
   "outputs": [],
   "source": [
    "data.drop(columns=['Adj Close'], inplace=True)"
   ]
  },
  {
   "cell_type": "code",
   "execution_count": 8,
   "id": "ddeb41a9",
   "metadata": {},
   "outputs": [
    {
     "data": {
      "text/html": [
       "<div>\n",
       "<style scoped>\n",
       "    .dataframe tbody tr th:only-of-type {\n",
       "        vertical-align: middle;\n",
       "    }\n",
       "\n",
       "    .dataframe tbody tr th {\n",
       "        vertical-align: top;\n",
       "    }\n",
       "\n",
       "    .dataframe thead th {\n",
       "        text-align: right;\n",
       "    }\n",
       "</style>\n",
       "<table border=\"1\" class=\"dataframe\">\n",
       "  <thead>\n",
       "    <tr style=\"text-align: right;\">\n",
       "      <th></th>\n",
       "      <th>Open</th>\n",
       "      <th>High</th>\n",
       "      <th>Low</th>\n",
       "      <th>Close</th>\n",
       "      <th>Volume</th>\n",
       "    </tr>\n",
       "    <tr>\n",
       "      <th>Date</th>\n",
       "      <th></th>\n",
       "      <th></th>\n",
       "      <th></th>\n",
       "      <th></th>\n",
       "      <th></th>\n",
       "    </tr>\n",
       "  </thead>\n",
       "  <tbody>\n",
       "    <tr>\n",
       "      <th>2017-11-09</th>\n",
       "      <td>0.025160</td>\n",
       "      <td>0.035060</td>\n",
       "      <td>0.025006</td>\n",
       "      <td>0.032053</td>\n",
       "      <td>18716200</td>\n",
       "    </tr>\n",
       "    <tr>\n",
       "      <th>2017-11-10</th>\n",
       "      <td>0.032219</td>\n",
       "      <td>0.033348</td>\n",
       "      <td>0.026451</td>\n",
       "      <td>0.027119</td>\n",
       "      <td>6766780</td>\n",
       "    </tr>\n",
       "    <tr>\n",
       "      <th>2017-11-11</th>\n",
       "      <td>0.026891</td>\n",
       "      <td>0.029659</td>\n",
       "      <td>0.025684</td>\n",
       "      <td>0.027437</td>\n",
       "      <td>5532220</td>\n",
       "    </tr>\n",
       "    <tr>\n",
       "      <th>2017-11-12</th>\n",
       "      <td>0.027480</td>\n",
       "      <td>0.027952</td>\n",
       "      <td>0.022591</td>\n",
       "      <td>0.023977</td>\n",
       "      <td>7280250</td>\n",
       "    </tr>\n",
       "    <tr>\n",
       "      <th>2017-11-13</th>\n",
       "      <td>0.024364</td>\n",
       "      <td>0.026300</td>\n",
       "      <td>0.023495</td>\n",
       "      <td>0.025808</td>\n",
       "      <td>4419440</td>\n",
       "    </tr>\n",
       "    <tr>\n",
       "      <th>2017-11-14</th>\n",
       "      <td>0.025797</td>\n",
       "      <td>0.026788</td>\n",
       "      <td>0.025342</td>\n",
       "      <td>0.026230</td>\n",
       "      <td>3033290</td>\n",
       "    </tr>\n",
       "    <tr>\n",
       "      <th>2017-11-15</th>\n",
       "      <td>0.026116</td>\n",
       "      <td>0.027773</td>\n",
       "      <td>0.025261</td>\n",
       "      <td>0.026445</td>\n",
       "      <td>6858800</td>\n",
       "    </tr>\n",
       "    <tr>\n",
       "      <th>2017-11-16</th>\n",
       "      <td>0.026583</td>\n",
       "      <td>0.028170</td>\n",
       "      <td>0.025654</td>\n",
       "      <td>0.027580</td>\n",
       "      <td>4888130</td>\n",
       "    </tr>\n",
       "    <tr>\n",
       "      <th>2017-11-17</th>\n",
       "      <td>0.027143</td>\n",
       "      <td>0.027436</td>\n",
       "      <td>0.025184</td>\n",
       "      <td>0.025773</td>\n",
       "      <td>3578870</td>\n",
       "    </tr>\n",
       "    <tr>\n",
       "      <th>2017-11-18</th>\n",
       "      <td>0.025597</td>\n",
       "      <td>0.027122</td>\n",
       "      <td>0.024748</td>\n",
       "      <td>0.026369</td>\n",
       "      <td>2930550</td>\n",
       "    </tr>\n",
       "  </tbody>\n",
       "</table>\n",
       "</div>"
      ],
      "text/plain": [
       "                Open      High       Low     Close    Volume\n",
       "Date                                                        \n",
       "2017-11-09  0.025160  0.035060  0.025006  0.032053  18716200\n",
       "2017-11-10  0.032219  0.033348  0.026451  0.027119   6766780\n",
       "2017-11-11  0.026891  0.029659  0.025684  0.027437   5532220\n",
       "2017-11-12  0.027480  0.027952  0.022591  0.023977   7280250\n",
       "2017-11-13  0.024364  0.026300  0.023495  0.025808   4419440\n",
       "2017-11-14  0.025797  0.026788  0.025342  0.026230   3033290\n",
       "2017-11-15  0.026116  0.027773  0.025261  0.026445   6858800\n",
       "2017-11-16  0.026583  0.028170  0.025654  0.027580   4888130\n",
       "2017-11-17  0.027143  0.027436  0.025184  0.025773   3578870\n",
       "2017-11-18  0.025597  0.027122  0.024748  0.026369   2930550"
      ]
     },
     "execution_count": 8,
     "metadata": {},
     "output_type": "execute_result"
    }
   ],
   "source": [
    "data.head(10)"
   ]
  },
  {
   "cell_type": "code",
   "execution_count": 9,
   "id": "e0c571bb",
   "metadata": {},
   "outputs": [
    {
     "data": {
      "text/plain": [
       "(2055, 5)"
      ]
     },
     "execution_count": 9,
     "metadata": {},
     "output_type": "execute_result"
    }
   ],
   "source": [
    "data.shape"
   ]
  },
  {
   "cell_type": "code",
   "execution_count": 10,
   "id": "7515ba93",
   "metadata": {},
   "outputs": [
    {
     "data": {
      "text/html": [
       "<div>\n",
       "<style scoped>\n",
       "    .dataframe tbody tr th:only-of-type {\n",
       "        vertical-align: middle;\n",
       "    }\n",
       "\n",
       "    .dataframe tbody tr th {\n",
       "        vertical-align: top;\n",
       "    }\n",
       "\n",
       "    .dataframe thead th {\n",
       "        text-align: right;\n",
       "    }\n",
       "</style>\n",
       "<table border=\"1\" class=\"dataframe\">\n",
       "  <thead>\n",
       "    <tr style=\"text-align: right;\">\n",
       "      <th></th>\n",
       "      <th>Open</th>\n",
       "      <th>High</th>\n",
       "      <th>Low</th>\n",
       "      <th>Close</th>\n",
       "      <th>Volume</th>\n",
       "    </tr>\n",
       "    <tr>\n",
       "      <th>Date</th>\n",
       "      <th></th>\n",
       "      <th></th>\n",
       "      <th></th>\n",
       "      <th></th>\n",
       "      <th></th>\n",
       "    </tr>\n",
       "  </thead>\n",
       "  <tbody>\n",
       "    <tr>\n",
       "      <th>2017-11-09</th>\n",
       "      <td>0.025160</td>\n",
       "      <td>0.035060</td>\n",
       "      <td>0.025006</td>\n",
       "      <td>0.032053</td>\n",
       "      <td>18716200</td>\n",
       "    </tr>\n",
       "    <tr>\n",
       "      <th>2017-11-10</th>\n",
       "      <td>0.032219</td>\n",
       "      <td>0.033348</td>\n",
       "      <td>0.026451</td>\n",
       "      <td>0.027119</td>\n",
       "      <td>6766780</td>\n",
       "    </tr>\n",
       "    <tr>\n",
       "      <th>2017-11-11</th>\n",
       "      <td>0.026891</td>\n",
       "      <td>0.029659</td>\n",
       "      <td>0.025684</td>\n",
       "      <td>0.027437</td>\n",
       "      <td>5532220</td>\n",
       "    </tr>\n",
       "    <tr>\n",
       "      <th>2017-11-12</th>\n",
       "      <td>0.027480</td>\n",
       "      <td>0.027952</td>\n",
       "      <td>0.022591</td>\n",
       "      <td>0.023977</td>\n",
       "      <td>7280250</td>\n",
       "    </tr>\n",
       "    <tr>\n",
       "      <th>2017-11-13</th>\n",
       "      <td>0.024364</td>\n",
       "      <td>0.026300</td>\n",
       "      <td>0.023495</td>\n",
       "      <td>0.025808</td>\n",
       "      <td>4419440</td>\n",
       "    </tr>\n",
       "    <tr>\n",
       "      <th>2017-11-14</th>\n",
       "      <td>0.025797</td>\n",
       "      <td>0.026788</td>\n",
       "      <td>0.025342</td>\n",
       "      <td>0.026230</td>\n",
       "      <td>3033290</td>\n",
       "    </tr>\n",
       "    <tr>\n",
       "      <th>2017-11-15</th>\n",
       "      <td>0.026116</td>\n",
       "      <td>0.027773</td>\n",
       "      <td>0.025261</td>\n",
       "      <td>0.026445</td>\n",
       "      <td>6858800</td>\n",
       "    </tr>\n",
       "    <tr>\n",
       "      <th>2017-11-16</th>\n",
       "      <td>0.026583</td>\n",
       "      <td>0.028170</td>\n",
       "      <td>0.025654</td>\n",
       "      <td>0.027580</td>\n",
       "      <td>4888130</td>\n",
       "    </tr>\n",
       "    <tr>\n",
       "      <th>2017-11-17</th>\n",
       "      <td>0.027143</td>\n",
       "      <td>0.027436</td>\n",
       "      <td>0.025184</td>\n",
       "      <td>0.025773</td>\n",
       "      <td>3578870</td>\n",
       "    </tr>\n",
       "    <tr>\n",
       "      <th>2017-11-18</th>\n",
       "      <td>0.025597</td>\n",
       "      <td>0.027122</td>\n",
       "      <td>0.024748</td>\n",
       "      <td>0.026369</td>\n",
       "      <td>2930550</td>\n",
       "    </tr>\n",
       "  </tbody>\n",
       "</table>\n",
       "</div>"
      ],
      "text/plain": [
       "                Open      High       Low     Close    Volume\n",
       "Date                                                        \n",
       "2017-11-09  0.025160  0.035060  0.025006  0.032053  18716200\n",
       "2017-11-10  0.032219  0.033348  0.026451  0.027119   6766780\n",
       "2017-11-11  0.026891  0.029659  0.025684  0.027437   5532220\n",
       "2017-11-12  0.027480  0.027952  0.022591  0.023977   7280250\n",
       "2017-11-13  0.024364  0.026300  0.023495  0.025808   4419440\n",
       "2017-11-14  0.025797  0.026788  0.025342  0.026230   3033290\n",
       "2017-11-15  0.026116  0.027773  0.025261  0.026445   6858800\n",
       "2017-11-16  0.026583  0.028170  0.025654  0.027580   4888130\n",
       "2017-11-17  0.027143  0.027436  0.025184  0.025773   3578870\n",
       "2017-11-18  0.025597  0.027122  0.024748  0.026369   2930550"
      ]
     },
     "execution_count": 10,
     "metadata": {},
     "output_type": "execute_result"
    }
   ],
   "source": [
    "data.head(10)"
   ]
  },
  {
   "cell_type": "code",
   "execution_count": 11,
   "id": "ed34ea1f",
   "metadata": {},
   "outputs": [
    {
     "name": "stdout",
     "output_type": "stream",
     "text": [
      "<class 'pandas.core.frame.DataFrame'>\n",
      "DatetimeIndex: 2055 entries, 2017-11-09 to 2023-06-25\n",
      "Data columns (total 5 columns):\n",
      " #   Column  Non-Null Count  Dtype  \n",
      "---  ------  --------------  -----  \n",
      " 0   Open    2055 non-null   float64\n",
      " 1   High    2055 non-null   float64\n",
      " 2   Low     2055 non-null   float64\n",
      " 3   Close   2055 non-null   float64\n",
      " 4   Volume  2055 non-null   int64  \n",
      "dtypes: float64(4), int64(1)\n",
      "memory usage: 96.3 KB\n"
     ]
    }
   ],
   "source": [
    "data.info()\n",
    "#data.dtypes"
   ]
  },
  {
   "cell_type": "code",
   "execution_count": 12,
   "id": "6be04616",
   "metadata": {},
   "outputs": [
    {
     "data": {
      "text/html": [
       "<div>\n",
       "<style scoped>\n",
       "    .dataframe tbody tr th:only-of-type {\n",
       "        vertical-align: middle;\n",
       "    }\n",
       "\n",
       "    .dataframe tbody tr th {\n",
       "        vertical-align: top;\n",
       "    }\n",
       "\n",
       "    .dataframe thead th {\n",
       "        text-align: right;\n",
       "    }\n",
       "</style>\n",
       "<table border=\"1\" class=\"dataframe\">\n",
       "  <thead>\n",
       "    <tr style=\"text-align: right;\">\n",
       "      <th></th>\n",
       "      <th>Open</th>\n",
       "      <th>High</th>\n",
       "      <th>Low</th>\n",
       "      <th>Close</th>\n",
       "      <th>Volume</th>\n",
       "    </tr>\n",
       "  </thead>\n",
       "  <tbody>\n",
       "    <tr>\n",
       "      <th>count</th>\n",
       "      <td>2055.000000</td>\n",
       "      <td>2055.000000</td>\n",
       "      <td>2055.000000</td>\n",
       "      <td>2055.000000</td>\n",
       "      <td>2.055000e+03</td>\n",
       "    </tr>\n",
       "    <tr>\n",
       "      <th>mean</th>\n",
       "      <td>0.478767</td>\n",
       "      <td>0.498859</td>\n",
       "      <td>0.457280</td>\n",
       "      <td>0.478894</td>\n",
       "      <td>1.074300e+09</td>\n",
       "    </tr>\n",
       "    <tr>\n",
       "      <th>std</th>\n",
       "      <td>0.598242</td>\n",
       "      <td>0.623773</td>\n",
       "      <td>0.571067</td>\n",
       "      <td>0.598247</td>\n",
       "      <td>1.970276e+09</td>\n",
       "    </tr>\n",
       "    <tr>\n",
       "      <th>min</th>\n",
       "      <td>0.023954</td>\n",
       "      <td>0.025993</td>\n",
       "      <td>0.019130</td>\n",
       "      <td>0.023961</td>\n",
       "      <td>2.930550e+06</td>\n",
       "    </tr>\n",
       "    <tr>\n",
       "      <th>25%</th>\n",
       "      <td>0.071837</td>\n",
       "      <td>0.074152</td>\n",
       "      <td>0.069172</td>\n",
       "      <td>0.072135</td>\n",
       "      <td>8.586626e+07</td>\n",
       "    </tr>\n",
       "    <tr>\n",
       "      <th>50%</th>\n",
       "      <td>0.223430</td>\n",
       "      <td>0.233147</td>\n",
       "      <td>0.209573</td>\n",
       "      <td>0.223498</td>\n",
       "      <td>2.845665e+08</td>\n",
       "    </tr>\n",
       "    <tr>\n",
       "      <th>75%</th>\n",
       "      <td>0.537529</td>\n",
       "      <td>0.572763</td>\n",
       "      <td>0.511703</td>\n",
       "      <td>0.537483</td>\n",
       "      <td>1.071168e+09</td>\n",
       "    </tr>\n",
       "    <tr>\n",
       "      <th>max</th>\n",
       "      <td>2.966390</td>\n",
       "      <td>3.099186</td>\n",
       "      <td>2.907606</td>\n",
       "      <td>2.968239</td>\n",
       "      <td>1.914198e+10</td>\n",
       "    </tr>\n",
       "  </tbody>\n",
       "</table>\n",
       "</div>"
      ],
      "text/plain": [
       "              Open         High          Low        Close        Volume\n",
       "count  2055.000000  2055.000000  2055.000000  2055.000000  2.055000e+03\n",
       "mean      0.478767     0.498859     0.457280     0.478894  1.074300e+09\n",
       "std       0.598242     0.623773     0.571067     0.598247  1.970276e+09\n",
       "min       0.023954     0.025993     0.019130     0.023961  2.930550e+06\n",
       "25%       0.071837     0.074152     0.069172     0.072135  8.586626e+07\n",
       "50%       0.223430     0.233147     0.209573     0.223498  2.845665e+08\n",
       "75%       0.537529     0.572763     0.511703     0.537483  1.071168e+09\n",
       "max       2.966390     3.099186     2.907606     2.968239  1.914198e+10"
      ]
     },
     "execution_count": 12,
     "metadata": {},
     "output_type": "execute_result"
    }
   ],
   "source": [
    "data.describe()"
   ]
  },
  {
   "cell_type": "code",
   "execution_count": 13,
   "id": "b2d5b8a7",
   "metadata": {},
   "outputs": [
    {
     "name": "stdout",
     "output_type": "stream",
     "text": [
      "Null Values: 0\n",
      "If any NA values: False\n"
     ]
    }
   ],
   "source": [
    "print('Null Values:', data.isnull().values.sum())\n",
    "print('If any NA values:', data.isnull().values.any())"
   ]
  },
  {
   "cell_type": "code",
   "execution_count": 14,
   "id": "a151c46c",
   "metadata": {},
   "outputs": [
    {
     "data": {
      "text/html": [
       "<div>\n",
       "<style scoped>\n",
       "    .dataframe tbody tr th:only-of-type {\n",
       "        vertical-align: middle;\n",
       "    }\n",
       "\n",
       "    .dataframe tbody tr th {\n",
       "        vertical-align: top;\n",
       "    }\n",
       "\n",
       "    .dataframe thead th {\n",
       "        text-align: right;\n",
       "    }\n",
       "</style>\n",
       "<table border=\"1\" class=\"dataframe\">\n",
       "  <thead>\n",
       "    <tr style=\"text-align: right;\">\n",
       "      <th></th>\n",
       "      <th>Open</th>\n",
       "      <th>High</th>\n",
       "      <th>Low</th>\n",
       "      <th>Close</th>\n",
       "      <th>Volume</th>\n",
       "    </tr>\n",
       "    <tr>\n",
       "      <th>Date</th>\n",
       "      <th></th>\n",
       "      <th></th>\n",
       "      <th></th>\n",
       "      <th></th>\n",
       "      <th></th>\n",
       "    </tr>\n",
       "  </thead>\n",
       "  <tbody>\n",
       "    <tr>\n",
       "      <th>2023-06-16</th>\n",
       "      <td>0.261969</td>\n",
       "      <td>0.266813</td>\n",
       "      <td>0.255353</td>\n",
       "      <td>0.263185</td>\n",
       "      <td>175866740</td>\n",
       "    </tr>\n",
       "    <tr>\n",
       "      <th>2023-06-17</th>\n",
       "      <td>0.263187</td>\n",
       "      <td>0.272914</td>\n",
       "      <td>0.261164</td>\n",
       "      <td>0.266928</td>\n",
       "      <td>171716790</td>\n",
       "    </tr>\n",
       "    <tr>\n",
       "      <th>2023-06-18</th>\n",
       "      <td>0.266923</td>\n",
       "      <td>0.268664</td>\n",
       "      <td>0.260203</td>\n",
       "      <td>0.260963</td>\n",
       "      <td>136453692</td>\n",
       "    </tr>\n",
       "    <tr>\n",
       "      <th>2023-06-19</th>\n",
       "      <td>0.260968</td>\n",
       "      <td>0.263245</td>\n",
       "      <td>0.257910</td>\n",
       "      <td>0.263048</td>\n",
       "      <td>142015570</td>\n",
       "    </tr>\n",
       "    <tr>\n",
       "      <th>2023-06-20</th>\n",
       "      <td>0.263097</td>\n",
       "      <td>0.270398</td>\n",
       "      <td>0.253231</td>\n",
       "      <td>0.270329</td>\n",
       "      <td>214174021</td>\n",
       "    </tr>\n",
       "    <tr>\n",
       "      <th>2023-06-21</th>\n",
       "      <td>0.270330</td>\n",
       "      <td>0.288632</td>\n",
       "      <td>0.269398</td>\n",
       "      <td>0.287000</td>\n",
       "      <td>343644852</td>\n",
       "    </tr>\n",
       "    <tr>\n",
       "      <th>2023-06-22</th>\n",
       "      <td>0.286986</td>\n",
       "      <td>0.304300</td>\n",
       "      <td>0.286179</td>\n",
       "      <td>0.290313</td>\n",
       "      <td>340493541</td>\n",
       "    </tr>\n",
       "    <tr>\n",
       "      <th>2023-06-23</th>\n",
       "      <td>0.290343</td>\n",
       "      <td>0.302238</td>\n",
       "      <td>0.288063</td>\n",
       "      <td>0.296482</td>\n",
       "      <td>245002154</td>\n",
       "    </tr>\n",
       "    <tr>\n",
       "      <th>2023-06-24</th>\n",
       "      <td>0.296485</td>\n",
       "      <td>0.297266</td>\n",
       "      <td>0.285937</td>\n",
       "      <td>0.290012</td>\n",
       "      <td>208155226</td>\n",
       "    </tr>\n",
       "    <tr>\n",
       "      <th>2023-06-25</th>\n",
       "      <td>0.290002</td>\n",
       "      <td>0.303087</td>\n",
       "      <td>0.289118</td>\n",
       "      <td>0.292325</td>\n",
       "      <td>225729335</td>\n",
       "    </tr>\n",
       "  </tbody>\n",
       "</table>\n",
       "</div>"
      ],
      "text/plain": [
       "                Open      High       Low     Close     Volume\n",
       "Date                                                         \n",
       "2023-06-16  0.261969  0.266813  0.255353  0.263185  175866740\n",
       "2023-06-17  0.263187  0.272914  0.261164  0.266928  171716790\n",
       "2023-06-18  0.266923  0.268664  0.260203  0.260963  136453692\n",
       "2023-06-19  0.260968  0.263245  0.257910  0.263048  142015570\n",
       "2023-06-20  0.263097  0.270398  0.253231  0.270329  214174021\n",
       "2023-06-21  0.270330  0.288632  0.269398  0.287000  343644852\n",
       "2023-06-22  0.286986  0.304300  0.286179  0.290313  340493541\n",
       "2023-06-23  0.290343  0.302238  0.288063  0.296482  245002154\n",
       "2023-06-24  0.296485  0.297266  0.285937  0.290012  208155226\n",
       "2023-06-25  0.290002  0.303087  0.289118  0.292325  225729335"
      ]
     },
     "execution_count": 14,
     "metadata": {},
     "output_type": "execute_result"
    }
   ],
   "source": [
    "data.tail(10)"
   ]
  },
  {
   "cell_type": "code",
   "execution_count": 15,
   "id": "bde8f605",
   "metadata": {},
   "outputs": [
    {
     "data": {
      "text/plain": [
       "<AxesSubplot:title={'center':'Bitcoin Weighted Price'}, xlabel='Date'>"
      ]
     },
     "execution_count": 15,
     "metadata": {},
     "output_type": "execute_result"
    },
    {
     "data": {
      "image/png": "[encoded data removed]",
      "text/plain": [
       "<Figure size 1728x504 with 1 Axes>"
      ]
     },
     "metadata": {},
     "output_type": "display_data"
    }
   ],
   "source": [
    "data.Close.plot(figsize=(24,7), title=\"Bitcoin Weighted Price\")"
   ]
  },
  {
   "cell_type": "markdown",
   "id": "2d9c371e",
   "metadata": {},
   "source": [
    "# Lag plot\n",
    "Lag plot are used to observe the autocorrelation. These are crucial when we try to correct the trend and stationarity and we have to use smoothing functions. Lag plot helps us to understand the data better."
   ]
  },
  {
   "cell_type": "code",
   "execution_count": 16,
   "id": "f1de296b",
   "metadata": {},
   "outputs": [
    {
     "data": {
      "image/png": "[encoded data removed]",
      "text/plain": [
       "<Figure size 1080x864 with 1 Axes>"
      ]
     },
     "metadata": {},
     "output_type": "display_data"
    }
   ],
   "source": [
    "plt.figure(figsize=(15,12))\n",
    "\n",
    "# Create a lag plot with a lag of 1 day\n",
    "pd.plotting.lag_plot(data['Close'], lag=1)\n",
    "\n",
    "# Set plot title and labels\n",
    "plt.title('Bitcoin Close Price Lag Plot (1 day)')\n",
    "plt.xlabel('Close Price (lagged)')\n",
    "plt.ylabel('Close Price (current)')\n",
    "\n",
    "# Display the plot\n",
    "plt.show()"
   ]
  },
  {
   "cell_type": "markdown",
   "id": "48e90ee0",
   "metadata": {},
   "source": [
    "In the lag plot of 1 day for Bitcoin's close price, a strong positive slope straight line is observed. This indicates the presence of a significant positive autocorrelation in the data. The positive autocorrelation suggests that the current day's close price is positively related to the previous day's close price. In other words, when the close price increases on a particular day, there is a higher likelihood of it increasing on the following day as well. This pattern implies the existence of short-term momentum or serial dependence in Bitcoin's close price. However, it is important to further validate this inference using statistical tests and consider additional analysis techniques before making any investment decisions."
   ]
  },
  {
   "cell_type": "markdown",
   "id": "6e5f55c1",
   "metadata": {},
   "source": [
    "# Define input and output"
   ]
  },
  {
   "cell_type": "code",
   "execution_count": 17,
   "id": "3d870765",
   "metadata": {},
   "outputs": [
    {
     "data": {
      "text/plain": [
       "((2055, 4), (2055,))"
      ]
     },
     "execution_count": 17,
     "metadata": {},
     "output_type": "execute_result"
    }
   ],
   "source": [
    "# Our input vector will consists of everything except our target, \"Closing Price\"\n",
    "X, y = data.drop(columns=['Close']), data.Close.values\n",
    "X.shape, y.shape"
   ]
  },
  {
   "cell_type": "code",
   "execution_count": 18,
   "id": "88fda819",
   "metadata": {},
   "outputs": [
    {
     "data": {
      "text/html": [
       "<div>\n",
       "<style scoped>\n",
       "    .dataframe tbody tr th:only-of-type {\n",
       "        vertical-align: middle;\n",
       "    }\n",
       "\n",
       "    .dataframe tbody tr th {\n",
       "        vertical-align: top;\n",
       "    }\n",
       "\n",
       "    .dataframe thead th {\n",
       "        text-align: right;\n",
       "    }\n",
       "</style>\n",
       "<table border=\"1\" class=\"dataframe\">\n",
       "  <thead>\n",
       "    <tr style=\"text-align: right;\">\n",
       "      <th></th>\n",
       "      <th>Open</th>\n",
       "      <th>High</th>\n",
       "      <th>Low</th>\n",
       "      <th>Volume</th>\n",
       "    </tr>\n",
       "    <tr>\n",
       "      <th>Date</th>\n",
       "      <th></th>\n",
       "      <th></th>\n",
       "      <th></th>\n",
       "      <th></th>\n",
       "    </tr>\n",
       "  </thead>\n",
       "  <tbody>\n",
       "    <tr>\n",
       "      <th>2017-11-09</th>\n",
       "      <td>0.025160</td>\n",
       "      <td>0.035060</td>\n",
       "      <td>0.025006</td>\n",
       "      <td>18716200</td>\n",
       "    </tr>\n",
       "    <tr>\n",
       "      <th>2017-11-10</th>\n",
       "      <td>0.032219</td>\n",
       "      <td>0.033348</td>\n",
       "      <td>0.026451</td>\n",
       "      <td>6766780</td>\n",
       "    </tr>\n",
       "    <tr>\n",
       "      <th>2017-11-11</th>\n",
       "      <td>0.026891</td>\n",
       "      <td>0.029659</td>\n",
       "      <td>0.025684</td>\n",
       "      <td>5532220</td>\n",
       "    </tr>\n",
       "    <tr>\n",
       "      <th>2017-11-12</th>\n",
       "      <td>0.027480</td>\n",
       "      <td>0.027952</td>\n",
       "      <td>0.022591</td>\n",
       "      <td>7280250</td>\n",
       "    </tr>\n",
       "    <tr>\n",
       "      <th>2017-11-13</th>\n",
       "      <td>0.024364</td>\n",
       "      <td>0.026300</td>\n",
       "      <td>0.023495</td>\n",
       "      <td>4419440</td>\n",
       "    </tr>\n",
       "    <tr>\n",
       "      <th>...</th>\n",
       "      <td>...</td>\n",
       "      <td>...</td>\n",
       "      <td>...</td>\n",
       "      <td>...</td>\n",
       "    </tr>\n",
       "    <tr>\n",
       "      <th>2023-06-21</th>\n",
       "      <td>0.270330</td>\n",
       "      <td>0.288632</td>\n",
       "      <td>0.269398</td>\n",
       "      <td>343644852</td>\n",
       "    </tr>\n",
       "    <tr>\n",
       "      <th>2023-06-22</th>\n",
       "      <td>0.286986</td>\n",
       "      <td>0.304300</td>\n",
       "      <td>0.286179</td>\n",
       "      <td>340493541</td>\n",
       "    </tr>\n",
       "    <tr>\n",
       "      <th>2023-06-23</th>\n",
       "      <td>0.290343</td>\n",
       "      <td>0.302238</td>\n",
       "      <td>0.288063</td>\n",
       "      <td>245002154</td>\n",
       "    </tr>\n",
       "    <tr>\n",
       "      <th>2023-06-24</th>\n",
       "      <td>0.296485</td>\n",
       "      <td>0.297266</td>\n",
       "      <td>0.285937</td>\n",
       "      <td>208155226</td>\n",
       "    </tr>\n",
       "    <tr>\n",
       "      <th>2023-06-25</th>\n",
       "      <td>0.290002</td>\n",
       "      <td>0.303087</td>\n",
       "      <td>0.289118</td>\n",
       "      <td>225729335</td>\n",
       "    </tr>\n",
       "  </tbody>\n",
       "</table>\n",
       "<p>2055 rows × 4 columns</p>\n",
       "</div>"
      ],
      "text/plain": [
       "                Open      High       Low     Volume\n",
       "Date                                               \n",
       "2017-11-09  0.025160  0.035060  0.025006   18716200\n",
       "2017-11-10  0.032219  0.033348  0.026451    6766780\n",
       "2017-11-11  0.026891  0.029659  0.025684    5532220\n",
       "2017-11-12  0.027480  0.027952  0.022591    7280250\n",
       "2017-11-13  0.024364  0.026300  0.023495    4419440\n",
       "...              ...       ...       ...        ...\n",
       "2023-06-21  0.270330  0.288632  0.269398  343644852\n",
       "2023-06-22  0.286986  0.304300  0.286179  340493541\n",
       "2023-06-23  0.290343  0.302238  0.288063  245002154\n",
       "2023-06-24  0.296485  0.297266  0.285937  208155226\n",
       "2023-06-25  0.290002  0.303087  0.289118  225729335\n",
       "\n",
       "[2055 rows x 4 columns]"
      ]
     },
     "execution_count": 18,
     "metadata": {},
     "output_type": "execute_result"
    }
   ],
   "source": [
    "X"
   ]
  },
  {
   "cell_type": "code",
   "execution_count": 19,
   "id": "86a1247d",
   "metadata": {},
   "outputs": [
    {
     "data": {
      "text/plain": [
       "array([0.032053  , 0.027119  , 0.027437  , ..., 0.296482  , 0.290012  ,\n",
       "       0.29232499])"
      ]
     },
     "execution_count": 19,
     "metadata": {},
     "output_type": "execute_result"
    }
   ],
   "source": [
    "y"
   ]
  },
  {
   "cell_type": "markdown",
   "id": "bcd3ae60",
   "metadata": {},
   "source": [
    "# Preprocessing data"
   ]
  },
  {
   "cell_type": "code",
   "execution_count": 20,
   "id": "d8583b10",
   "metadata": {},
   "outputs": [
    {
     "data": {
      "text/plain": [
       "array([[-0.75841725, -0.74371856, -0.75714222, -0.53588443],\n",
       "       [-0.74661481, -0.74646381, -0.75461126, -0.54195075],\n",
       "       [-0.75552306, -0.75237926, -0.75595468, -0.5425775 ],\n",
       "       ...,\n",
       "       [-0.31503916, -0.31528896, -0.29638912, -0.42100663],\n",
       "       [-0.30476988, -0.32326171, -0.30011285, -0.43971258],\n",
       "       [-0.3156093 , -0.31392754, -0.29454125, -0.43079079]])"
      ]
     },
     "execution_count": 20,
     "metadata": {},
     "output_type": "execute_result"
    }
   ],
   "source": [
    "from sklearn.preprocessing import StandardScaler, MinMaxScaler\n",
    "mm = MinMaxScaler()\n",
    "ss = StandardScaler()\n",
    "\n",
    "X_trans = ss.fit_transform(X)\n",
    "y_trans = mm.fit_transform(y.reshape(-1, 1))\n",
    "X_trans"
   ]
  },
  {
   "cell_type": "markdown",
   "id": "3a892fa5",
   "metadata": {},
   "source": [
    "Now comes the slightly fiddly part. We want to feed in 100 samples, up to the current day, and predict the next 50 time step values. To do this, we need a special function to ensure that the corresponding indices of X and y represent this structure. Examine this function carefully, but essentially it just boils down to getting 100 samples from X, then looking at the 50 next indices in y, and patching these together. Note that because of this we'll throw out the first 50 values of y."
   ]
  },
  {
   "cell_type": "code",
   "execution_count": 21,
   "id": "905d4869",
   "metadata": {},
   "outputs": [
    {
     "name": "stdout",
     "output_type": "stream",
     "text": [
      "(1907, 100, 4) (1907, 50)\n"
     ]
    }
   ],
   "source": [
    "# split a multivariate sequence past, future samples (X and y)\n",
    "def split_sequences(input_sequences, output_sequence, n_steps_in, n_steps_out):\n",
    "    X, y = list(), list() # instantiate X and y\n",
    "    for i in range(len(input_sequences)):\n",
    "        # find the end of the input, output sequence\n",
    "        end_ix = i + n_steps_in\n",
    "        out_end_ix = end_ix + n_steps_out - 1\n",
    "        # check if we are beyond the dataset\n",
    "        if out_end_ix > len(input_sequences): break\n",
    "        # gather input and output of the pattern\n",
    "        seq_x, seq_y = input_sequences[i:end_ix], output_sequence[end_ix-1:out_end_ix, -1]\n",
    "        X.append(seq_x), y.append(seq_y)\n",
    "    return np.array(X), np.array(y)\n",
    "\n",
    "X_ss, y_mm = split_sequences(X_trans, y_trans, 100, 50)\n",
    "print(X_ss.shape, y_mm.shape)"
   ]
  },
  {
   "cell_type": "code",
   "execution_count": 22,
   "id": "a84ea89c",
   "metadata": {},
   "outputs": [],
   "source": [
    "assert y_mm[0].all() == y_trans[99:149].squeeze(1).all()"
   ]
  },
  {
   "cell_type": "code",
   "execution_count": 23,
   "id": "d2ee53ff",
   "metadata": {},
   "outputs": [
    {
     "data": {
      "text/plain": [
       "array([0.12901261, 0.13447168, 0.12283385, 0.12482211, 0.12051103,\n",
       "       0.11564125, 0.10661696, 0.1091259 , 0.10155461, 0.10870984,\n",
       "       0.10677456, 0.10582391, 0.09802743, 0.09524779, 0.09154808,\n",
       "       0.09277147, 0.09402169, 0.09294672, 0.08878102, 0.07584881,\n",
       "       0.06717504, 0.06733263, 0.06314349, 0.06777111, 0.06784719,\n",
       "       0.0676108 , 0.05964144, 0.05493639, 0.05261629, 0.04442583,\n",
       "       0.04489861, 0.05899137, 0.06147041, 0.06426975, 0.0609725 ,\n",
       "       0.05614211, 0.05612242, 0.05456142, 0.04885578, 0.04448119,\n",
       "       0.04622424, 0.04174911, 0.04186018, 0.04481846, 0.04306896,\n",
       "       0.04497673, 0.05043206, 0.04462724, 0.04238628, 0.04092345])"
      ]
     },
     "execution_count": 23,
     "metadata": {},
     "output_type": "execute_result"
    }
   ],
   "source": [
    "y_mm[0]"
   ]
  },
  {
   "cell_type": "code",
   "execution_count": 24,
   "id": "2dd86f45",
   "metadata": {},
   "outputs": [
    {
     "name": "stdout",
     "output_type": "stream",
     "text": [
      "Training Shape: (1757, 100, 4) (1757, 50)\n",
      "Testing Shape: (150, 100, 4) (150, 50)\n"
     ]
    }
   ],
   "source": [
    "total_samples = len(X)\n",
    "train_test_cutoff = round(0.90 * total_samples)\n",
    "\n",
    "X_train = X_ss[:-150]\n",
    "X_test = X_ss[-150:]\n",
    "\n",
    "y_train = y_mm[:-150]\n",
    "y_test = y_mm[-150:] \n",
    "\n",
    "print(\"Training Shape:\", X_train.shape, y_train.shape)\n",
    "print(\"Testing Shape:\", X_test.shape, y_test.shape) "
   ]
  },
  {
   "cell_type": "code",
   "execution_count": 25,
   "id": "3b1f2512",
   "metadata": {},
   "outputs": [
    {
     "name": "stdout",
     "output_type": "stream",
     "text": [
      "150\n"
     ]
    }
   ],
   "source": [
    "import torch\n",
    "from torch.autograd import Variable\n",
    "# convert to pytorch tensors\n",
    "X_train_tensors = Variable(torch.Tensor(X_train))\n",
    "print(len(X_test))\n",
    "X_test_tensors = Variable(torch.Tensor(X_test))\n",
    "\n",
    "y_train_tensors = Variable(torch.Tensor(y_train))\n",
    "y_test_tensors = Variable(torch.Tensor(y_test))"
   ]
  },
  {
   "cell_type": "code",
   "execution_count": 26,
   "id": "1d1a0c96",
   "metadata": {},
   "outputs": [
    {
     "name": "stdout",
     "output_type": "stream",
     "text": [
      "Training Shape: torch.Size([1757, 100, 4]) torch.Size([1757, 50])\n",
      "Testing Shape: torch.Size([150, 100, 4]) torch.Size([150, 50])\n"
     ]
    }
   ],
   "source": [
    "# reshaping to rows, timestamps, features\n",
    "X_train_tensors_final = torch.reshape(X_train_tensors,   \n",
    "                                      (X_train_tensors.shape[0], 100, \n",
    "                                       X_train_tensors.shape[2]))\n",
    "X_test_tensors_final = torch.reshape(X_test_tensors,  \n",
    "                                     (X_test_tensors.shape[0], 100, \n",
    "                                      X_test_tensors.shape[2])) \n",
    "\n",
    "print(\"Training Shape:\", X_train_tensors_final.shape, y_train_tensors.shape)\n",
    "print(\"Testing Shape:\", X_test_tensors_final.shape, y_test_tensors.shape) "
   ]
  },
  {
   "cell_type": "code",
   "execution_count": 27,
   "id": "653d6b40",
   "metadata": {},
   "outputs": [
    {
     "data": {
      "text/plain": [
       "array([[3.88992995e-01, 3.97224993e-01, 3.79727006e-01, 3.54272484e+08],\n",
       "       [3.82346004e-01, 3.98674995e-01, 3.78230989e-01, 3.28417772e+08],\n",
       "       [3.96672010e-01, 3.97606999e-01, 3.68589014e-01, 3.98952288e+08],\n",
       "       [3.72545987e-01, 3.96566987e-01, 3.69423985e-01, 4.66045236e+08]])"
      ]
     },
     "execution_count": 27,
     "metadata": {},
     "output_type": "execute_result"
    }
   ],
   "source": [
    "X_check, y_check = split_sequences(X, y.reshape(-1, 1), 100, 50)\n",
    "X_check[-1][0:4]"
   ]
  },
  {
   "cell_type": "code",
   "execution_count": 28,
   "id": "8585d74d",
   "metadata": {},
   "outputs": [
    {
     "data": {
      "text/plain": [
       "array([0.37690601, 0.36582801, 0.36380601, 0.369937  , 0.360039  ,\n",
       "       0.37046301, 0.365031  , 0.37076101, 0.36748201, 0.36783001,\n",
       "       0.37542501, 0.372078  , 0.36821499, 0.366357  , 0.36036301,\n",
       "       0.36799699, 0.37048399, 0.364234  , 0.35841599, 0.36288401,\n",
       "       0.36677399, 0.382999  , 0.37913799, 0.37793401, 0.374403  ,\n",
       "       0.36472401, 0.378304  , 0.376028  , 0.377693  , 0.35201499,\n",
       "       0.353715  , 0.32227799, 0.32315701, 0.29540101, 0.27619401,\n",
       "       0.27263001, 0.27504799, 0.274986  , 0.263226  , 0.26195699,\n",
       "       0.26318499, 0.26692799, 0.26096299, 0.26304799, 0.270329  ,\n",
       "       0.287     , 0.29031301, 0.296482  , 0.290012  , 0.29232499])"
      ]
     },
     "execution_count": 28,
     "metadata": {},
     "output_type": "execute_result"
    }
   ],
   "source": [
    "y_check[-1]"
   ]
  },
  {
   "cell_type": "code",
   "execution_count": 29,
   "id": "dd1135e6",
   "metadata": {},
   "outputs": [
    {
     "data": {
      "text/plain": [
       "array([0.37690601, 0.36582801, 0.36380601, 0.369937  , 0.360039  ,\n",
       "       0.37046301, 0.365031  , 0.37076101, 0.36748201, 0.36783001,\n",
       "       0.37542501, 0.372078  , 0.36821499, 0.366357  , 0.36036301,\n",
       "       0.36799699, 0.37048399, 0.364234  , 0.35841599, 0.36288401,\n",
       "       0.36677399, 0.382999  , 0.37913799, 0.37793401, 0.374403  ,\n",
       "       0.36472401, 0.378304  , 0.376028  , 0.377693  , 0.35201499,\n",
       "       0.353715  , 0.32227799, 0.32315701, 0.29540101, 0.27619401,\n",
       "       0.27263001, 0.27504799, 0.274986  , 0.263226  , 0.26195699,\n",
       "       0.26318499, 0.26692799, 0.26096299, 0.26304799, 0.270329  ,\n",
       "       0.287     , 0.29031301, 0.296482  , 0.290012  , 0.29232499])"
      ]
     },
     "execution_count": 29,
     "metadata": {},
     "output_type": "execute_result"
    }
   ],
   "source": [
    "data.Close.values[-50:]"
   ]
  },
  {
   "cell_type": "markdown",
   "id": "8bf7ef73",
   "metadata": {},
   "source": [
    "# Build the model"
   ]
  },
  {
   "cell_type": "code",
   "execution_count": 30,
   "id": "2e410b3a",
   "metadata": {},
   "outputs": [],
   "source": [
    "class LSTM(nn.Module):\n",
    "    \n",
    "    def __init__(self, num_classes, input_size, hidden_size, num_layers):\n",
    "        super().__init__()\n",
    "        self.num_classes = num_classes # output size\n",
    "        self.num_layers = num_layers # number of recurrent layers in the lstm\n",
    "        self.input_size = input_size # input size\n",
    "        self.hidden_size = hidden_size # neurons in each lstm layer\n",
    "        # LSTM model\n",
    "        self.lstm = nn.LSTM(input_size=input_size, hidden_size=hidden_size,\n",
    "                            num_layers=num_layers, batch_first=True, dropout=0.2) # lstm\n",
    "        self.fc_1 =  nn.Linear(hidden_size, 128) # fully connected \n",
    "        self.fc_2 = nn.Linear(128, num_classes) # fully connected last layer\n",
    "        self.relu = nn.ReLU()\n",
    "        \n",
    "    def forward(self,x):\n",
    "        # hidden state\n",
    "        h_0 = Variable(torch.zeros(self.num_layers, x.size(0), self.hidden_size))\n",
    "        # cell state\n",
    "        c_0 = Variable(torch.zeros(self.num_layers, x.size(0), self.hidden_size))\n",
    "        # propagate input through LSTM\n",
    "        output, (hn, cn) = self.lstm(x, (h_0, c_0)) # (input, hidden, and internal state)\n",
    "        hn = hn.view(-1, self.hidden_size) # reshaping the data for Dense layer next\n",
    "        out = self.relu(hn)\n",
    "        out = self.fc_1(out) # first dense\n",
    "        out = self.relu(out) # relu\n",
    "        out = self.fc_2(out) # final output\n",
    "        return out"
   ]
  },
  {
   "cell_type": "code",
   "execution_count": 31,
   "id": "03cdb576",
   "metadata": {},
   "outputs": [],
   "source": [
    "def training_loop(n_epochs, lstm, optimiser, loss_fn, X_train, y_train,\n",
    "                  X_test, y_test):\n",
    "    for epoch in range(n_epochs):\n",
    "        lstm.train()\n",
    "        outputs = lstm.forward(X_train) # forward pass\n",
    "        optimiser.zero_grad() # calculate the gradient, manually setting to 0\n",
    "        # obtain the loss function\n",
    "        loss = loss_fn(outputs, y_train)\n",
    "        loss.backward() # calculates the loss of the loss function\n",
    "        optimiser.step() # improve from loss, i.e backprop\n",
    "        # test loss\n",
    "        lstm.eval()\n",
    "        test_preds = lstm(X_test)\n",
    "        test_loss = loss_fn(test_preds, y_test)\n",
    "        if epoch % 100 == 0:\n",
    "            print(\"Epoch: %d, train loss: %1.5f, test loss: %1.5f\" % (epoch, \n",
    "                                                                      loss.item(), \n",
    "                                                                      test_loss.item())) \n",
    "            "
   ]
  },
  {
   "cell_type": "code",
   "execution_count": 32,
   "id": "28ae3dbb",
   "metadata": {},
   "outputs": [],
   "source": [
    "n_epochs = 1000 # 1000 epochs\n",
    "learning_rate = 0.001 # 0.001 lr\n",
    "\n",
    "input_size = 4 # number of features\n",
    "hidden_size = 2 # number of features in hidden state\n",
    "num_layers = 1 # number of stacked lstm layers\n",
    "\n",
    "num_classes = 50 # number of output classes \n",
    "\n",
    "lstm = LSTM(num_classes, \n",
    "              input_size, \n",
    "              hidden_size, \n",
    "              num_layers)"
   ]
  },
  {
   "cell_type": "code",
   "execution_count": 33,
   "id": "a008aa36",
   "metadata": {},
   "outputs": [],
   "source": [
    "loss_fn = torch.nn.MSELoss()    # mean-squared error for regression\n",
    "optimiser = torch.optim.Adam(lstm.parameters(), lr=learning_rate)"
   ]
  },
  {
   "cell_type": "code",
   "execution_count": 34,
   "id": "f92ab0e9",
   "metadata": {},
   "outputs": [
    {
     "name": "stdout",
     "output_type": "stream",
     "text": [
      "Epoch: 0, train loss: 0.10124, test loss: 0.03899\n",
      "Epoch: 100, train loss: 0.01203, test loss: 0.00684\n",
      "Epoch: 200, train loss: 0.00627, test loss: 0.00604\n",
      "Epoch: 300, train loss: 0.00581, test loss: 0.00524\n",
      "Epoch: 400, train loss: 0.00555, test loss: 0.00460\n",
      "Epoch: 500, train loss: 0.00534, test loss: 0.00398\n",
      "Epoch: 600, train loss: 0.00509, test loss: 0.00222\n",
      "Epoch: 700, train loss: 0.00484, test loss: 0.00085\n",
      "Epoch: 800, train loss: 0.00467, test loss: 0.00079\n",
      "Epoch: 900, train loss: 0.00455, test loss: 0.00118\n"
     ]
    }
   ],
   "source": [
    "training_loop(n_epochs=n_epochs,\n",
    "              lstm=lstm,\n",
    "              optimiser=optimiser,\n",
    "              loss_fn=loss_fn,\n",
    "              X_train=X_train_tensors_final,\n",
    "              y_train=y_train_tensors,\n",
    "              X_test=X_test_tensors_final,\n",
    "              y_test=y_test_tensors)"
   ]
  },
  {
   "cell_type": "markdown",
   "id": "4a6475c0",
   "metadata": {},
   "source": [
    "# Prediction on train set"
   ]
  },
  {
   "cell_type": "code",
   "execution_count": 35,
   "id": "628be592",
   "metadata": {},
   "outputs": [
    {
     "name": "stdout",
     "output_type": "stream",
     "text": [
      "2055\n",
      "2055\n",
      "1907\n",
      "1907\n"
     ]
    },
    {
     "data": {
      "image/png": "[encoded data removed]",
      "text/plain": [
       "<Figure size 720x432 with 1 Axes>"
      ]
     },
     "metadata": {},
     "output_type": "display_data"
    }
   ],
   "source": [
    "df_X_ss = ss.transform(data.drop(columns=['Close'])) # old transformers\n",
    "print(len(df_X_ss))\n",
    "df_y_mm = mm.transform(data.Close.values.reshape(-1, 1)) # old transformers\n",
    "print(len(df_y_mm))\n",
    "# split the sequence\n",
    "\n",
    "past_days = 100\n",
    "next_pred_days = 50\n",
    "df_X_ss, df_y_mm = split_sequences(df_X_ss, df_y_mm, past_days, next_pred_days)\n",
    "\n",
    "\n",
    "# converting to tensors\n",
    "df_X_ss = Variable(torch.Tensor(df_X_ss))\n",
    "df_y_mm = Variable(torch.Tensor(df_y_mm))\n",
    "# reshaping the dataset\n",
    "df_X_ss = torch.reshape(df_X_ss, (df_X_ss.shape[0], 100, df_X_ss.shape[2]))\n",
    "print(len(df_X_ss))\n",
    "\n",
    "train_predict = lstm(df_X_ss) # forward pass\n",
    "data_predict = train_predict.data.numpy() # numpy conversion\n",
    "dataY_plot = df_y_mm.data.numpy()\n",
    "\n",
    "data_predict = mm.inverse_transform(data_predict) # reverse transformation\n",
    "dataY_plot = mm.inverse_transform(dataY_plot)\n",
    "true, preds = [], []\n",
    "for i in range(len(dataY_plot)):\n",
    "    true.append(dataY_plot[i][0])\n",
    "for i in range(len(data_predict)):\n",
    "    preds.append(data_predict[i][0])\n",
    "plt.figure(figsize=(10,6)) #plotting\n",
    "print(len(preds))\n",
    "plt.axvline(x=train_test_cutoff, c='r', linestyle='--') # size of the training set\n",
    "\n",
    "plt.plot(true, label='Actual Data') # actual plot\n",
    "plt.plot(preds, label='Predicted Data') # predicted plot\n",
    "plt.title('Time-Series Prediction')\n",
    "plt.legend()\n",
    "plt.show() "
   ]
  },
  {
   "cell_type": "markdown",
   "id": "09bbed69",
   "metadata": {},
   "source": [
    "# Prediction on test set"
   ]
  },
  {
   "cell_type": "code",
   "execution_count": 36,
   "id": "cb825366",
   "metadata": {},
   "outputs": [
    {
     "data": {
      "image/png": "[encoded data removed]",
      "text/plain": [
       "<Figure size 432x288 with 1 Axes>"
      ]
     },
     "metadata": {},
     "output_type": "display_data"
    }
   ],
   "source": [
    "test_predict = lstm(X_test_tensors_final[-1].unsqueeze(0)) # get the last sample\n",
    "test_predict = test_predict.detach().numpy()\n",
    "test_predict = mm.inverse_transform(test_predict)\n",
    "test_predict = test_predict[0].tolist()\n",
    "\n",
    "test_target = y_test_tensors[-1].detach().numpy() # last sample again\n",
    "test_target = mm.inverse_transform(test_target.reshape(1, -1))\n",
    "test_target = test_target[0].tolist()\n",
    "\n",
    "plt.plot(test_target, label=\"Actual Data\")\n",
    "plt.plot(test_predict, label=\"LSTM Predictions\")\n",
    "plt.show()"
   ]
  },
  {
   "cell_type": "code",
   "execution_count": 37,
   "id": "8716edf0",
   "metadata": {},
   "outputs": [
    {
     "name": "stdout",
     "output_type": "stream",
     "text": [
      "[0.032053   0.027119   0.027437   ... 0.296482   0.290012   0.29232499]\n"
     ]
    },
    {
     "data": {
      "image/png": "[encoded data removed]",
      "text/plain": [
       "<Figure size 720x432 with 1 Axes>"
      ]
     },
     "metadata": {},
     "output_type": "display_data"
    }
   ],
   "source": [
    "plt.figure(figsize=(10,6)) #plotting\n",
    "print(y)\n",
    "a = [x for x in range(900, len(y))]\n",
    "plt.plot(a, y[900:], label='Actual data');\n",
    "c = [x for x in range(len(y)-50, len(y))]\n",
    "plt.plot(c, test_predict, label='One-shot multi-step prediction (50 days)')\n",
    "plt.axvline(x=len(y)-50, c='r', linestyle='--')\n",
    "plt.legend()\n",
    "plt.show()"
   ]
  },
  {
   "cell_type": "code",
   "execution_count": 38,
   "id": "315be772",
   "metadata": {},
   "outputs": [
    {
     "name": "stdout",
     "output_type": "stream",
     "text": [
      "RMSE score:  0.0921011223175771\n",
      "MAPE score:  0.21472085939790847\n"
     ]
    }
   ],
   "source": [
    "#RMSE\n",
    "from math import sqrt\n",
    "from sklearn.metrics import mean_squared_error\n",
    "rms = sqrt(mean_squared_error(test_target,test_predict))\n",
    "\n",
    "#MAPE\n",
    "from sklearn.metrics import mean_absolute_percentage_error\n",
    "mapescore = mean_absolute_percentage_error(test_target,test_predict)\n",
    "\n",
    "#Print\n",
    "print(\"RMSE score: \", rms)\n",
    "print(\"MAPE score: \", mapescore)"
   ]
  },
  {
   "cell_type": "code",
   "execution_count": null,
   "id": "f4f0621d",
   "metadata": {},
   "outputs": [],
   "source": []
  }
 ],
 "metadata": {
  "kernelspec": {
   "display_name": "Python 3 (ipykernel)",
   "language": "python",
   "name": "python3"
  },
  "language_info": {
   "codemirror_mode": {
    "name": "ipython",
    "version": 3
   },
   "file_extension": ".py",
   "mimetype": "text/x-python",
   "name": "python",
   "nbconvert_exporter": "python",
   "pygments_lexer": "ipython3",
   "version": "3.9.12"
  }
 },
 "nbformat": 4,
 "nbformat_minor": 5
}
