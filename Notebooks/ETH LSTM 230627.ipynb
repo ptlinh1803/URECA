{
 "cells": [
  {
   "cell_type": "code",
   "execution_count": 1,
   "id": "72311904",
   "metadata": {},
   "outputs": [],
   "source": [
    "import warnings\n",
    "warnings.filterwarnings('ignore')\n",
    "import os\n",
    "import pandas as pd\n",
    "import numpy as np\n",
    "import math\n",
    "import datetime as dt\n",
    "import matplotlib.pyplot as plt\n",
    "\n",
    "from sklearn.metrics import mean_squared_error, mean_absolute_error, explained_variance_score, r2_score \n",
    "from sklearn.metrics import mean_poisson_deviance, mean_gamma_deviance, accuracy_score\n",
    "from sklearn.preprocessing import MinMaxScaler\n",
    "\n",
    "from itertools import product\n",
    "import statsmodels.api as sm\n",
    "\n",
    "import tensorflow as tf\n",
    "\n",
    "from tensorflow.keras.models import Sequential\n",
    "from tensorflow.keras.layers import Dense, Dropout\n",
    "from tensorflow.keras.layers import LSTM\n",
    "\n",
    "from itertools import cycle\n",
    "import plotly.offline as py\n",
    "import plotly.graph_objects as go\n",
    "import plotly.express as px\n",
    "from plotly.subplots import make_subplots\n",
    "\n",
    "plt.style.use('seaborn-darkgrid')"
   ]
  },
  {
   "cell_type": "code",
   "execution_count": 2,
   "id": "59ffa9e4",
   "metadata": {},
   "outputs": [],
   "source": [
    "import torch.nn as nn"
   ]
  },
  {
   "cell_type": "markdown",
   "id": "143c80ba",
   "metadata": {},
   "source": [
    "# Data source"
   ]
  },
  {
   "cell_type": "code",
   "execution_count": 3,
   "id": "bf8c5488",
   "metadata": {},
   "outputs": [],
   "source": [
    "#Data Source\n",
    "import yfinance as yf\n",
    "\n",
    "#Data viz\n",
    "import plotly.graph_objs as go\n",
    "\n",
    "#import date time\n",
    "import datetime"
   ]
  },
  {
   "cell_type": "code",
   "execution_count": 4,
   "id": "e92bcda0",
   "metadata": {},
   "outputs": [],
   "source": [
    "# Set start date as 2014-01-01\n",
    "start_date = datetime.datetime(2014, 9, 16)\n",
    "\n",
    "# Set end date as today's date\n",
    "end_date = datetime.datetime.now().strftime('%Y-%m-%d')"
   ]
  },
  {
   "cell_type": "code",
   "execution_count": 5,
   "id": "4b6f6e15",
   "metadata": {},
   "outputs": [],
   "source": [
    "#coin -- change this to predict other coins\n",
    "ticker = 'ETH-USD'"
   ]
  },
  {
   "cell_type": "code",
   "execution_count": 6,
   "id": "70512663",
   "metadata": {},
   "outputs": [
    {
     "name": "stdout",
     "output_type": "stream",
     "text": [
      "[*********************100%***********************]  1 of 1 completed\n"
     ]
    }
   ],
   "source": [
    "data = yf.download(tickers=ticker, start=start_date, end=end_date, interval = '1d')"
   ]
  },
  {
   "cell_type": "code",
   "execution_count": 7,
   "id": "4fb3d558",
   "metadata": {},
   "outputs": [],
   "source": [
    "data.drop(columns=['Adj Close'], inplace=True)"
   ]
  },
  {
   "cell_type": "code",
   "execution_count": 8,
   "id": "ddeb41a9",
   "metadata": {},
   "outputs": [
    {
     "data": {
      "text/html": [
       "<div>\n",
       "<style scoped>\n",
       "    .dataframe tbody tr th:only-of-type {\n",
       "        vertical-align: middle;\n",
       "    }\n",
       "\n",
       "    .dataframe tbody tr th {\n",
       "        vertical-align: top;\n",
       "    }\n",
       "\n",
       "    .dataframe thead th {\n",
       "        text-align: right;\n",
       "    }\n",
       "</style>\n",
       "<table border=\"1\" class=\"dataframe\">\n",
       "  <thead>\n",
       "    <tr style=\"text-align: right;\">\n",
       "      <th></th>\n",
       "      <th>Open</th>\n",
       "      <th>High</th>\n",
       "      <th>Low</th>\n",
       "      <th>Close</th>\n",
       "      <th>Volume</th>\n",
       "    </tr>\n",
       "    <tr>\n",
       "      <th>Date</th>\n",
       "      <th></th>\n",
       "      <th></th>\n",
       "      <th></th>\n",
       "      <th></th>\n",
       "      <th></th>\n",
       "    </tr>\n",
       "  </thead>\n",
       "  <tbody>\n",
       "    <tr>\n",
       "      <th>2017-11-09</th>\n",
       "      <td>308.644989</td>\n",
       "      <td>329.451996</td>\n",
       "      <td>307.056000</td>\n",
       "      <td>320.884003</td>\n",
       "      <td>893249984</td>\n",
       "    </tr>\n",
       "    <tr>\n",
       "      <th>2017-11-10</th>\n",
       "      <td>320.670990</td>\n",
       "      <td>324.717987</td>\n",
       "      <td>294.541992</td>\n",
       "      <td>299.252991</td>\n",
       "      <td>885985984</td>\n",
       "    </tr>\n",
       "    <tr>\n",
       "      <th>2017-11-11</th>\n",
       "      <td>298.585999</td>\n",
       "      <td>319.453003</td>\n",
       "      <td>298.191986</td>\n",
       "      <td>314.681000</td>\n",
       "      <td>842300992</td>\n",
       "    </tr>\n",
       "    <tr>\n",
       "      <th>2017-11-12</th>\n",
       "      <td>314.690002</td>\n",
       "      <td>319.153015</td>\n",
       "      <td>298.513000</td>\n",
       "      <td>307.907990</td>\n",
       "      <td>1613479936</td>\n",
       "    </tr>\n",
       "    <tr>\n",
       "      <th>2017-11-13</th>\n",
       "      <td>307.024994</td>\n",
       "      <td>328.415009</td>\n",
       "      <td>307.024994</td>\n",
       "      <td>316.716003</td>\n",
       "      <td>1041889984</td>\n",
       "    </tr>\n",
       "    <tr>\n",
       "      <th>2017-11-14</th>\n",
       "      <td>316.763000</td>\n",
       "      <td>340.177002</td>\n",
       "      <td>316.763000</td>\n",
       "      <td>337.631012</td>\n",
       "      <td>1069680000</td>\n",
       "    </tr>\n",
       "    <tr>\n",
       "      <th>2017-11-15</th>\n",
       "      <td>337.963989</td>\n",
       "      <td>340.911987</td>\n",
       "      <td>329.812988</td>\n",
       "      <td>333.356995</td>\n",
       "      <td>722665984</td>\n",
       "    </tr>\n",
       "    <tr>\n",
       "      <th>2017-11-16</th>\n",
       "      <td>333.442993</td>\n",
       "      <td>336.158997</td>\n",
       "      <td>323.605988</td>\n",
       "      <td>330.924011</td>\n",
       "      <td>797254016</td>\n",
       "    </tr>\n",
       "    <tr>\n",
       "      <th>2017-11-17</th>\n",
       "      <td>330.166992</td>\n",
       "      <td>334.963989</td>\n",
       "      <td>327.523010</td>\n",
       "      <td>332.394012</td>\n",
       "      <td>621732992</td>\n",
       "    </tr>\n",
       "    <tr>\n",
       "      <th>2017-11-18</th>\n",
       "      <td>331.980011</td>\n",
       "      <td>349.615997</td>\n",
       "      <td>327.687012</td>\n",
       "      <td>347.612000</td>\n",
       "      <td>649638976</td>\n",
       "    </tr>\n",
       "  </tbody>\n",
       "</table>\n",
       "</div>"
      ],
      "text/plain": [
       "                  Open        High         Low       Close      Volume\n",
       "Date                                                                  \n",
       "2017-11-09  308.644989  329.451996  307.056000  320.884003   893249984\n",
       "2017-11-10  320.670990  324.717987  294.541992  299.252991   885985984\n",
       "2017-11-11  298.585999  319.453003  298.191986  314.681000   842300992\n",
       "2017-11-12  314.690002  319.153015  298.513000  307.907990  1613479936\n",
       "2017-11-13  307.024994  328.415009  307.024994  316.716003  1041889984\n",
       "2017-11-14  316.763000  340.177002  316.763000  337.631012  1069680000\n",
       "2017-11-15  337.963989  340.911987  329.812988  333.356995   722665984\n",
       "2017-11-16  333.442993  336.158997  323.605988  330.924011   797254016\n",
       "2017-11-17  330.166992  334.963989  327.523010  332.394012   621732992\n",
       "2017-11-18  331.980011  349.615997  327.687012  347.612000   649638976"
      ]
     },
     "execution_count": 8,
     "metadata": {},
     "output_type": "execute_result"
    }
   ],
   "source": [
    "data.head(10)"
   ]
  },
  {
   "cell_type": "code",
   "execution_count": 9,
   "id": "e0c571bb",
   "metadata": {},
   "outputs": [
    {
     "data": {
      "text/plain": [
       "(2055, 5)"
      ]
     },
     "execution_count": 9,
     "metadata": {},
     "output_type": "execute_result"
    }
   ],
   "source": [
    "data.shape"
   ]
  },
  {
   "cell_type": "markdown",
   "id": "82e89d29",
   "metadata": {},
   "source": [
    "### continue -----------------------"
   ]
  },
  {
   "cell_type": "code",
   "execution_count": 10,
   "id": "7515ba93",
   "metadata": {},
   "outputs": [
    {
     "data": {
      "text/html": [
       "<div>\n",
       "<style scoped>\n",
       "    .dataframe tbody tr th:only-of-type {\n",
       "        vertical-align: middle;\n",
       "    }\n",
       "\n",
       "    .dataframe tbody tr th {\n",
       "        vertical-align: top;\n",
       "    }\n",
       "\n",
       "    .dataframe thead th {\n",
       "        text-align: right;\n",
       "    }\n",
       "</style>\n",
       "<table border=\"1\" class=\"dataframe\">\n",
       "  <thead>\n",
       "    <tr style=\"text-align: right;\">\n",
       "      <th></th>\n",
       "      <th>Open</th>\n",
       "      <th>High</th>\n",
       "      <th>Low</th>\n",
       "      <th>Close</th>\n",
       "      <th>Volume</th>\n",
       "    </tr>\n",
       "    <tr>\n",
       "      <th>Date</th>\n",
       "      <th></th>\n",
       "      <th></th>\n",
       "      <th></th>\n",
       "      <th></th>\n",
       "      <th></th>\n",
       "    </tr>\n",
       "  </thead>\n",
       "  <tbody>\n",
       "    <tr>\n",
       "      <th>2017-11-09</th>\n",
       "      <td>308.644989</td>\n",
       "      <td>329.451996</td>\n",
       "      <td>307.056000</td>\n",
       "      <td>320.884003</td>\n",
       "      <td>893249984</td>\n",
       "    </tr>\n",
       "    <tr>\n",
       "      <th>2017-11-10</th>\n",
       "      <td>320.670990</td>\n",
       "      <td>324.717987</td>\n",
       "      <td>294.541992</td>\n",
       "      <td>299.252991</td>\n",
       "      <td>885985984</td>\n",
       "    </tr>\n",
       "    <tr>\n",
       "      <th>2017-11-11</th>\n",
       "      <td>298.585999</td>\n",
       "      <td>319.453003</td>\n",
       "      <td>298.191986</td>\n",
       "      <td>314.681000</td>\n",
       "      <td>842300992</td>\n",
       "    </tr>\n",
       "    <tr>\n",
       "      <th>2017-11-12</th>\n",
       "      <td>314.690002</td>\n",
       "      <td>319.153015</td>\n",
       "      <td>298.513000</td>\n",
       "      <td>307.907990</td>\n",
       "      <td>1613479936</td>\n",
       "    </tr>\n",
       "    <tr>\n",
       "      <th>2017-11-13</th>\n",
       "      <td>307.024994</td>\n",
       "      <td>328.415009</td>\n",
       "      <td>307.024994</td>\n",
       "      <td>316.716003</td>\n",
       "      <td>1041889984</td>\n",
       "    </tr>\n",
       "    <tr>\n",
       "      <th>2017-11-14</th>\n",
       "      <td>316.763000</td>\n",
       "      <td>340.177002</td>\n",
       "      <td>316.763000</td>\n",
       "      <td>337.631012</td>\n",
       "      <td>1069680000</td>\n",
       "    </tr>\n",
       "    <tr>\n",
       "      <th>2017-11-15</th>\n",
       "      <td>337.963989</td>\n",
       "      <td>340.911987</td>\n",
       "      <td>329.812988</td>\n",
       "      <td>333.356995</td>\n",
       "      <td>722665984</td>\n",
       "    </tr>\n",
       "    <tr>\n",
       "      <th>2017-11-16</th>\n",
       "      <td>333.442993</td>\n",
       "      <td>336.158997</td>\n",
       "      <td>323.605988</td>\n",
       "      <td>330.924011</td>\n",
       "      <td>797254016</td>\n",
       "    </tr>\n",
       "    <tr>\n",
       "      <th>2017-11-17</th>\n",
       "      <td>330.166992</td>\n",
       "      <td>334.963989</td>\n",
       "      <td>327.523010</td>\n",
       "      <td>332.394012</td>\n",
       "      <td>621732992</td>\n",
       "    </tr>\n",
       "    <tr>\n",
       "      <th>2017-11-18</th>\n",
       "      <td>331.980011</td>\n",
       "      <td>349.615997</td>\n",
       "      <td>327.687012</td>\n",
       "      <td>347.612000</td>\n",
       "      <td>649638976</td>\n",
       "    </tr>\n",
       "  </tbody>\n",
       "</table>\n",
       "</div>"
      ],
      "text/plain": [
       "                  Open        High         Low       Close      Volume\n",
       "Date                                                                  \n",
       "2017-11-09  308.644989  329.451996  307.056000  320.884003   893249984\n",
       "2017-11-10  320.670990  324.717987  294.541992  299.252991   885985984\n",
       "2017-11-11  298.585999  319.453003  298.191986  314.681000   842300992\n",
       "2017-11-12  314.690002  319.153015  298.513000  307.907990  1613479936\n",
       "2017-11-13  307.024994  328.415009  307.024994  316.716003  1041889984\n",
       "2017-11-14  316.763000  340.177002  316.763000  337.631012  1069680000\n",
       "2017-11-15  337.963989  340.911987  329.812988  333.356995   722665984\n",
       "2017-11-16  333.442993  336.158997  323.605988  330.924011   797254016\n",
       "2017-11-17  330.166992  334.963989  327.523010  332.394012   621732992\n",
       "2017-11-18  331.980011  349.615997  327.687012  347.612000   649638976"
      ]
     },
     "execution_count": 10,
     "metadata": {},
     "output_type": "execute_result"
    }
   ],
   "source": [
    "data.head(10)"
   ]
  },
  {
   "cell_type": "code",
   "execution_count": 11,
   "id": "ed34ea1f",
   "metadata": {},
   "outputs": [
    {
     "name": "stdout",
     "output_type": "stream",
     "text": [
      "<class 'pandas.core.frame.DataFrame'>\n",
      "DatetimeIndex: 2055 entries, 2017-11-09 to 2023-06-25\n",
      "Data columns (total 5 columns):\n",
      " #   Column  Non-Null Count  Dtype  \n",
      "---  ------  --------------  -----  \n",
      " 0   Open    2055 non-null   float64\n",
      " 1   High    2055 non-null   float64\n",
      " 2   Low     2055 non-null   float64\n",
      " 3   Close   2055 non-null   float64\n",
      " 4   Volume  2055 non-null   int64  \n",
      "dtypes: float64(4), int64(1)\n",
      "memory usage: 96.3 KB\n"
     ]
    }
   ],
   "source": [
    "data.info()\n",
    "#data.dtypes"
   ]
  },
  {
   "cell_type": "code",
   "execution_count": 12,
   "id": "6be04616",
   "metadata": {},
   "outputs": [
    {
     "data": {
      "text/html": [
       "<div>\n",
       "<style scoped>\n",
       "    .dataframe tbody tr th:only-of-type {\n",
       "        vertical-align: middle;\n",
       "    }\n",
       "\n",
       "    .dataframe tbody tr th {\n",
       "        vertical-align: top;\n",
       "    }\n",
       "\n",
       "    .dataframe thead th {\n",
       "        text-align: right;\n",
       "    }\n",
       "</style>\n",
       "<table border=\"1\" class=\"dataframe\">\n",
       "  <thead>\n",
       "    <tr style=\"text-align: right;\">\n",
       "      <th></th>\n",
       "      <th>Open</th>\n",
       "      <th>High</th>\n",
       "      <th>Low</th>\n",
       "      <th>Close</th>\n",
       "      <th>Volume</th>\n",
       "    </tr>\n",
       "  </thead>\n",
       "  <tbody>\n",
       "    <tr>\n",
       "      <th>count</th>\n",
       "      <td>2055.000000</td>\n",
       "      <td>2055.000000</td>\n",
       "      <td>2055.000000</td>\n",
       "      <td>2055.000000</td>\n",
       "      <td>2.055000e+03</td>\n",
       "    </tr>\n",
       "    <tr>\n",
       "      <th>mean</th>\n",
       "      <td>1179.929316</td>\n",
       "      <td>1216.001793</td>\n",
       "      <td>1139.662510</td>\n",
       "      <td>1180.490085</td>\n",
       "      <td>1.247372e+10</td>\n",
       "    </tr>\n",
       "    <tr>\n",
       "      <th>std</th>\n",
       "      <td>1149.598356</td>\n",
       "      <td>1183.848850</td>\n",
       "      <td>1110.313278</td>\n",
       "      <td>1149.107281</td>\n",
       "      <td>1.044160e+10</td>\n",
       "    </tr>\n",
       "    <tr>\n",
       "      <th>min</th>\n",
       "      <td>84.279694</td>\n",
       "      <td>85.342743</td>\n",
       "      <td>82.829887</td>\n",
       "      <td>84.308296</td>\n",
       "      <td>6.217330e+08</td>\n",
       "    </tr>\n",
       "    <tr>\n",
       "      <th>25%</th>\n",
       "      <td>221.643501</td>\n",
       "      <td>226.818649</td>\n",
       "      <td>215.612267</td>\n",
       "      <td>221.775711</td>\n",
       "      <td>4.843964e+09</td>\n",
       "    </tr>\n",
       "    <tr>\n",
       "      <th>50%</th>\n",
       "      <td>659.185059</td>\n",
       "      <td>691.411011</td>\n",
       "      <td>625.014465</td>\n",
       "      <td>662.809021</td>\n",
       "      <td>9.892586e+09</td>\n",
       "    </tr>\n",
       "    <tr>\n",
       "      <th>75%</th>\n",
       "      <td>1813.433411</td>\n",
       "      <td>1844.731506</td>\n",
       "      <td>1770.421631</td>\n",
       "      <td>1813.954468</td>\n",
       "      <td>1.740197e+10</td>\n",
       "    </tr>\n",
       "    <tr>\n",
       "      <th>max</th>\n",
       "      <td>4810.071289</td>\n",
       "      <td>4891.704590</td>\n",
       "      <td>4718.039062</td>\n",
       "      <td>4812.087402</td>\n",
       "      <td>8.448291e+10</td>\n",
       "    </tr>\n",
       "  </tbody>\n",
       "</table>\n",
       "</div>"
      ],
      "text/plain": [
       "              Open         High          Low        Close        Volume\n",
       "count  2055.000000  2055.000000  2055.000000  2055.000000  2.055000e+03\n",
       "mean   1179.929316  1216.001793  1139.662510  1180.490085  1.247372e+10\n",
       "std    1149.598356  1183.848850  1110.313278  1149.107281  1.044160e+10\n",
       "min      84.279694    85.342743    82.829887    84.308296  6.217330e+08\n",
       "25%     221.643501   226.818649   215.612267   221.775711  4.843964e+09\n",
       "50%     659.185059   691.411011   625.014465   662.809021  9.892586e+09\n",
       "75%    1813.433411  1844.731506  1770.421631  1813.954468  1.740197e+10\n",
       "max    4810.071289  4891.704590  4718.039062  4812.087402  8.448291e+10"
      ]
     },
     "execution_count": 12,
     "metadata": {},
     "output_type": "execute_result"
    }
   ],
   "source": [
    "data.describe()"
   ]
  },
  {
   "cell_type": "code",
   "execution_count": 13,
   "id": "b2d5b8a7",
   "metadata": {},
   "outputs": [
    {
     "name": "stdout",
     "output_type": "stream",
     "text": [
      "Null Values: 0\n",
      "If any NA values: False\n"
     ]
    }
   ],
   "source": [
    "print('Null Values:', data.isnull().values.sum())\n",
    "print('If any NA values:', data.isnull().values.any())"
   ]
  },
  {
   "cell_type": "code",
   "execution_count": 14,
   "id": "a151c46c",
   "metadata": {},
   "outputs": [
    {
     "data": {
      "text/html": [
       "<div>\n",
       "<style scoped>\n",
       "    .dataframe tbody tr th:only-of-type {\n",
       "        vertical-align: middle;\n",
       "    }\n",
       "\n",
       "    .dataframe tbody tr th {\n",
       "        vertical-align: top;\n",
       "    }\n",
       "\n",
       "    .dataframe thead th {\n",
       "        text-align: right;\n",
       "    }\n",
       "</style>\n",
       "<table border=\"1\" class=\"dataframe\">\n",
       "  <thead>\n",
       "    <tr style=\"text-align: right;\">\n",
       "      <th></th>\n",
       "      <th>Open</th>\n",
       "      <th>High</th>\n",
       "      <th>Low</th>\n",
       "      <th>Close</th>\n",
       "      <th>Volume</th>\n",
       "    </tr>\n",
       "    <tr>\n",
       "      <th>Date</th>\n",
       "      <th></th>\n",
       "      <th></th>\n",
       "      <th></th>\n",
       "      <th></th>\n",
       "      <th></th>\n",
       "    </tr>\n",
       "  </thead>\n",
       "  <tbody>\n",
       "    <tr>\n",
       "      <th>2023-06-16</th>\n",
       "      <td>1665.410645</td>\n",
       "      <td>1727.289551</td>\n",
       "      <td>1653.170898</td>\n",
       "      <td>1716.668823</td>\n",
       "      <td>6281023479</td>\n",
       "    </tr>\n",
       "    <tr>\n",
       "      <th>2023-06-17</th>\n",
       "      <td>1716.671753</td>\n",
       "      <td>1766.763184</td>\n",
       "      <td>1714.150879</td>\n",
       "      <td>1727.204102</td>\n",
       "      <td>4875187477</td>\n",
       "    </tr>\n",
       "    <tr>\n",
       "      <th>2023-06-18</th>\n",
       "      <td>1727.193726</td>\n",
       "      <td>1746.509155</td>\n",
       "      <td>1718.111450</td>\n",
       "      <td>1720.577515</td>\n",
       "      <td>3820038842</td>\n",
       "    </tr>\n",
       "    <tr>\n",
       "      <th>2023-06-19</th>\n",
       "      <td>1720.505371</td>\n",
       "      <td>1745.134644</td>\n",
       "      <td>1705.813477</td>\n",
       "      <td>1737.659424</td>\n",
       "      <td>5210480121</td>\n",
       "    </tr>\n",
       "    <tr>\n",
       "      <th>2023-06-20</th>\n",
       "      <td>1736.879761</td>\n",
       "      <td>1793.313965</td>\n",
       "      <td>1715.342529</td>\n",
       "      <td>1792.119995</td>\n",
       "      <td>7171072578</td>\n",
       "    </tr>\n",
       "    <tr>\n",
       "      <th>2023-06-21</th>\n",
       "      <td>1791.994995</td>\n",
       "      <td>1898.668945</td>\n",
       "      <td>1788.489258</td>\n",
       "      <td>1891.007202</td>\n",
       "      <td>11731457711</td>\n",
       "    </tr>\n",
       "    <tr>\n",
       "      <th>2023-06-22</th>\n",
       "      <td>1889.794434</td>\n",
       "      <td>1932.065552</td>\n",
       "      <td>1867.876587</td>\n",
       "      <td>1872.942993</td>\n",
       "      <td>8477657143</td>\n",
       "    </tr>\n",
       "    <tr>\n",
       "      <th>2023-06-23</th>\n",
       "      <td>1872.540771</td>\n",
       "      <td>1932.531616</td>\n",
       "      <td>1865.192017</td>\n",
       "      <td>1892.862061</td>\n",
       "      <td>8290615074</td>\n",
       "    </tr>\n",
       "    <tr>\n",
       "      <th>2023-06-24</th>\n",
       "      <td>1893.771973</td>\n",
       "      <td>1905.227417</td>\n",
       "      <td>1867.811523</td>\n",
       "      <td>1876.059692</td>\n",
       "      <td>5026191704</td>\n",
       "    </tr>\n",
       "    <tr>\n",
       "      <th>2023-06-25</th>\n",
       "      <td>1875.849121</td>\n",
       "      <td>1929.079102</td>\n",
       "      <td>1870.850098</td>\n",
       "      <td>1900.506104</td>\n",
       "      <td>6937581709</td>\n",
       "    </tr>\n",
       "  </tbody>\n",
       "</table>\n",
       "</div>"
      ],
      "text/plain": [
       "                   Open         High          Low        Close       Volume\n",
       "Date                                                                       \n",
       "2023-06-16  1665.410645  1727.289551  1653.170898  1716.668823   6281023479\n",
       "2023-06-17  1716.671753  1766.763184  1714.150879  1727.204102   4875187477\n",
       "2023-06-18  1727.193726  1746.509155  1718.111450  1720.577515   3820038842\n",
       "2023-06-19  1720.505371  1745.134644  1705.813477  1737.659424   5210480121\n",
       "2023-06-20  1736.879761  1793.313965  1715.342529  1792.119995   7171072578\n",
       "2023-06-21  1791.994995  1898.668945  1788.489258  1891.007202  11731457711\n",
       "2023-06-22  1889.794434  1932.065552  1867.876587  1872.942993   8477657143\n",
       "2023-06-23  1872.540771  1932.531616  1865.192017  1892.862061   8290615074\n",
       "2023-06-24  1893.771973  1905.227417  1867.811523  1876.059692   5026191704\n",
       "2023-06-25  1875.849121  1929.079102  1870.850098  1900.506104   6937581709"
      ]
     },
     "execution_count": 14,
     "metadata": {},
     "output_type": "execute_result"
    }
   ],
   "source": [
    "data.tail(10)"
   ]
  },
  {
   "cell_type": "code",
   "execution_count": 15,
   "id": "bde8f605",
   "metadata": {},
   "outputs": [
    {
     "data": {
      "text/plain": [
       "<AxesSubplot:title={'center':'Bitcoin Weighted Price'}, xlabel='Date'>"
      ]
     },
     "execution_count": 15,
     "metadata": {},
     "output_type": "execute_result"
    },
    {
     "data": {
      "image/png": "[encoded data removed]",
      "text/plain": [
       "<Figure size 1728x504 with 1 Axes>"
      ]
     },
     "metadata": {},
     "output_type": "display_data"
    }
   ],
   "source": [
    "data.Close.plot(figsize=(24,7), title=\"Bitcoin Weighted Price\")"
   ]
  },
  {
   "cell_type": "markdown",
   "id": "2d9c371e",
   "metadata": {},
   "source": [
    "# Lag plot\n",
    "Lag plot are used to observe the autocorrelation. These are crucial when we try to correct the trend and stationarity and we have to use smoothing functions. Lag plot helps us to understand the data better."
   ]
  },
  {
   "cell_type": "code",
   "execution_count": 16,
   "id": "f1de296b",
   "metadata": {},
   "outputs": [
    {
     "data": {
      "image/png": "[encoded data removed]",
      "text/plain": [
       "<Figure size 1080x864 with 1 Axes>"
      ]
     },
     "metadata": {},
     "output_type": "display_data"
    }
   ],
   "source": [
    "plt.figure(figsize=(15,12))\n",
    "\n",
    "# Create a lag plot with a lag of 1 day\n",
    "pd.plotting.lag_plot(data['Close'], lag=1)\n",
    "\n",
    "# Set plot title and labels\n",
    "plt.title('Bitcoin Close Price Lag Plot (1 day)')\n",
    "plt.xlabel('Close Price (lagged)')\n",
    "plt.ylabel('Close Price (current)')\n",
    "\n",
    "# Display the plot\n",
    "plt.show()"
   ]
  },
  {
   "cell_type": "markdown",
   "id": "48e90ee0",
   "metadata": {},
   "source": [
    "In the lag plot of 1 day for Bitcoin's close price, a strong positive slope straight line is observed. This indicates the presence of a significant positive autocorrelation in the data. The positive autocorrelation suggests that the current day's close price is positively related to the previous day's close price. In other words, when the close price increases on a particular day, there is a higher likelihood of it increasing on the following day as well. This pattern implies the existence of short-term momentum or serial dependence in Bitcoin's close price. However, it is important to further validate this inference using statistical tests and consider additional analysis techniques before making any investment decisions."
   ]
  },
  {
   "cell_type": "markdown",
   "id": "6e5f55c1",
   "metadata": {},
   "source": [
    "# Define input and output"
   ]
  },
  {
   "cell_type": "code",
   "execution_count": 17,
   "id": "3d870765",
   "metadata": {},
   "outputs": [
    {
     "data": {
      "text/plain": [
       "((2055, 4), (2055,))"
      ]
     },
     "execution_count": 17,
     "metadata": {},
     "output_type": "execute_result"
    }
   ],
   "source": [
    "# Our input vector will consists of everything except our target, \"Closing Price\"\n",
    "X, y = data.drop(columns=['Close']), data.Close.values\n",
    "X.shape, y.shape"
   ]
  },
  {
   "cell_type": "code",
   "execution_count": 18,
   "id": "88fda819",
   "metadata": {},
   "outputs": [
    {
     "data": {
      "text/html": [
       "<div>\n",
       "<style scoped>\n",
       "    .dataframe tbody tr th:only-of-type {\n",
       "        vertical-align: middle;\n",
       "    }\n",
       "\n",
       "    .dataframe tbody tr th {\n",
       "        vertical-align: top;\n",
       "    }\n",
       "\n",
       "    .dataframe thead th {\n",
       "        text-align: right;\n",
       "    }\n",
       "</style>\n",
       "<table border=\"1\" class=\"dataframe\">\n",
       "  <thead>\n",
       "    <tr style=\"text-align: right;\">\n",
       "      <th></th>\n",
       "      <th>Open</th>\n",
       "      <th>High</th>\n",
       "      <th>Low</th>\n",
       "      <th>Volume</th>\n",
       "    </tr>\n",
       "    <tr>\n",
       "      <th>Date</th>\n",
       "      <th></th>\n",
       "      <th></th>\n",
       "      <th></th>\n",
       "      <th></th>\n",
       "    </tr>\n",
       "  </thead>\n",
       "  <tbody>\n",
       "    <tr>\n",
       "      <th>2017-11-09</th>\n",
       "      <td>308.644989</td>\n",
       "      <td>329.451996</td>\n",
       "      <td>307.056000</td>\n",
       "      <td>893249984</td>\n",
       "    </tr>\n",
       "    <tr>\n",
       "      <th>2017-11-10</th>\n",
       "      <td>320.670990</td>\n",
       "      <td>324.717987</td>\n",
       "      <td>294.541992</td>\n",
       "      <td>885985984</td>\n",
       "    </tr>\n",
       "    <tr>\n",
       "      <th>2017-11-11</th>\n",
       "      <td>298.585999</td>\n",
       "      <td>319.453003</td>\n",
       "      <td>298.191986</td>\n",
       "      <td>842300992</td>\n",
       "    </tr>\n",
       "    <tr>\n",
       "      <th>2017-11-12</th>\n",
       "      <td>314.690002</td>\n",
       "      <td>319.153015</td>\n",
       "      <td>298.513000</td>\n",
       "      <td>1613479936</td>\n",
       "    </tr>\n",
       "    <tr>\n",
       "      <th>2017-11-13</th>\n",
       "      <td>307.024994</td>\n",
       "      <td>328.415009</td>\n",
       "      <td>307.024994</td>\n",
       "      <td>1041889984</td>\n",
       "    </tr>\n",
       "    <tr>\n",
       "      <th>...</th>\n",
       "      <td>...</td>\n",
       "      <td>...</td>\n",
       "      <td>...</td>\n",
       "      <td>...</td>\n",
       "    </tr>\n",
       "    <tr>\n",
       "      <th>2023-06-21</th>\n",
       "      <td>1791.994995</td>\n",
       "      <td>1898.668945</td>\n",
       "      <td>1788.489258</td>\n",
       "      <td>11731457711</td>\n",
       "    </tr>\n",
       "    <tr>\n",
       "      <th>2023-06-22</th>\n",
       "      <td>1889.794434</td>\n",
       "      <td>1932.065552</td>\n",
       "      <td>1867.876587</td>\n",
       "      <td>8477657143</td>\n",
       "    </tr>\n",
       "    <tr>\n",
       "      <th>2023-06-23</th>\n",
       "      <td>1872.540771</td>\n",
       "      <td>1932.531616</td>\n",
       "      <td>1865.192017</td>\n",
       "      <td>8290615074</td>\n",
       "    </tr>\n",
       "    <tr>\n",
       "      <th>2023-06-24</th>\n",
       "      <td>1893.771973</td>\n",
       "      <td>1905.227417</td>\n",
       "      <td>1867.811523</td>\n",
       "      <td>5026191704</td>\n",
       "    </tr>\n",
       "    <tr>\n",
       "      <th>2023-06-25</th>\n",
       "      <td>1875.849121</td>\n",
       "      <td>1929.079102</td>\n",
       "      <td>1870.850098</td>\n",
       "      <td>6937581709</td>\n",
       "    </tr>\n",
       "  </tbody>\n",
       "</table>\n",
       "<p>2055 rows × 4 columns</p>\n",
       "</div>"
      ],
      "text/plain": [
       "                   Open         High          Low       Volume\n",
       "Date                                                          \n",
       "2017-11-09   308.644989   329.451996   307.056000    893249984\n",
       "2017-11-10   320.670990   324.717987   294.541992    885985984\n",
       "2017-11-11   298.585999   319.453003   298.191986    842300992\n",
       "2017-11-12   314.690002   319.153015   298.513000   1613479936\n",
       "2017-11-13   307.024994   328.415009   307.024994   1041889984\n",
       "...                 ...          ...          ...          ...\n",
       "2023-06-21  1791.994995  1898.668945  1788.489258  11731457711\n",
       "2023-06-22  1889.794434  1932.065552  1867.876587   8477657143\n",
       "2023-06-23  1872.540771  1932.531616  1865.192017   8290615074\n",
       "2023-06-24  1893.771973  1905.227417  1867.811523   5026191704\n",
       "2023-06-25  1875.849121  1929.079102  1870.850098   6937581709\n",
       "\n",
       "[2055 rows x 4 columns]"
      ]
     },
     "execution_count": 18,
     "metadata": {},
     "output_type": "execute_result"
    }
   ],
   "source": [
    "X"
   ]
  },
  {
   "cell_type": "code",
   "execution_count": 19,
   "id": "86a1247d",
   "metadata": {},
   "outputs": [
    {
     "data": {
      "text/plain": [
       "array([ 320.88400269,  299.25299072,  314.68099976, ..., 1892.86206055,\n",
       "       1876.05969238, 1900.50610352])"
      ]
     },
     "execution_count": 19,
     "metadata": {},
     "output_type": "execute_result"
    }
   ],
   "source": [
    "y"
   ]
  },
  {
   "cell_type": "markdown",
   "id": "bcd3ae60",
   "metadata": {},
   "source": [
    "# Preprocessing data"
   ]
  },
  {
   "cell_type": "code",
   "execution_count": 20,
   "id": "d8583b10",
   "metadata": {},
   "outputs": [
    {
     "data": {
      "text/plain": [
       "array([[-0.75808772, -0.74905304, -0.75006683, -1.1093405 ],\n",
       "       [-0.74762413, -0.75305284, -0.76134028, -1.11003634],\n",
       "       [-0.76683985, -0.75750127, -0.75805212, -1.11422111],\n",
       "       ...,\n",
       "       [ 0.60262789,  0.6054018 ,  0.65360481, -0.40071677],\n",
       "       [ 0.62110075,  0.58233226,  0.65596463, -0.71342918],\n",
       "       [ 0.60550642,  0.60248474,  0.65870198, -0.53032935]])"
      ]
     },
     "execution_count": 20,
     "metadata": {},
     "output_type": "execute_result"
    }
   ],
   "source": [
    "from sklearn.preprocessing import StandardScaler, MinMaxScaler\n",
    "mm = MinMaxScaler()\n",
    "ss = StandardScaler()\n",
    "\n",
    "X_trans = ss.fit_transform(X)\n",
    "y_trans = mm.fit_transform(y.reshape(-1, 1))\n",
    "X_trans"
   ]
  },
  {
   "cell_type": "markdown",
   "id": "3a892fa5",
   "metadata": {},
   "source": [
    "Now comes the slightly fiddly part. We want to feed in 100 samples, up to the current day, and predict the next 50 time step values. To do this, we need a special function to ensure that the corresponding indices of X and y represent this structure. Examine this function carefully, but essentially it just boils down to getting 100 samples from X, then looking at the 50 next indices in y, and patching these together. Note that because of this we'll throw out the first 50 values of y."
   ]
  },
  {
   "cell_type": "code",
   "execution_count": 21,
   "id": "905d4869",
   "metadata": {},
   "outputs": [
    {
     "name": "stdout",
     "output_type": "stream",
     "text": [
      "(1907, 100, 4) (1907, 50)\n"
     ]
    }
   ],
   "source": [
    "# split a multivariate sequence past, future samples (X and y)\n",
    "def split_sequences(input_sequences, output_sequence, n_steps_in, n_steps_out):\n",
    "    X, y = list(), list() # instantiate X and y\n",
    "    for i in range(len(input_sequences)):\n",
    "        # find the end of the input, output sequence\n",
    "        end_ix = i + n_steps_in\n",
    "        out_end_ix = end_ix + n_steps_out - 1\n",
    "        # check if we are beyond the dataset\n",
    "        if out_end_ix > len(input_sequences): break\n",
    "        # gather input and output of the pattern\n",
    "        seq_x, seq_y = input_sequences[i:end_ix], output_sequence[end_ix-1:out_end_ix, -1]\n",
    "        X.append(seq_x), y.append(seq_y)\n",
    "    return np.array(X), np.array(y)\n",
    "\n",
    "X_ss, y_mm = split_sequences(X_trans, y_trans, 100, 50)\n",
    "print(X_ss.shape, y_mm.shape)"
   ]
  },
  {
   "cell_type": "code",
   "execution_count": 22,
   "id": "a84ea89c",
   "metadata": {},
   "outputs": [],
   "source": [
    "assert y_mm[0].all() == y_trans[99:149].squeeze(1).all()"
   ]
  },
  {
   "cell_type": "code",
   "execution_count": 23,
   "id": "d2ee53ff",
   "metadata": {},
   "outputs": [
    {
     "data": {
      "text/plain": [
       "array([0.18188281, 0.18820818, 0.17759136, 0.18180983, 0.17155257,\n",
       "       0.16194976, 0.15409702, 0.1649571 , 0.15994967, 0.16085813,\n",
       "       0.16604132, 0.16793439, 0.16305556, 0.16665155, 0.16340542,\n",
       "       0.16348409, 0.16548355, 0.16273513, 0.15496551, 0.14140312,\n",
       "       0.13120065, 0.13634472, 0.12745556, 0.13516509, 0.13019278,\n",
       "       0.1282883 , 0.11209972, 0.11146792, 0.10942933, 0.09908896,\n",
       "       0.09609918, 0.09992381, 0.10001878, 0.10098266, 0.09632297,\n",
       "       0.09630541, 0.09351764, 0.09306245, 0.08579984, 0.07737411,\n",
       "       0.07656252, 0.06380579, 0.06564112, 0.06602438, 0.06246034,\n",
       "       0.06390246, 0.07034692, 0.06265832, 0.06322709, 0.06048859])"
      ]
     },
     "execution_count": 23,
     "metadata": {},
     "output_type": "execute_result"
    }
   ],
   "source": [
    "y_mm[0]"
   ]
  },
  {
   "cell_type": "code",
   "execution_count": 24,
   "id": "2dd86f45",
   "metadata": {},
   "outputs": [
    {
     "name": "stdout",
     "output_type": "stream",
     "text": [
      "Training Shape: (1757, 100, 4) (1757, 50)\n",
      "Testing Shape: (150, 100, 4) (150, 50)\n"
     ]
    }
   ],
   "source": [
    "total_samples = len(X)\n",
    "train_test_cutoff = round(0.90 * total_samples)\n",
    "\n",
    "X_train = X_ss[:-150]\n",
    "X_test = X_ss[-150:]\n",
    "\n",
    "y_train = y_mm[:-150]\n",
    "y_test = y_mm[-150:] \n",
    "\n",
    "print(\"Training Shape:\", X_train.shape, y_train.shape)\n",
    "print(\"Testing Shape:\", X_test.shape, y_test.shape) "
   ]
  },
  {
   "cell_type": "code",
   "execution_count": 25,
   "id": "3b1f2512",
   "metadata": {},
   "outputs": [
    {
     "name": "stdout",
     "output_type": "stream",
     "text": [
      "150\n"
     ]
    }
   ],
   "source": [
    "import torch\n",
    "from torch.autograd import Variable\n",
    "# convert to pytorch tensors\n",
    "X_train_tensors = Variable(torch.Tensor(X_train))\n",
    "print(len(X_test))\n",
    "X_test_tensors = Variable(torch.Tensor(X_test))\n",
    "\n",
    "y_train_tensors = Variable(torch.Tensor(y_train))\n",
    "y_test_tensors = Variable(torch.Tensor(y_test))"
   ]
  },
  {
   "cell_type": "code",
   "execution_count": 26,
   "id": "1d1a0c96",
   "metadata": {},
   "outputs": [
    {
     "name": "stdout",
     "output_type": "stream",
     "text": [
      "Training Shape: torch.Size([1757, 100, 4]) torch.Size([1757, 50])\n",
      "Testing Shape: torch.Size([150, 100, 4]) torch.Size([150, 50])\n"
     ]
    }
   ],
   "source": [
    "# reshaping to rows, timestamps, features\n",
    "X_train_tensors_final = torch.reshape(X_train_tensors,   \n",
    "                                      (X_train_tensors.shape[0], 100, \n",
    "                                       X_train_tensors.shape[2]))\n",
    "X_test_tensors_final = torch.reshape(X_test_tensors,  \n",
    "                                     (X_test_tensors.shape[0], 100, \n",
    "                                      X_test_tensors.shape[2])) \n",
    "\n",
    "print(\"Training Shape:\", X_train_tensors_final.shape, y_train_tensors.shape)\n",
    "print(\"Testing Shape:\", X_test_tensors_final.shape, y_test_tensors.shape) "
   ]
  },
  {
   "cell_type": "code",
   "execution_count": 27,
   "id": "653d6b40",
   "metadata": {},
   "outputs": [
    {
     "data": {
      "text/plain": [
       "array([[1.59812537e+03, 1.60470410e+03, 1.56539014e+03, 5.80365336e+09],\n",
       "       [1.57262952e+03, 1.65372498e+03, 1.56898486e+03, 8.80129230e+09],\n",
       "       [1.64614771e+03, 1.64665161e+03, 1.54666077e+03, 9.18041812e+09],\n",
       "       [1.56741992e+03, 1.59851758e+03, 1.56380432e+03, 6.58519102e+09]])"
      ]
     },
     "execution_count": 27,
     "metadata": {},
     "output_type": "execute_result"
    }
   ],
   "source": [
    "X_check, y_check = split_sequences(X, y.reshape(-1, 1), 100, 50)\n",
    "X_check[-1][0:4]"
   ]
  },
  {
   "cell_type": "code",
   "execution_count": 28,
   "id": "8585d74d",
   "metadata": {},
   "outputs": [
    {
     "data": {
      "text/plain": [
       "array([1873.07641602, 1849.04272461, 1848.60314941, 1842.40148926,\n",
       "       1796.49060059, 1808.01977539, 1796.11486816, 1800.50097656,\n",
       "       1817.54992676, 1824.12145996, 1821.85961914, 1801.72851562,\n",
       "       1812.58947754, 1820.47802734, 1804.53137207, 1817.53479004,\n",
       "       1854.38061523, 1800.09997559, 1805.95373535, 1828.68969727,\n",
       "       1831.11828613, 1910.91418457, 1893.078125  , 1901.02661133,\n",
       "       1874.13049316, 1862.20141602, 1907.2565918 , 1892.41247559,\n",
       "       1890.5135498 , 1811.82836914, 1884.49487305, 1832.39599609,\n",
       "       1846.30187988, 1840.22521973, 1752.38476562, 1753.4152832 ,\n",
       "       1742.52868652, 1739.03759766, 1650.51928711, 1665.51977539,\n",
       "       1716.66882324, 1727.20410156, 1720.57751465, 1737.65942383,\n",
       "       1792.11999512, 1891.00720215, 1872.94299316, 1892.86206055,\n",
       "       1876.05969238, 1900.50610352])"
      ]
     },
     "execution_count": 28,
     "metadata": {},
     "output_type": "execute_result"
    }
   ],
   "source": [
    "y_check[-1]"
   ]
  },
  {
   "cell_type": "code",
   "execution_count": 29,
   "id": "dd1135e6",
   "metadata": {},
   "outputs": [
    {
     "data": {
      "text/plain": [
       "array([1873.07641602, 1849.04272461, 1848.60314941, 1842.40148926,\n",
       "       1796.49060059, 1808.01977539, 1796.11486816, 1800.50097656,\n",
       "       1817.54992676, 1824.12145996, 1821.85961914, 1801.72851562,\n",
       "       1812.58947754, 1820.47802734, 1804.53137207, 1817.53479004,\n",
       "       1854.38061523, 1800.09997559, 1805.95373535, 1828.68969727,\n",
       "       1831.11828613, 1910.91418457, 1893.078125  , 1901.02661133,\n",
       "       1874.13049316, 1862.20141602, 1907.2565918 , 1892.41247559,\n",
       "       1890.5135498 , 1811.82836914, 1884.49487305, 1832.39599609,\n",
       "       1846.30187988, 1840.22521973, 1752.38476562, 1753.4152832 ,\n",
       "       1742.52868652, 1739.03759766, 1650.51928711, 1665.51977539,\n",
       "       1716.66882324, 1727.20410156, 1720.57751465, 1737.65942383,\n",
       "       1792.11999512, 1891.00720215, 1872.94299316, 1892.86206055,\n",
       "       1876.05969238, 1900.50610352])"
      ]
     },
     "execution_count": 29,
     "metadata": {},
     "output_type": "execute_result"
    }
   ],
   "source": [
    "data.Close.values[-50:]"
   ]
  },
  {
   "cell_type": "markdown",
   "id": "8bf7ef73",
   "metadata": {},
   "source": [
    "# Build the model"
   ]
  },
  {
   "cell_type": "code",
   "execution_count": 30,
   "id": "2e410b3a",
   "metadata": {},
   "outputs": [],
   "source": [
    "class LSTM(nn.Module):\n",
    "    \n",
    "    def __init__(self, num_classes, input_size, hidden_size, num_layers):\n",
    "        super().__init__()\n",
    "        self.num_classes = num_classes # output size\n",
    "        self.num_layers = num_layers # number of recurrent layers in the lstm\n",
    "        self.input_size = input_size # input size\n",
    "        self.hidden_size = hidden_size # neurons in each lstm layer\n",
    "        # LSTM model\n",
    "        self.lstm = nn.LSTM(input_size=input_size, hidden_size=hidden_size,\n",
    "                            num_layers=num_layers, batch_first=True, dropout=0.2) # lstm\n",
    "        self.fc_1 =  nn.Linear(hidden_size, 128) # fully connected \n",
    "        self.fc_2 = nn.Linear(128, num_classes) # fully connected last layer\n",
    "        self.relu = nn.ReLU()\n",
    "        \n",
    "    def forward(self,x):\n",
    "        # hidden state\n",
    "        h_0 = Variable(torch.zeros(self.num_layers, x.size(0), self.hidden_size))\n",
    "        # cell state\n",
    "        c_0 = Variable(torch.zeros(self.num_layers, x.size(0), self.hidden_size))\n",
    "        # propagate input through LSTM\n",
    "        output, (hn, cn) = self.lstm(x, (h_0, c_0)) # (input, hidden, and internal state)\n",
    "        hn = hn.view(-1, self.hidden_size) # reshaping the data for Dense layer next\n",
    "        out = self.relu(hn)\n",
    "        out = self.fc_1(out) # first dense\n",
    "        out = self.relu(out) # relu\n",
    "        out = self.fc_2(out) # final output\n",
    "        return out"
   ]
  },
  {
   "cell_type": "code",
   "execution_count": 31,
   "id": "03cdb576",
   "metadata": {},
   "outputs": [],
   "source": [
    "def training_loop(n_epochs, lstm, optimiser, loss_fn, X_train, y_train,\n",
    "                  X_test, y_test):\n",
    "    for epoch in range(n_epochs):\n",
    "        lstm.train()\n",
    "        outputs = lstm.forward(X_train) # forward pass\n",
    "        optimiser.zero_grad() # calculate the gradient, manually setting to 0\n",
    "        # obtain the loss function\n",
    "        loss = loss_fn(outputs, y_train)\n",
    "        loss.backward() # calculates the loss of the loss function\n",
    "        optimiser.step() # improve from loss, i.e backprop\n",
    "        # test loss\n",
    "        lstm.eval()\n",
    "        test_preds = lstm(X_test)\n",
    "        test_loss = loss_fn(test_preds, y_test)\n",
    "        if epoch % 100 == 0:\n",
    "            print(\"Epoch: %d, train loss: %1.5f, test loss: %1.5f\" % (epoch, \n",
    "                                                                      loss.item(), \n",
    "                                                                      test_loss.item())) \n",
    "            "
   ]
  },
  {
   "cell_type": "code",
   "execution_count": 32,
   "id": "28ae3dbb",
   "metadata": {},
   "outputs": [],
   "source": [
    "n_epochs = 1000 # 1000 epochs\n",
    "learning_rate = 0.001 # 0.001 lr\n",
    "\n",
    "input_size = 4 # number of features\n",
    "hidden_size = 2 # number of features in hidden state\n",
    "num_layers = 1 # number of stacked lstm layers\n",
    "\n",
    "num_classes = 50 # number of output classes \n",
    "\n",
    "lstm = LSTM(num_classes, \n",
    "              input_size, \n",
    "              hidden_size, \n",
    "              num_layers)"
   ]
  },
  {
   "cell_type": "code",
   "execution_count": 33,
   "id": "a008aa36",
   "metadata": {},
   "outputs": [],
   "source": [
    "loss_fn = torch.nn.MSELoss()    # mean-squared error for regression\n",
    "optimiser = torch.optim.Adam(lstm.parameters(), lr=learning_rate)"
   ]
  },
  {
   "cell_type": "code",
   "execution_count": 34,
   "id": "f92ab0e9",
   "metadata": {},
   "outputs": [
    {
     "name": "stdout",
     "output_type": "stream",
     "text": [
      "Epoch: 0, train loss: 0.14475, test loss: 0.12202\n",
      "Epoch: 100, train loss: 0.01422, test loss: 0.02717\n",
      "Epoch: 200, train loss: 0.00791, test loss: 0.01130\n",
      "Epoch: 300, train loss: 0.00656, test loss: 0.00654\n",
      "Epoch: 400, train loss: 0.00600, test loss: 0.00561\n",
      "Epoch: 500, train loss: 0.00577, test loss: 0.00538\n",
      "Epoch: 600, train loss: 0.00569, test loss: 0.00536\n",
      "Epoch: 700, train loss: 0.00565, test loss: 0.00533\n",
      "Epoch: 800, train loss: 0.00562, test loss: 0.00526\n",
      "Epoch: 900, train loss: 0.00560, test loss: 0.00522\n"
     ]
    }
   ],
   "source": [
    "training_loop(n_epochs=n_epochs,\n",
    "              lstm=lstm,\n",
    "              optimiser=optimiser,\n",
    "              loss_fn=loss_fn,\n",
    "              X_train=X_train_tensors_final,\n",
    "              y_train=y_train_tensors,\n",
    "              X_test=X_test_tensors_final,\n",
    "              y_test=y_test_tensors)"
   ]
  },
  {
   "cell_type": "markdown",
   "id": "4a6475c0",
   "metadata": {},
   "source": [
    "# Prediction on train set"
   ]
  },
  {
   "cell_type": "code",
   "execution_count": 35,
   "id": "628be592",
   "metadata": {},
   "outputs": [
    {
     "name": "stdout",
     "output_type": "stream",
     "text": [
      "2055\n",
      "2055\n",
      "1907\n",
      "1907\n"
     ]
    },
    {
     "data": {
      "image/png": "[encoded data removed]",
      "text/plain": [
       "<Figure size 720x432 with 1 Axes>"
      ]
     },
     "metadata": {},
     "output_type": "display_data"
    }
   ],
   "source": [
    "df_X_ss = ss.transform(data.drop(columns=['Close'])) # old transformers\n",
    "print(len(df_X_ss))\n",
    "df_y_mm = mm.transform(data.Close.values.reshape(-1, 1)) # old transformers\n",
    "print(len(df_y_mm))\n",
    "# split the sequence\n",
    "\n",
    "past_days = 100\n",
    "next_pred_days = 50\n",
    "df_X_ss, df_y_mm = split_sequences(df_X_ss, df_y_mm, past_days, next_pred_days)\n",
    "\n",
    "\n",
    "# converting to tensors\n",
    "df_X_ss = Variable(torch.Tensor(df_X_ss))\n",
    "df_y_mm = Variable(torch.Tensor(df_y_mm))\n",
    "# reshaping the dataset\n",
    "df_X_ss = torch.reshape(df_X_ss, (df_X_ss.shape[0], 100, df_X_ss.shape[2]))\n",
    "print(len(df_X_ss))\n",
    "\n",
    "train_predict = lstm(df_X_ss) # forward pass\n",
    "data_predict = train_predict.data.numpy() # numpy conversion\n",
    "dataY_plot = df_y_mm.data.numpy()\n",
    "\n",
    "data_predict = mm.inverse_transform(data_predict) # reverse transformation\n",
    "dataY_plot = mm.inverse_transform(dataY_plot)\n",
    "true, preds = [], []\n",
    "for i in range(len(dataY_plot)):\n",
    "    true.append(dataY_plot[i][0])\n",
    "for i in range(len(data_predict)):\n",
    "    preds.append(data_predict[i][0])\n",
    "plt.figure(figsize=(10,6)) #plotting\n",
    "print(len(preds))\n",
    "plt.axvline(x=train_test_cutoff, c='r', linestyle='--') # size of the training set\n",
    "\n",
    "plt.plot(true, label='Actual Data') # actual plot\n",
    "plt.plot(preds, label='Predicted Data') # predicted plot\n",
    "plt.title('Time-Series Prediction')\n",
    "plt.legend()\n",
    "plt.show() "
   ]
  },
  {
   "cell_type": "markdown",
   "id": "09bbed69",
   "metadata": {},
   "source": [
    "# Prediction on test set"
   ]
  },
  {
   "cell_type": "code",
   "execution_count": 36,
   "id": "cb825366",
   "metadata": {},
   "outputs": [
    {
     "data": {
      "image/png": "[encoded data removed]",
      "text/plain": [
       "<Figure size 432x288 with 1 Axes>"
      ]
     },
     "metadata": {},
     "output_type": "display_data"
    }
   ],
   "source": [
    "test_predict = lstm(X_test_tensors_final[-1].unsqueeze(0)) # get the last sample\n",
    "test_predict = test_predict.detach().numpy()\n",
    "test_predict = mm.inverse_transform(test_predict)\n",
    "test_predict = test_predict[0].tolist()\n",
    "\n",
    "test_target = y_test_tensors[-1].detach().numpy() # last sample again\n",
    "test_target = mm.inverse_transform(test_target.reshape(1, -1))\n",
    "test_target = test_target[0].tolist()\n",
    "\n",
    "plt.plot(test_target, label=\"Actual Data\")\n",
    "plt.plot(test_predict, label=\"LSTM Predictions\")\n",
    "plt.show()"
   ]
  },
  {
   "cell_type": "code",
   "execution_count": 37,
   "id": "8716edf0",
   "metadata": {},
   "outputs": [
    {
     "name": "stdout",
     "output_type": "stream",
     "text": [
      "[ 320.88400269  299.25299072  314.68099976 ... 1892.86206055 1876.05969238\n",
      " 1900.50610352]\n"
     ]
    },
    {
     "data": {
      "image/png": "[encoded data removed]",
      "text/plain": [
       "<Figure size 720x432 with 1 Axes>"
      ]
     },
     "metadata": {},
     "output_type": "display_data"
    }
   ],
   "source": [
    "plt.figure(figsize=(10,6)) #plotting\n",
    "print(y)\n",
    "a = [x for x in range(1750, len(y))]\n",
    "plt.plot(a, y[1750:], label='Actual data');\n",
    "c = [x for x in range(len(y)-50, len(y))]\n",
    "plt.plot(c, test_predict, label='One-shot multi-step prediction (50 days)')\n",
    "plt.axvline(x=len(y)-50, c='r', linestyle='--')\n",
    "plt.legend()\n",
    "plt.show()"
   ]
  },
  {
   "cell_type": "code",
   "execution_count": 38,
   "id": "315be772",
   "metadata": {},
   "outputs": [
    {
     "name": "stdout",
     "output_type": "stream",
     "text": [
      "RMSE score:  298.7980524900555\n",
      "MAPE score:  0.15086919975586588\n"
     ]
    }
   ],
   "source": [
    "#RMSE\n",
    "from math import sqrt\n",
    "from sklearn.metrics import mean_squared_error\n",
    "rms = sqrt(mean_squared_error(test_target,test_predict))\n",
    "\n",
    "#MAPE\n",
    "from sklearn.metrics import mean_absolute_percentage_error\n",
    "mapescore = mean_absolute_percentage_error(test_target,test_predict)\n",
    "\n",
    "#Print\n",
    "print(\"RMSE score: \", rms)\n",
    "print(\"MAPE score: \", mapescore)"
   ]
  },
  {
   "cell_type": "code",
   "execution_count": null,
   "id": "a5bce2b8",
   "metadata": {},
   "outputs": [],
   "source": []
  }
 ],
 "metadata": {
  "kernelspec": {
   "display_name": "Python 3 (ipykernel)",
   "language": "python",
   "name": "python3"
  },
  "language_info": {
   "codemirror_mode": {
    "name": "ipython",
    "version": 3
   },
   "file_extension": ".py",
   "mimetype": "text/x-python",
   "name": "python",
   "nbconvert_exporter": "python",
   "pygments_lexer": "ipython3",
   "version": "3.9.12"
  }
 },
 "nbformat": 4,
 "nbformat_minor": 5
}
